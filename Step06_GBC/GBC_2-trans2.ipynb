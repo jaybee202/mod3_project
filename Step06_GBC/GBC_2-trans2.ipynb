{
 "cells": [
  {
   "cell_type": "code",
   "execution_count": 1,
   "metadata": {},
   "outputs": [],
   "source": [
    "import pickle\n",
    "import pandas as pd\n",
    "X_train = pd.read_csv('../data/X_train_trans2.csv', index_col=0)\n",
    "pickle_in = open('../data/y_train.pickle', 'rb')\n",
    "y_train = pickle.load(pickle_in)"
   ]
  },
  {
   "cell_type": "code",
   "execution_count": 2,
   "metadata": {},
   "outputs": [],
   "source": [
    "from sklearn.ensemble import GradientBoostingClassifier"
   ]
  },
  {
   "cell_type": "code",
   "execution_count": 3,
   "metadata": {},
   "outputs": [
    {
     "data": {
      "text/html": [
       "<div>\n",
       "<style scoped>\n",
       "    .dataframe tbody tr th:only-of-type {\n",
       "        vertical-align: middle;\n",
       "    }\n",
       "\n",
       "    .dataframe tbody tr th {\n",
       "        vertical-align: top;\n",
       "    }\n",
       "\n",
       "    .dataframe thead th {\n",
       "        text-align: right;\n",
       "    }\n",
       "</style>\n",
       "<table border=\"1\" class=\"dataframe\">\n",
       "  <thead>\n",
       "    <tr style=\"text-align: right;\">\n",
       "      <th></th>\n",
       "      <th>account_length</th>\n",
       "      <th>number_vmail_messages</th>\n",
       "      <th>total_day_minutes</th>\n",
       "      <th>total_day_calls</th>\n",
       "      <th>total_day_charge</th>\n",
       "      <th>total_eve_minutes</th>\n",
       "      <th>total_eve_calls</th>\n",
       "      <th>total_eve_charge</th>\n",
       "      <th>total_night_minutes</th>\n",
       "      <th>total_night_calls</th>\n",
       "      <th>...</th>\n",
       "      <th>total_intl_calls</th>\n",
       "      <th>total_intl_charge</th>\n",
       "      <th>customer_service_calls</th>\n",
       "      <th>total_minutes</th>\n",
       "      <th>total_calls</th>\n",
       "      <th>total_charge</th>\n",
       "      <th>x0_415</th>\n",
       "      <th>x0_510</th>\n",
       "      <th>x1_yes</th>\n",
       "      <th>x2_yes</th>\n",
       "    </tr>\n",
       "  </thead>\n",
       "  <tbody>\n",
       "    <tr>\n",
       "      <td>0</td>\n",
       "      <td>-1.508366</td>\n",
       "      <td>1.658110</td>\n",
       "      <td>0.832457</td>\n",
       "      <td>-1.530204</td>\n",
       "      <td>0.832508</td>\n",
       "      <td>-1.310525</td>\n",
       "      <td>-0.972401</td>\n",
       "      <td>-1.311142</td>\n",
       "      <td>-1.616872</td>\n",
       "      <td>0.193381</td>\n",
       "      <td>...</td>\n",
       "      <td>0.224309</td>\n",
       "      <td>-0.981136</td>\n",
       "      <td>-0.426884</td>\n",
       "      <td>-1.152825</td>\n",
       "      <td>-1.331638</td>\n",
       "      <td>-0.219875</td>\n",
       "      <td>0.0</td>\n",
       "      <td>0.0</td>\n",
       "      <td>0.0</td>\n",
       "      <td>1.0</td>\n",
       "    </tr>\n",
       "    <tr>\n",
       "      <td>1</td>\n",
       "      <td>0.432612</td>\n",
       "      <td>-0.592293</td>\n",
       "      <td>0.808653</td>\n",
       "      <td>-0.097455</td>\n",
       "      <td>0.808811</td>\n",
       "      <td>0.379882</td>\n",
       "      <td>0.040214</td>\n",
       "      <td>0.379595</td>\n",
       "      <td>0.056732</td>\n",
       "      <td>0.913424</td>\n",
       "      <td>...</td>\n",
       "      <td>0.633467</td>\n",
       "      <td>-1.416169</td>\n",
       "      <td>-1.191800</td>\n",
       "      <td>0.685933</td>\n",
       "      <td>0.526322</td>\n",
       "      <td>0.774870</td>\n",
       "      <td>0.0</td>\n",
       "      <td>1.0</td>\n",
       "      <td>1.0</td>\n",
       "      <td>0.0</td>\n",
       "    </tr>\n",
       "    <tr>\n",
       "      <td>2</td>\n",
       "      <td>-0.264149</td>\n",
       "      <td>-0.592293</td>\n",
       "      <td>-0.061110</td>\n",
       "      <td>0.544812</td>\n",
       "      <td>-0.061490</td>\n",
       "      <td>1.648178</td>\n",
       "      <td>0.749044</td>\n",
       "      <td>1.647648</td>\n",
       "      <td>-1.006287</td>\n",
       "      <td>1.119150</td>\n",
       "      <td>...</td>\n",
       "      <td>1.042625</td>\n",
       "      <td>0.969925</td>\n",
       "      <td>-0.426884</td>\n",
       "      <td>0.363710</td>\n",
       "      <td>1.455301</td>\n",
       "      <td>0.475691</td>\n",
       "      <td>1.0</td>\n",
       "      <td>0.0</td>\n",
       "      <td>0.0</td>\n",
       "      <td>0.0</td>\n",
       "    </tr>\n",
       "    <tr>\n",
       "      <td>3</td>\n",
       "      <td>-0.264149</td>\n",
       "      <td>-0.592293</td>\n",
       "      <td>-0.617759</td>\n",
       "      <td>-0.393886</td>\n",
       "      <td>-0.617276</td>\n",
       "      <td>0.322946</td>\n",
       "      <td>0.698414</td>\n",
       "      <td>0.321851</td>\n",
       "      <td>-1.084361</td>\n",
       "      <td>1.170582</td>\n",
       "      <td>...</td>\n",
       "      <td>-1.003165</td>\n",
       "      <td>0.218503</td>\n",
       "      <td>1.102947</td>\n",
       "      <td>-0.778915</td>\n",
       "      <td>0.758566</td>\n",
       "      <td>-0.623814</td>\n",
       "      <td>1.0</td>\n",
       "      <td>0.0</td>\n",
       "      <td>0.0</td>\n",
       "      <td>0.0</td>\n",
       "    </tr>\n",
       "    <tr>\n",
       "      <td>4</td>\n",
       "      <td>0.581918</td>\n",
       "      <td>-0.592293</td>\n",
       "      <td>-0.181961</td>\n",
       "      <td>0.396596</td>\n",
       "      <td>-0.182125</td>\n",
       "      <td>-0.444707</td>\n",
       "      <td>-0.466094</td>\n",
       "      <td>-0.444986</td>\n",
       "      <td>0.825468</td>\n",
       "      <td>-0.938114</td>\n",
       "      <td>...</td>\n",
       "      <td>-0.594007</td>\n",
       "      <td>0.679902</td>\n",
       "      <td>-0.426884</td>\n",
       "      <td>0.116270</td>\n",
       "      <td>-0.605873</td>\n",
       "      <td>-0.117947</td>\n",
       "      <td>0.0</td>\n",
       "      <td>1.0</td>\n",
       "      <td>0.0</td>\n",
       "      <td>0.0</td>\n",
       "    </tr>\n",
       "    <tr>\n",
       "      <td>...</td>\n",
       "      <td>...</td>\n",
       "      <td>...</td>\n",
       "      <td>...</td>\n",
       "      <td>...</td>\n",
       "      <td>...</td>\n",
       "      <td>...</td>\n",
       "      <td>...</td>\n",
       "      <td>...</td>\n",
       "      <td>...</td>\n",
       "      <td>...</td>\n",
       "      <td>...</td>\n",
       "      <td>...</td>\n",
       "      <td>...</td>\n",
       "      <td>...</td>\n",
       "      <td>...</td>\n",
       "      <td>...</td>\n",
       "      <td>...</td>\n",
       "      <td>...</td>\n",
       "      <td>...</td>\n",
       "      <td>...</td>\n",
       "      <td>...</td>\n",
       "    </tr>\n",
       "    <tr>\n",
       "      <td>2328</td>\n",
       "      <td>-0.363687</td>\n",
       "      <td>-0.592293</td>\n",
       "      <td>-1.753029</td>\n",
       "      <td>-0.196265</td>\n",
       "      <td>-1.752545</td>\n",
       "      <td>0.389698</td>\n",
       "      <td>-1.883755</td>\n",
       "      <td>0.388834</td>\n",
       "      <td>2.975528</td>\n",
       "      <td>-1.298135</td>\n",
       "      <td>...</td>\n",
       "      <td>-0.594007</td>\n",
       "      <td>0.824914</td>\n",
       "      <td>-1.191800</td>\n",
       "      <td>0.825599</td>\n",
       "      <td>-1.970312</td>\n",
       "      <td>-0.686103</td>\n",
       "      <td>1.0</td>\n",
       "      <td>0.0</td>\n",
       "      <td>0.0</td>\n",
       "      <td>0.0</td>\n",
       "    </tr>\n",
       "    <tr>\n",
       "      <td>2329</td>\n",
       "      <td>0.407728</td>\n",
       "      <td>-0.592293</td>\n",
       "      <td>1.110782</td>\n",
       "      <td>-0.789127</td>\n",
       "      <td>1.110401</td>\n",
       "      <td>-0.519313</td>\n",
       "      <td>0.293368</td>\n",
       "      <td>-0.518898</td>\n",
       "      <td>0.168839</td>\n",
       "      <td>-0.372367</td>\n",
       "      <td>...</td>\n",
       "      <td>-1.003165</td>\n",
       "      <td>-0.163799</td>\n",
       "      <td>-1.191800</td>\n",
       "      <td>0.463786</td>\n",
       "      <td>-0.576842</td>\n",
       "      <td>0.785251</td>\n",
       "      <td>0.0</td>\n",
       "      <td>0.0</td>\n",
       "      <td>0.0</td>\n",
       "      <td>0.0</td>\n",
       "    </tr>\n",
       "    <tr>\n",
       "      <td>2330</td>\n",
       "      <td>0.606802</td>\n",
       "      <td>-0.592293</td>\n",
       "      <td>-0.771569</td>\n",
       "      <td>-0.295075</td>\n",
       "      <td>-0.771302</td>\n",
       "      <td>0.167845</td>\n",
       "      <td>-0.871140</td>\n",
       "      <td>0.167098</td>\n",
       "      <td>0.747393</td>\n",
       "      <td>0.707697</td>\n",
       "      <td>...</td>\n",
       "      <td>-0.184849</td>\n",
       "      <td>-0.598833</td>\n",
       "      <td>-0.426884</td>\n",
       "      <td>0.022792</td>\n",
       "      <td>-0.286536</td>\n",
       "      <td>-0.491684</td>\n",
       "      <td>0.0</td>\n",
       "      <td>0.0</td>\n",
       "      <td>0.0</td>\n",
       "      <td>0.0</td>\n",
       "    </tr>\n",
       "    <tr>\n",
       "      <td>2331</td>\n",
       "      <td>-0.911142</td>\n",
       "      <td>1.367735</td>\n",
       "      <td>0.403984</td>\n",
       "      <td>0.050760</td>\n",
       "      <td>0.403820</td>\n",
       "      <td>-1.127938</td>\n",
       "      <td>-0.567355</td>\n",
       "      <td>-1.128672</td>\n",
       "      <td>-1.018298</td>\n",
       "      <td>1.376308</td>\n",
       "      <td>...</td>\n",
       "      <td>-0.594007</td>\n",
       "      <td>0.719451</td>\n",
       "      <td>-0.426884</td>\n",
       "      <td>-0.926279</td>\n",
       "      <td>0.439230</td>\n",
       "      <td>-0.271783</td>\n",
       "      <td>1.0</td>\n",
       "      <td>0.0</td>\n",
       "      <td>0.0</td>\n",
       "      <td>1.0</td>\n",
       "    </tr>\n",
       "    <tr>\n",
       "      <td>2332</td>\n",
       "      <td>0.930299</td>\n",
       "      <td>-0.592293</td>\n",
       "      <td>-2.430529</td>\n",
       "      <td>0.198976</td>\n",
       "      <td>-2.430044</td>\n",
       "      <td>-0.299422</td>\n",
       "      <td>0.698414</td>\n",
       "      <td>-0.299472</td>\n",
       "      <td>-0.671966</td>\n",
       "      <td>-0.269503</td>\n",
       "      <td>...</td>\n",
       "      <td>-0.184849</td>\n",
       "      <td>-0.242897</td>\n",
       "      <td>1.867863</td>\n",
       "      <td>-2.004020</td>\n",
       "      <td>0.352138</td>\n",
       "      <td>-2.411335</td>\n",
       "      <td>0.0</td>\n",
       "      <td>1.0</td>\n",
       "      <td>1.0</td>\n",
       "      <td>0.0</td>\n",
       "    </tr>\n",
       "  </tbody>\n",
       "</table>\n",
       "<p>2333 rows × 22 columns</p>\n",
       "</div>"
      ],
      "text/plain": [
       "      account_length  number_vmail_messages  total_day_minutes  \\\n",
       "0          -1.508366               1.658110           0.832457   \n",
       "1           0.432612              -0.592293           0.808653   \n",
       "2          -0.264149              -0.592293          -0.061110   \n",
       "3          -0.264149              -0.592293          -0.617759   \n",
       "4           0.581918              -0.592293          -0.181961   \n",
       "...              ...                    ...                ...   \n",
       "2328       -0.363687              -0.592293          -1.753029   \n",
       "2329        0.407728              -0.592293           1.110782   \n",
       "2330        0.606802              -0.592293          -0.771569   \n",
       "2331       -0.911142               1.367735           0.403984   \n",
       "2332        0.930299              -0.592293          -2.430529   \n",
       "\n",
       "      total_day_calls  total_day_charge  total_eve_minutes  total_eve_calls  \\\n",
       "0           -1.530204          0.832508          -1.310525        -0.972401   \n",
       "1           -0.097455          0.808811           0.379882         0.040214   \n",
       "2            0.544812         -0.061490           1.648178         0.749044   \n",
       "3           -0.393886         -0.617276           0.322946         0.698414   \n",
       "4            0.396596         -0.182125          -0.444707        -0.466094   \n",
       "...               ...               ...                ...              ...   \n",
       "2328        -0.196265         -1.752545           0.389698        -1.883755   \n",
       "2329        -0.789127          1.110401          -0.519313         0.293368   \n",
       "2330        -0.295075         -0.771302           0.167845        -0.871140   \n",
       "2331         0.050760          0.403820          -1.127938        -0.567355   \n",
       "2332         0.198976         -2.430044          -0.299422         0.698414   \n",
       "\n",
       "      total_eve_charge  total_night_minutes  total_night_calls  ...  \\\n",
       "0            -1.311142            -1.616872           0.193381  ...   \n",
       "1             0.379595             0.056732           0.913424  ...   \n",
       "2             1.647648            -1.006287           1.119150  ...   \n",
       "3             0.321851            -1.084361           1.170582  ...   \n",
       "4            -0.444986             0.825468          -0.938114  ...   \n",
       "...                ...                  ...                ...  ...   \n",
       "2328          0.388834             2.975528          -1.298135  ...   \n",
       "2329         -0.518898             0.168839          -0.372367  ...   \n",
       "2330          0.167098             0.747393           0.707697  ...   \n",
       "2331         -1.128672            -1.018298           1.376308  ...   \n",
       "2332         -0.299472            -0.671966          -0.269503  ...   \n",
       "\n",
       "      total_intl_calls  total_intl_charge  customer_service_calls  \\\n",
       "0             0.224309          -0.981136               -0.426884   \n",
       "1             0.633467          -1.416169               -1.191800   \n",
       "2             1.042625           0.969925               -0.426884   \n",
       "3            -1.003165           0.218503                1.102947   \n",
       "4            -0.594007           0.679902               -0.426884   \n",
       "...                ...                ...                     ...   \n",
       "2328         -0.594007           0.824914               -1.191800   \n",
       "2329         -1.003165          -0.163799               -1.191800   \n",
       "2330         -0.184849          -0.598833               -0.426884   \n",
       "2331         -0.594007           0.719451               -0.426884   \n",
       "2332         -0.184849          -0.242897                1.867863   \n",
       "\n",
       "      total_minutes  total_calls  total_charge  x0_415  x0_510  x1_yes  x2_yes  \n",
       "0         -1.152825    -1.331638     -0.219875     0.0     0.0     0.0     1.0  \n",
       "1          0.685933     0.526322      0.774870     0.0     1.0     1.0     0.0  \n",
       "2          0.363710     1.455301      0.475691     1.0     0.0     0.0     0.0  \n",
       "3         -0.778915     0.758566     -0.623814     1.0     0.0     0.0     0.0  \n",
       "4          0.116270    -0.605873     -0.117947     0.0     1.0     0.0     0.0  \n",
       "...             ...          ...           ...     ...     ...     ...     ...  \n",
       "2328       0.825599    -1.970312     -0.686103     1.0     0.0     0.0     0.0  \n",
       "2329       0.463786    -0.576842      0.785251     0.0     0.0     0.0     0.0  \n",
       "2330       0.022792    -0.286536     -0.491684     0.0     0.0     0.0     0.0  \n",
       "2331      -0.926279     0.439230     -0.271783     1.0     0.0     0.0     1.0  \n",
       "2332      -2.004020     0.352138     -2.411335     0.0     1.0     1.0     0.0  \n",
       "\n",
       "[2333 rows x 22 columns]"
      ]
     },
     "execution_count": 3,
     "metadata": {},
     "output_type": "execute_result"
    }
   ],
   "source": [
    "X_train"
   ]
  },
  {
   "cell_type": "code",
   "execution_count": 4,
   "metadata": {},
   "outputs": [],
   "source": [
    "gbc = GradientBoostingClassifier()"
   ]
  },
  {
   "cell_type": "code",
   "execution_count": 5,
   "metadata": {},
   "outputs": [
    {
     "data": {
      "text/plain": [
       "GradientBoostingClassifier(ccp_alpha=0.0, criterion='friedman_mse', init=None,\n",
       "                           learning_rate=0.1, loss='deviance', max_depth=3,\n",
       "                           max_features=None, max_leaf_nodes=None,\n",
       "                           min_impurity_decrease=0.0, min_impurity_split=None,\n",
       "                           min_samples_leaf=1, min_samples_split=2,\n",
       "                           min_weight_fraction_leaf=0.0, n_estimators=100,\n",
       "                           n_iter_no_change=None, presort='deprecated',\n",
       "                           random_state=None, subsample=1.0, tol=0.0001,\n",
       "                           validation_fraction=0.1, verbose=0,\n",
       "                           warm_start=False)"
      ]
     },
     "execution_count": 5,
     "metadata": {},
     "output_type": "execute_result"
    }
   ],
   "source": [
    "gbc.fit(X_train, y_train)"
   ]
  },
  {
   "cell_type": "code",
   "execution_count": 6,
   "metadata": {},
   "outputs": [],
   "source": [
    "import warnings\n",
    "import seaborn as sns\n",
    "import itertools\n",
    "import matplotlib.pyplot as plt\n",
    "%matplotlib inline\n",
    "warnings.filterwarnings('ignore')\n",
    "plt.rcParams[\"figure.figsize\"] = [10, 5]\n",
    "\n",
    "# from https://scikit-learn.org/0.18/auto_examples/model_selection/plot_confusion_matrix.html\n",
    "\n",
    "\n",
    "def plot_confusion_matrix(cm, classes,\n",
    "                          normalize=False,\n",
    "                          title='Confusion matrix',\n",
    "                          cmap=plt.cm.Blues):\n",
    "    \"\"\"\n",
    "    This function prints and plots the confusion matrix.\n",
    "    Normalization can be applied by setting `normalize=True`.\n",
    "    \"\"\"\n",
    "    if normalize:\n",
    "        cm = cm.astype('float') / cm.sum(axis=1)[:, np.newaxis]\n",
    "        print(\"Normalized confusion matrix\")\n",
    "    else:\n",
    "        print('Confusion Matrix, without normalization')\n",
    "\n",
    "    print(cm)\n",
    "\n",
    "    plt.imshow(cm, interpolation='nearest', cmap=cmap)\n",
    "    plt.title(title)\n",
    "    plt.colorbar()\n",
    "    tick_marks = np.arange(len(classes))\n",
    "    plt.xticks(tick_marks, classes, rotation=45)\n",
    "    plt.yticks(tick_marks, classes)\n",
    "\n",
    "    fmt = '.2f' if normalize else 'd'\n",
    "    thresh = cm.max() / 1\n",
    "    for i, j in itertools.product(range(cm.shape[0]), range(cm.shape[1])):\n",
    "        plt.text(j, i, format(cm[i, j], fmt),\n",
    "                 horizontalalignment=\"center\",\n",
    "                 color=\"white\" if cm[i, j] > thresh else \"black\")\n",
    "    plt.tight_layout()\n",
    "    plt.ylabel('True label')\n",
    "    plt.xlabel('Predicted label')"
   ]
  },
  {
   "cell_type": "code",
   "execution_count": 7,
   "metadata": {},
   "outputs": [
    {
     "name": "stdout",
     "output_type": "stream",
     "text": [
      "Confusion Matrix, without normalization\n",
      "[[1995    0]\n",
      " [  41  297]]\n",
      "              precision    recall  f1-score   support\n",
      "\n",
      "           0       0.98      1.00      0.99      1995\n",
      "           1       1.00      0.88      0.94       338\n",
      "\n",
      "    accuracy                           0.98      2333\n",
      "   macro avg       0.99      0.94      0.96      2333\n",
      "weighted avg       0.98      0.98      0.98      2333\n",
      "\n"
     ]
    },
    {
     "data": {
      "image/png": "[encoded data removed]",
      "text/plain": [
       "<Figure size 432x288 with 2 Axes>"
      ]
     },
     "metadata": {
      "needs_background": "light"
     },
     "output_type": "display_data"
    }
   ],
   "source": [
    "from sklearn.metrics import confusion_matrix\n",
    "from sklearn.metrics import classification_report\n",
    "import numpy as np\n",
    "\n",
    "y_pred = gbc.predict(X_train)\n",
    "cm = confusion_matrix(y_train, y_pred)\n",
    "classes = ['Maintain', 'Churn']\n",
    "plot_confusion_matrix(cm, classes,\n",
    "                      normalize=False,\n",
    "                      title='Confusion matrix')\n",
    "\n",
    "#Checking performance our model with classification report.\n",
    "print(classification_report(y_train, y_pred))"
   ]
  },
  {
   "cell_type": "code",
   "execution_count": 35,
   "metadata": {},
   "outputs": [
    {
     "data": {
      "text/plain": [
       "0.9932203389830508"
      ]
     },
     "execution_count": 35,
     "metadata": {},
     "output_type": "execute_result"
    }
   ],
   "source": [
    "from sklearn.model_selection import cross_val_score\n",
    "scores1 = cross_val_score(gbc, X_train, y_train, cv=5, scoring= 'precision')\n",
    "np.average(scores1)"
   ]
  },
  {
   "cell_type": "code",
   "execution_count": 9,
   "metadata": {},
   "outputs": [],
   "source": [
    "from sklearn.metrics import recall_score\n",
    "from sklearn.metrics import precision_score\n",
    "from sklearn.metrics import f1_score"
   ]
  },
  {
   "cell_type": "code",
   "execution_count": 10,
   "metadata": {},
   "outputs": [
    {
     "name": "stdout",
     "output_type": "stream",
     "text": [
      "accuracy score: 0.982426060865838\n",
      "recall: 0.878698224852071\n",
      "precision: 1.0\n",
      "f1: 0.9354330708661417\n"
     ]
    }
   ],
   "source": [
    "y_pred = gbc.predict(X_train)\n",
    "print ('accuracy score:', gbc.score(X_train, y_train))\n",
    "print ('recall:', recall_score(y_train, y_pred))\n",
    "print ('precision:', precision_score(y_train, y_pred))\n",
    "print ('f1:', f1_score(y_train, y_pred))"
   ]
  },
  {
   "cell_type": "code",
   "execution_count": 11,
   "metadata": {
    "scrolled": true
   },
   "outputs": [],
   "source": [
    "# from tqdm import tqdm_notebook as tqdm\n",
    "# import matplotlib.pyplot as plt \n",
    "# %matplotlib inline\n",
    "# # choose k between 1 to 20\n",
    "# k_range = range(1, 100)\n",
    "# k_scores = []\n",
    "\n",
    "# for k in tqdm(k_range):\n",
    "#     cgb = GradientBoostingClassifier(n_estimators=k)\n",
    "#     scores = cross_val_score(cgb, X_train, y_train, cv=5, scoring='precision')\n",
    "#     k_scores.append(scores.mean())\n",
    "\n",
    "# plt.plot(k_range, k_scores)\n",
    "# plt.xlabel('Value of K for KNN')\n",
    "# plt.ylabel('Cross-Validated Precision')\n",
    "# plt.show()"
   ]
  },
  {
   "cell_type": "code",
   "execution_count": 12,
   "metadata": {},
   "outputs": [],
   "source": [
    "from sklearn.model_selection import GridSearchCV"
   ]
  },
  {
   "cell_type": "code",
   "execution_count": 13,
   "metadata": {},
   "outputs": [
    {
     "name": "stdout",
     "output_type": "stream",
     "text": [
      "Fitting 10 folds for each of 900 candidates, totalling 9000 fits\n"
     ]
    },
    {
     "name": "stderr",
     "output_type": "stream",
     "text": [
      "[Parallel(n_jobs=-1)]: Using backend LokyBackend with 12 concurrent workers.\n",
      "[Parallel(n_jobs=-1)]: Done  26 tasks      | elapsed:    1.9s\n",
      "[Parallel(n_jobs=-1)]: Done 176 tasks      | elapsed:    6.1s\n",
      "[Parallel(n_jobs=-1)]: Done 426 tasks      | elapsed:   12.8s\n",
      "[Parallel(n_jobs=-1)]: Done 1113 tasks      | elapsed:   24.1s\n",
      "[Parallel(n_jobs=-1)]: Done 1580 tasks      | elapsed:   45.0s\n",
      "[Parallel(n_jobs=-1)]: Done 2370 tasks      | elapsed:  1.4min\n",
      "[Parallel(n_jobs=-1)]: Done 3020 tasks      | elapsed:  1.7min\n",
      "[Parallel(n_jobs=-1)]: Done 3770 tasks      | elapsed:  2.6min\n",
      "[Parallel(n_jobs=-1)]: Done 4620 tasks      | elapsed:  4.1min\n",
      "[Parallel(n_jobs=-1)]: Done 5570 tasks      | elapsed:  5.8min\n",
      "[Parallel(n_jobs=-1)]: Done 6620 tasks      | elapsed:  8.0min\n",
      "[Parallel(n_jobs=-1)]: Done 7770 tasks      | elapsed: 10.8min\n",
      "[Parallel(n_jobs=-1)]: Done 9000 out of 9000 | elapsed: 14.2min finished\n"
     ]
    }
   ],
   "source": [
    "gbc2 = GradientBoostingClassifier()\n",
    "\n",
    "n_estimator = range(2, 200, 10)\n",
    "\n",
    "max_depth_params = range(1,10)\n",
    "\n",
    "max_features_param = [None, 'auto', 'sqrt', 'log2', 5]\n",
    "\n",
    "param_grid = {'n_estimators': n_estimator, 'max_depth': max_depth_params, 'max_features': max_features_param}\n",
    "\n",
    "gridsearch = (GridSearchCV(estimator = gbc2, \n",
    "                          param_grid = param_grid,\n",
    "                          n_jobs = -1, #parallel computation\n",
    "                          verbose = 1, #give feedback\n",
    "                          cv = 10, #cross-validate 10 times\n",
    "                          scoring = 'precision', #can use multiple scoring  , recall, precision..ect\n",
    "                          return_train_score= True))\n",
    "# X = MultipleArray(low_sig, None)\n",
    "# gridsearch.fit(X)\n",
    "gridsearch = gridsearch.fit(X_train, y_train)"
   ]
  },
  {
   "cell_type": "code",
   "execution_count": 14,
   "metadata": {},
   "outputs": [
    {
     "data": {
      "text/plain": [
       "1.0"
      ]
     },
     "execution_count": 14,
     "metadata": {},
     "output_type": "execute_result"
    }
   ],
   "source": [
    "gridsearch.best_score_"
   ]
  },
  {
   "cell_type": "code",
   "execution_count": 15,
   "metadata": {},
   "outputs": [],
   "source": [
    "gridsearch.cv_results_;"
   ]
  },
  {
   "cell_type": "code",
   "execution_count": 16,
   "metadata": {
    "scrolled": false
   },
   "outputs": [],
   "source": [
    "colums = ['params', 'mean_test_score', \n",
    "          'std_test_score', 'rank_test_score',\n",
    "          'mean_train_score', 'std_train_score']\n",
    "\n",
    "results = pd.DataFrame(gridsearch.cv_results_)[colums]\n",
    "df = results.sort_values(by = 'rank_test_score').head(10)"
   ]
  },
  {
   "cell_type": "code",
   "execution_count": null,
   "metadata": {
    "scrolled": true
   },
   "outputs": [],
   "source": []
  },
  {
   "cell_type": "code",
   "execution_count": 17,
   "metadata": {},
   "outputs": [
    {
     "data": {
      "text/html": [
       "<div>\n",
       "<style scoped>\n",
       "    .dataframe tbody tr th:only-of-type {\n",
       "        vertical-align: middle;\n",
       "    }\n",
       "\n",
       "    .dataframe tbody tr th {\n",
       "        vertical-align: top;\n",
       "    }\n",
       "\n",
       "    .dataframe thead th {\n",
       "        text-align: right;\n",
       "    }\n",
       "</style>\n",
       "<table border=\"1\" class=\"dataframe\">\n",
       "  <thead>\n",
       "    <tr style=\"text-align: right;\">\n",
       "      <th></th>\n",
       "      <th>params</th>\n",
       "      <th>mean_test_score</th>\n",
       "      <th>std_test_score</th>\n",
       "      <th>rank_test_score</th>\n",
       "      <th>mean_train_score</th>\n",
       "      <th>std_train_score</th>\n",
       "    </tr>\n",
       "  </thead>\n",
       "  <tbody>\n",
       "    <tr>\n",
       "      <td>261</td>\n",
       "      <td>{'max_depth': 3, 'max_features': 'log2', 'n_estimators': 12}</td>\n",
       "      <td>1.0</td>\n",
       "      <td>0.0</td>\n",
       "      <td>1</td>\n",
       "      <td>1.0</td>\n",
       "      <td>0.0</td>\n",
       "    </tr>\n",
       "    <tr>\n",
       "      <td>362</td>\n",
       "      <td>{'max_depth': 4, 'max_features': 'log2', 'n_estimators': 22}</td>\n",
       "      <td>1.0</td>\n",
       "      <td>0.0</td>\n",
       "      <td>1</td>\n",
       "      <td>1.0</td>\n",
       "      <td>0.0</td>\n",
       "    </tr>\n",
       "    <tr>\n",
       "      <td>841</td>\n",
       "      <td>{'max_depth': 9, 'max_features': 'sqrt', 'n_estimators': 12}</td>\n",
       "      <td>1.0</td>\n",
       "      <td>0.0</td>\n",
       "      <td>1</td>\n",
       "      <td>1.0</td>\n",
       "      <td>0.0</td>\n",
       "    </tr>\n",
       "    <tr>\n",
       "      <td>441</td>\n",
       "      <td>{'max_depth': 5, 'max_features': 'sqrt', 'n_estimators': 12}</td>\n",
       "      <td>1.0</td>\n",
       "      <td>0.0</td>\n",
       "      <td>1</td>\n",
       "      <td>1.0</td>\n",
       "      <td>0.0</td>\n",
       "    </tr>\n",
       "    <tr>\n",
       "      <td>442</td>\n",
       "      <td>{'max_depth': 5, 'max_features': 'sqrt', 'n_estimators': 22}</td>\n",
       "      <td>1.0</td>\n",
       "      <td>0.0</td>\n",
       "      <td>1</td>\n",
       "      <td>1.0</td>\n",
       "      <td>0.0</td>\n",
       "    </tr>\n",
       "    <tr>\n",
       "      <td>461</td>\n",
       "      <td>{'max_depth': 5, 'max_features': 'log2', 'n_estimators': 12}</td>\n",
       "      <td>1.0</td>\n",
       "      <td>0.0</td>\n",
       "      <td>1</td>\n",
       "      <td>1.0</td>\n",
       "      <td>0.0</td>\n",
       "    </tr>\n",
       "    <tr>\n",
       "      <td>662</td>\n",
       "      <td>{'max_depth': 7, 'max_features': 'log2', 'n_estimators': 22}</td>\n",
       "      <td>1.0</td>\n",
       "      <td>0.0</td>\n",
       "      <td>1</td>\n",
       "      <td>1.0</td>\n",
       "      <td>0.0</td>\n",
       "    </tr>\n",
       "    <tr>\n",
       "      <td>481</td>\n",
       "      <td>{'max_depth': 5, 'max_features': 5, 'n_estimators': 12}</td>\n",
       "      <td>1.0</td>\n",
       "      <td>0.0</td>\n",
       "      <td>1</td>\n",
       "      <td>1.0</td>\n",
       "      <td>0.0</td>\n",
       "    </tr>\n",
       "    <tr>\n",
       "      <td>782</td>\n",
       "      <td>{'max_depth': 8, 'max_features': 5, 'n_estimators': 22}</td>\n",
       "      <td>1.0</td>\n",
       "      <td>0.0</td>\n",
       "      <td>1</td>\n",
       "      <td>1.0</td>\n",
       "      <td>0.0</td>\n",
       "    </tr>\n",
       "    <tr>\n",
       "      <td>482</td>\n",
       "      <td>{'max_depth': 5, 'max_features': 5, 'n_estimators': 22}</td>\n",
       "      <td>1.0</td>\n",
       "      <td>0.0</td>\n",
       "      <td>1</td>\n",
       "      <td>1.0</td>\n",
       "      <td>0.0</td>\n",
       "    </tr>\n",
       "  </tbody>\n",
       "</table>\n",
       "</div>"
      ],
      "text/plain": [
       "                                                           params  \\\n",
       "261  {'max_depth': 3, 'max_features': 'log2', 'n_estimators': 12}   \n",
       "362  {'max_depth': 4, 'max_features': 'log2', 'n_estimators': 22}   \n",
       "841  {'max_depth': 9, 'max_features': 'sqrt', 'n_estimators': 12}   \n",
       "441  {'max_depth': 5, 'max_features': 'sqrt', 'n_estimators': 12}   \n",
       "442  {'max_depth': 5, 'max_features': 'sqrt', 'n_estimators': 22}   \n",
       "461  {'max_depth': 5, 'max_features': 'log2', 'n_estimators': 12}   \n",
       "662  {'max_depth': 7, 'max_features': 'log2', 'n_estimators': 22}   \n",
       "481       {'max_depth': 5, 'max_features': 5, 'n_estimators': 12}   \n",
       "782       {'max_depth': 8, 'max_features': 5, 'n_estimators': 22}   \n",
       "482       {'max_depth': 5, 'max_features': 5, 'n_estimators': 22}   \n",
       "\n",
       "     mean_test_score  std_test_score  rank_test_score  mean_train_score  \\\n",
       "261              1.0             0.0                1               1.0   \n",
       "362              1.0             0.0                1               1.0   \n",
       "841              1.0             0.0                1               1.0   \n",
       "441              1.0             0.0                1               1.0   \n",
       "442              1.0             0.0                1               1.0   \n",
       "461              1.0             0.0                1               1.0   \n",
       "662              1.0             0.0                1               1.0   \n",
       "481              1.0             0.0                1               1.0   \n",
       "782              1.0             0.0                1               1.0   \n",
       "482              1.0             0.0                1               1.0   \n",
       "\n",
       "     std_train_score  \n",
       "261              0.0  \n",
       "362              0.0  \n",
       "841              0.0  \n",
       "441              0.0  \n",
       "442              0.0  \n",
       "461              0.0  \n",
       "662              0.0  \n",
       "481              0.0  \n",
       "782              0.0  \n",
       "482              0.0  "
      ]
     },
     "execution_count": 17,
     "metadata": {},
     "output_type": "execute_result"
    }
   ],
   "source": [
    "pd.options.display.max_colwidth = 100\n",
    "df"
   ]
  },
  {
   "cell_type": "code",
   "execution_count": 18,
   "metadata": {},
   "outputs": [
    {
     "data": {
      "text/plain": [
       "(900, 6)"
      ]
     },
     "execution_count": 18,
     "metadata": {},
     "output_type": "execute_result"
    }
   ],
   "source": [
    "results.shape"
   ]
  },
  {
   "cell_type": "code",
   "execution_count": 25,
   "metadata": {},
   "outputs": [],
   "source": [
    "gbc2 = GradientBoostingClassifier(n_estimators=12, max_depth = 3, max_features = 'log2' )"
   ]
  },
  {
   "cell_type": "code",
   "execution_count": 26,
   "metadata": {},
   "outputs": [
    {
     "data": {
      "text/plain": [
       "GradientBoostingClassifier(ccp_alpha=0.0, criterion='friedman_mse', init=None,\n",
       "                           learning_rate=0.1, loss='deviance', max_depth=3,\n",
       "                           max_features='log2', max_leaf_nodes=None,\n",
       "                           min_impurity_decrease=0.0, min_impurity_split=None,\n",
       "                           min_samples_leaf=1, min_samples_split=2,\n",
       "                           min_weight_fraction_leaf=0.0, n_estimators=12,\n",
       "                           n_iter_no_change=None, presort='deprecated',\n",
       "                           random_state=None, subsample=1.0, tol=0.0001,\n",
       "                           validation_fraction=0.1, verbose=0,\n",
       "                           warm_start=False)"
      ]
     },
     "execution_count": 26,
     "metadata": {},
     "output_type": "execute_result"
    }
   ],
   "source": [
    "gbc2.fit(X_train, y_train)"
   ]
  },
  {
   "cell_type": "code",
   "execution_count": 27,
   "metadata": {},
   "outputs": [
    {
     "name": "stdout",
     "output_type": "stream",
     "text": [
      "accuracy score: 0.8915559365623661\n",
      "recall: 0.2514792899408284\n",
      "precision: 1.0\n",
      "f1: 0.4018912529550827\n"
     ]
    }
   ],
   "source": [
    "y_pred2 = gbc2.predict(X_train)\n",
    "print ('accuracy score:', gbc2.score(X_train, y_train))\n",
    "print ('recall:', recall_score(y_train, y_pred2))\n",
    "print ('precision:', precision_score(y_train, y_pred2))\n",
    "print ('f1:', f1_score(y_train, y_pred2))"
   ]
  },
  {
   "cell_type": "code",
   "execution_count": 28,
   "metadata": {},
   "outputs": [
    {
     "name": "stdout",
     "output_type": "stream",
     "text": [
      "Confusion Matrix, without normalization\n",
      "[[1995    0]\n",
      " [ 253   85]]\n",
      "              precision    recall  f1-score   support\n",
      "\n",
      "           0       0.98      1.00      0.99      1995\n",
      "           1       1.00      0.88      0.94       338\n",
      "\n",
      "    accuracy                           0.98      2333\n",
      "   macro avg       0.99      0.94      0.96      2333\n",
      "weighted avg       0.98      0.98      0.98      2333\n",
      "\n"
     ]
    },
    {
     "data": {
      "image/png": "[encoded data removed]",
      "text/plain": [
       "<Figure size 432x288 with 2 Axes>"
      ]
     },
     "metadata": {
      "needs_background": "light"
     },
     "output_type": "display_data"
    }
   ],
   "source": [
    "y_pred2 = gbc2.predict(X_train)\n",
    "cm = confusion_matrix(y_train, y_pred2)\n",
    "classes = ['Maintain', 'Churn']\n",
    "plot_confusion_matrix(cm, classes,\n",
    "                      normalize=False,\n",
    "                      title='Confusion matrix')\n",
    "\n",
    "#Checking performance our model with classification report.\n",
    "print(classification_report(y_train, y_pred))"
   ]
  },
  {
   "cell_type": "code",
   "execution_count": 30,
   "metadata": {},
   "outputs": [
    {
     "data": {
      "text/plain": [
       "0.9794736842105263"
      ]
     },
     "execution_count": 30,
     "metadata": {},
     "output_type": "execute_result"
    }
   ],
   "source": [
    "scores2 = cross_val_score(gbc2, X_train, y_train, cv=5, scoring= 'precision')\n",
    "np.average(scores2)"
   ]
  },
  {
   "cell_type": "code",
   "execution_count": null,
   "metadata": {},
   "outputs": [],
   "source": []
  }
 ],
 "metadata": {
  "kernelspec": {
   "display_name": "Python 3",
   "language": "python",
   "name": "python3"
  },
  "language_info": {
   "codemirror_mode": {
    "name": "ipython",
    "version": 3
   },
   "file_extension": ".py",
   "mimetype": "text/x-python",
   "name": "python",
   "nbconvert_exporter": "python",
   "pygments_lexer": "ipython3",
   "version": "3.7.4"
  }
 },
 "nbformat": 4,
 "nbformat_minor": 2
}
