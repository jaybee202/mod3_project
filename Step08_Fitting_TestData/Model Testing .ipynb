{
 "cells": [
  {
   "cell_type": "markdown",
   "metadata": {},
   "source": [
    "### Import Tools"
   ]
  },
  {
   "cell_type": "code",
   "execution_count": 1,
   "metadata": {},
   "outputs": [
    {
     "name": "stderr",
     "output_type": "stream",
     "text": [
      "/Users/viviandang/opt/anaconda3/lib/python3.7/site-packages/sklearn/utils/deprecation.py:144: FutureWarning: The sklearn.metrics.classification module is  deprecated in version 0.22 and will be removed in version 0.24. The corresponding classes / functions should instead be imported from sklearn.metrics. Anything that cannot be imported from sklearn.metrics is now part of the private API.\n",
      "  warnings.warn(message, FutureWarning)\n"
     ]
    }
   ],
   "source": [
    "import pickle\n",
    "import pandas as pd\n",
    "\n",
    "from sklearn.metrics import recall_score\n",
    "from sklearn.metrics import precision_score\n",
    "from sklearn.metrics import f1_score\n",
    "\n",
    "from yellowbrick.classifier import ConfusionMatrix\n",
    "from sklearn.metrics import classification_report"
   ]
  },
  {
   "cell_type": "markdown",
   "metadata": {},
   "source": [
    "### Import Train Data"
   ]
  },
  {
   "cell_type": "code",
   "execution_count": 2,
   "metadata": {},
   "outputs": [],
   "source": [
    "X_train = pd.read_csv('../data/X_train_trans.csv', index_col=0)\n",
    "\n",
    "pickle_in = open('../data/y_train.pickle', 'rb')\n",
    "y_train = pickle.load(pickle_in)"
   ]
  },
  {
   "cell_type": "markdown",
   "metadata": {},
   "source": [
    "### Import Test Data"
   ]
  },
  {
   "cell_type": "code",
   "execution_count": 3,
   "metadata": {},
   "outputs": [],
   "source": [
    "X_test = pd.read_csv('../data/X_test_trans.csv', index_col=0)\n",
    "pickle_in = open('../data/y_test.pickle', 'rb')\n",
    "y_test = pickle.load(pickle_in)"
   ]
  },
  {
   "cell_type": "markdown",
   "metadata": {},
   "source": [
    "### Fit Default Gradient Boosting Classifier "
   ]
  },
  {
   "cell_type": "code",
   "execution_count": 4,
   "metadata": {},
   "outputs": [],
   "source": [
    "from sklearn.ensemble import GradientBoostingClassifier"
   ]
  },
  {
   "cell_type": "code",
   "execution_count": 5,
   "metadata": {},
   "outputs": [],
   "source": [
    "gbc = GradientBoostingClassifier()"
   ]
  },
  {
   "cell_type": "code",
   "execution_count": 6,
   "metadata": {},
   "outputs": [
    {
     "data": {
      "text/plain": [
       "GradientBoostingClassifier(ccp_alpha=0.0, criterion='friedman_mse', init=None,\n",
       "                           learning_rate=0.1, loss='deviance', max_depth=3,\n",
       "                           max_features=None, max_leaf_nodes=None,\n",
       "                           min_impurity_decrease=0.0, min_impurity_split=None,\n",
       "                           min_samples_leaf=1, min_samples_split=2,\n",
       "                           min_weight_fraction_leaf=0.0, n_estimators=100,\n",
       "                           n_iter_no_change=None, presort='deprecated',\n",
       "                           random_state=None, subsample=1.0, tol=0.0001,\n",
       "                           validation_fraction=0.1, verbose=0,\n",
       "                           warm_start=False)"
      ]
     },
     "execution_count": 6,
     "metadata": {},
     "output_type": "execute_result"
    }
   ],
   "source": [
    "gbc.fit(X_train,y_train)"
   ]
  },
  {
   "cell_type": "code",
   "execution_count": 7,
   "metadata": {},
   "outputs": [],
   "source": [
    "y_pred_gbc = gbc.predict(X_test)\n",
    "y_probs_gbc = gbc.predict_proba(X_test)"
   ]
  },
  {
   "cell_type": "code",
   "execution_count": 8,
   "metadata": {},
   "outputs": [
    {
     "name": "stdout",
     "output_type": "stream",
     "text": [
      "accuracy score: 0.98\n",
      "recall: 0.8896551724137931\n",
      "precision: 0.9699248120300752\n",
      "f1: 0.9280575539568345\n"
     ]
    }
   ],
   "source": [
    "print ('accuracy score:', gbc.score(X_test, y_test))\n",
    "print ('recall:', recall_score(y_test, y_pred_gbc))\n",
    "print ('precision:', precision_score(y_test, y_pred_gbc))\n",
    "print ('f1:', f1_score(y_test, y_pred_gbc))"
   ]
  },
  {
   "cell_type": "code",
   "execution_count": null,
   "metadata": {},
   "outputs": [],
   "source": [
    "cm_gbc = ConfusionMatrix(gbc, classes = ['Maintain', 'Churn'])\n",
    "\n",
    "cm_gbc.score(X_test, y_test)\n",
    "\n",
    "cm_gbc.poof()\n",
    "\n",
    "#specify the target classes\n",
    "classes = [\"Maintain\", \"Churn\"]\n",
    "\n",
    "\n",
    "print(classification_report(y_test, y_pred_gbc))\n"
   ]
  },
  {
   "cell_type": "markdown",
   "metadata": {},
   "source": [
    "### Fit KNN Model (n_neighbors = 7)"
   ]
  },
  {
   "cell_type": "code",
   "execution_count": null,
   "metadata": {},
   "outputs": [],
   "source": [
    "from sklearn.neighbors import KNeighborsClassifier"
   ]
  },
  {
   "cell_type": "code",
   "execution_count": null,
   "metadata": {},
   "outputs": [],
   "source": [
    "knn = KNeighborsClassifier(n_neighbors=7)\n",
    "knn.fit(X_train, y_train)"
   ]
  },
  {
   "cell_type": "code",
   "execution_count": null,
   "metadata": {},
   "outputs": [],
   "source": [
    "y_pred_knn = knn.predict(X_test)\n",
    "y_probs_knn = knn.predict_proba(X_test)"
   ]
  },
  {
   "cell_type": "code",
   "execution_count": null,
   "metadata": {
    "scrolled": true
   },
   "outputs": [],
   "source": [
    "print ('accuracy score:', knn.score(X_test, y_test))\n",
    "print ('recall:', recall_score(y_test, y_pred_knn))\n",
    "print ('precision:', precision_score(y_test, y_pred_knn))\n",
    "print ('f1:', f1_score(y_test, y_pred_knn))"
   ]
  },
  {
   "cell_type": "code",
   "execution_count": null,
   "metadata": {},
   "outputs": [],
   "source": [
    "cm_knn = ConfusionMatrix(knn, classes = ['Maintain', 'Churn'])\n",
    "\n",
    "cm_knn.score(X_test, y_test)\n",
    "\n",
    "cm_knn.poof()\n",
    "\n",
    "classes = [\"Maintain\", \"Churn\"]\n",
    "\n",
    "\n",
    "print(classification_report(y_test, y_pred_knn))\n"
   ]
  },
  {
   "cell_type": "markdown",
   "metadata": {},
   "source": [
    "### Fit Default Random Forest"
   ]
  },
  {
   "cell_type": "code",
   "execution_count": null,
   "metadata": {},
   "outputs": [],
   "source": [
    "from sklearn.ensemble import RandomForestClassifier"
   ]
  },
  {
   "cell_type": "code",
   "execution_count": null,
   "metadata": {},
   "outputs": [],
   "source": [
    "clf = RandomForestClassifier()"
   ]
  },
  {
   "cell_type": "code",
   "execution_count": null,
   "metadata": {},
   "outputs": [],
   "source": [
    "clf.fit(X_train, y_train)"
   ]
  },
  {
   "cell_type": "code",
   "execution_count": null,
   "metadata": {},
   "outputs": [],
   "source": [
    "y_pred_clf = clf.predict(X_test)\n",
    "y_probs_clf = clf.predict_proba(X_test)"
   ]
  },
  {
   "cell_type": "code",
   "execution_count": null,
   "metadata": {
    "scrolled": true
   },
   "outputs": [],
   "source": [
    "print ('accuracy score:', clf.score(X_test, y_test))\n",
    "print ('recall:', recall_score(y_test, y_pred_clf))\n",
    "print ('precision:', precision_score(y_test, y_pred_clf))\n",
    "print ('f1:', f1_score(y_test, y_pred_clf))"
   ]
  },
  {
   "cell_type": "code",
   "execution_count": null,
   "metadata": {
    "scrolled": true
   },
   "outputs": [],
   "source": [
    "cm_clf = ConfusionMatrix(clf, classes = ['Maintain', 'Churn'])\n",
    "\n",
    "cm_clf.score(X_test, y_test)\n",
    "\n",
    "cm_clf.poof()\n",
    "\n",
    "#specify the target classes\n",
    "classes = [\"Maintain\", \"Churn\"]\n",
    "\n",
    "\n",
    "print(classification_report(y_test, y_pred_clf))\n"
   ]
  },
  {
   "cell_type": "markdown",
   "metadata": {},
   "source": [
    "### Fit Decision Tree (max_depth = 2)"
   ]
  },
  {
   "cell_type": "code",
   "execution_count": null,
   "metadata": {},
   "outputs": [],
   "source": [
    "from sklearn.tree import DecisionTreeClassifier"
   ]
  },
  {
   "cell_type": "code",
   "execution_count": null,
   "metadata": {},
   "outputs": [],
   "source": [
    "dtc = DecisionTreeClassifier(max_depth = 2)"
   ]
  },
  {
   "cell_type": "code",
   "execution_count": null,
   "metadata": {},
   "outputs": [],
   "source": [
    "dtc.fit(X_train, y_train)"
   ]
  },
  {
   "cell_type": "code",
   "execution_count": null,
   "metadata": {},
   "outputs": [],
   "source": [
    "y_pred_dtc = dtc.predict(X_test)\n",
    "y_probs_dtc = dtc.predict_proba(X_test)\n"
   ]
  },
  {
   "cell_type": "code",
   "execution_count": null,
   "metadata": {},
   "outputs": [],
   "source": [
    "print ('accuracy score:', dtc.score(X_test, y_test))\n",
    "print ('recall:', recall_score(y_test, y_pred_dtc))\n",
    "print ('precision:', precision_score(y_test, y_pred_dtc))\n",
    "print ('f1:', f1_score(y_test, y_pred_dtc))\n"
   ]
  },
  {
   "cell_type": "code",
   "execution_count": null,
   "metadata": {},
   "outputs": [],
   "source": [
    "cm_dtc = ConfusionMatrix(dtc, classes = ['Maintain', 'Churn'])\n",
    "\n",
    "cm_dtc.score(X_test, y_test)\n",
    "\n",
    "cm_dtc.poof()\n",
    "\n",
    "#specify the target classes\n",
    "classes = [\"Maintain\", \"Churn\"]\n",
    "\n",
    "\n",
    "print(classification_report(y_test, y_pred_dtc))"
   ]
  },
  {
   "cell_type": "markdown",
   "metadata": {},
   "source": [
    "### Fit Logistic Model (solver = 'lbfgs', Cs=50, penalty='l2', random_state=3, n_jobs=-1)"
   ]
  },
  {
   "cell_type": "code",
   "execution_count": null,
   "metadata": {},
   "outputs": [],
   "source": [
    "from sklearn.linear_model import LogisticRegression, LogisticRegressionCV"
   ]
  },
  {
   "cell_type": "code",
   "execution_count": null,
   "metadata": {},
   "outputs": [],
   "source": [
    "lr= LogisticRegressionCV(solver = 'lbfgs', Cs=50, penalty='l2', random_state=3, n_jobs=-1)"
   ]
  },
  {
   "cell_type": "code",
   "execution_count": null,
   "metadata": {},
   "outputs": [],
   "source": [
    "lr.fit(X_train, y_train)"
   ]
  },
  {
   "cell_type": "code",
   "execution_count": null,
   "metadata": {},
   "outputs": [],
   "source": [
    "y_pred_lr = lr.predict(X_test)\n",
    "y_probs_lr = lr.predict_proba(X_test)"
   ]
  },
  {
   "cell_type": "code",
   "execution_count": null,
   "metadata": {},
   "outputs": [],
   "source": [
    "print ('accuracy score:', lr.score(X_test, y_test))\n",
    "print ('recall:', recall_score(y_test, y_pred_lr))\n",
    "print ('precision:', precision_score(y_test, y_pred_lr))\n",
    "print ('f1:', f1_score(y_test, y_pred_lr))"
   ]
  },
  {
   "cell_type": "code",
   "execution_count": null,
   "metadata": {},
   "outputs": [],
   "source": [
    "cm = ConfusionMatrix(lr, classes = ['Maintain', 'Churn'])\n",
    "\n",
    "cm.score(X_test, y_test)\n",
    "\n",
    "cm.poof()\n",
    "\n",
    "#specify the target classes\n",
    "classes = [\"Maintain\", \"Churn\"]\n",
    "\n",
    "\n",
    "print(classification_report(y_test, y_pred_lr))"
   ]
  },
  {
   "cell_type": "code",
   "execution_count": null,
   "metadata": {},
   "outputs": [],
   "source": [
    "from sklearn.metrics import roc_curve\n",
    "import warnings\n",
    "import seaborn as sns\n",
    "import itertools\n",
    "import matplotlib.pyplot as plt\n",
    "%matplotlib inline"
   ]
  },
  {
   "cell_type": "code",
   "execution_count": null,
   "metadata": {},
   "outputs": [],
   "source": [
    "fpr_gbc, tpr_gbc, thresholds_gbc = roc_curve(y_test, y_probs_gbc[:,1])\n",
    "fpr_clf, tpr_clf, thresholds_clf = roc_curve(y_test, y_probs_clf[:,1])\n",
    "fpr_knn, tpr_knn, thresholds_knn = roc_curve(y_test, y_probs_knn[:,1])\n",
    "fpr_dtc, tpr_dtc, thresholds_dtc = roc_curve(y_test, y_probs_dtc[:,1])\n",
    "fpr_lr, tpr_lr, thresholds_lr = roc_curve(y_test, y_probs_lr[:,1])"
   ]
  },
  {
   "cell_type": "code",
   "execution_count": null,
   "metadata": {
    "scrolled": true
   },
   "outputs": [],
   "source": [
    "def plot_roc_curve(fpr, tpr, label = None):\n",
    "    plt.plot(fpr, tpr, linewidth =2 , label = label)\n",
    "    plt.plot([0,1], [0,1], 'k--')\n",
    "    plt.axis([0, 1, 0, 1])\n",
    "    plt.xlabel('False Positive Rate')\n",
    "    plt.ylabel('True Positive Rate')\n",
    "    \n",
    "plot_roc_curve(fpr_gbc, tpr_gbc, label = 'GBoost')\n",
    "plot_roc_curve(fpr_clf, tpr_clf, label = 'Forest')\n",
    "plot_roc_curve(fpr_knn, tpr_knn, label = 'KNN')\n",
    "plot_roc_curve(fpr_dtc, tpr_dtc, label = 'DTree')\n",
    "plot_roc_curve(fpr_lr, tpr_lr, label = 'LogReg')\n",
    "\n",
    "plt.legend()\n",
    "plt.show()"
   ]
  }
 ],
 "metadata": {
  "kernelspec": {
   "display_name": "Python 3",
   "language": "python",
   "name": "python3"
  },
  "language_info": {
   "codemirror_mode": {
    "name": "ipython",
    "version": 3
   },
   "file_extension": ".py",
   "mimetype": "text/x-python",
   "name": "python",
   "nbconvert_exporter": "python",
   "pygments_lexer": "ipython3",
   "version": "3.7.4"
  }
 },
 "nbformat": 4,
 "nbformat_minor": 2
}
