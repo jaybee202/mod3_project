{
 "cells": [
  {
   "cell_type": "markdown",
   "metadata": {},
   "source": [
    "# Step 02a: SMOTE"
   ]
  },
  {
   "cell_type": "code",
   "execution_count": 1,
   "metadata": {},
   "outputs": [],
   "source": [
    "import pandas as pd\n",
    "import numpy as np\n",
    "from sklearn.model_selection import train_test_split\n",
    "import pickle\n",
    "from imblearn.over_sampling import SMOTE"
   ]
  },
  {
   "cell_type": "code",
   "execution_count": 2,
   "metadata": {},
   "outputs": [],
   "source": [
    "churn = pd.read_csv('../data/churn_cleaned.csv', index_col=0)"
   ]
  },
  {
   "cell_type": "code",
   "execution_count": 3,
   "metadata": {},
   "outputs": [
    {
     "data": {
      "text/plain": [
       "Index(['state', 'account_length', 'area_code', 'international_plan',\n",
       "       'voice_mail_plan', 'number_vmail_messages', 'total_day_minutes',\n",
       "       'total_day_calls', 'total_day_charge', 'total_eve_minutes',\n",
       "       'total_eve_calls', 'total_eve_charge', 'total_night_minutes',\n",
       "       'total_night_calls', 'total_night_charge', 'total_intl_minutes',\n",
       "       'total_intl_calls', 'total_intl_charge', 'customer_service_calls',\n",
       "       'churn', 'phone_prefix'],\n",
       "      dtype='object')"
      ]
     },
     "execution_count": 3,
     "metadata": {},
     "output_type": "execute_result"
    }
   ],
   "source": [
    "churn.columns"
   ]
  },
  {
   "cell_type": "code",
   "execution_count": 4,
   "metadata": {},
   "outputs": [
    {
     "data": {
      "text/plain": [
       "state                       int64\n",
       "account_length              int64\n",
       "area_code                   int64\n",
       "international_plan          int64\n",
       "voice_mail_plan             int64\n",
       "number_vmail_messages       int64\n",
       "total_day_minutes         float64\n",
       "total_day_calls             int64\n",
       "total_day_charge          float64\n",
       "total_eve_minutes         float64\n",
       "total_eve_calls             int64\n",
       "total_eve_charge          float64\n",
       "total_night_minutes       float64\n",
       "total_night_calls           int64\n",
       "total_night_charge        float64\n",
       "total_intl_minutes        float64\n",
       "total_intl_calls            int64\n",
       "total_intl_charge         float64\n",
       "customer_service_calls      int64\n",
       "churn                       int64\n",
       "phone_prefix                int64\n",
       "dtype: object"
      ]
     },
     "execution_count": 4,
     "metadata": {},
     "output_type": "execute_result"
    }
   ],
   "source": [
    "churn.dtypes"
   ]
  },
  {
   "cell_type": "markdown",
   "metadata": {},
   "source": [
    "### Time to SMOTE"
   ]
  },
  {
   "cell_type": "code",
   "execution_count": 5,
   "metadata": {},
   "outputs": [],
   "source": [
    "X = churn.drop(columns = 'churn', axis = 1)"
   ]
  },
  {
   "cell_type": "code",
   "execution_count": 6,
   "metadata": {},
   "outputs": [],
   "source": [
    "y = churn.churn"
   ]
  },
  {
   "cell_type": "code",
   "execution_count": 7,
   "metadata": {},
   "outputs": [],
   "source": [
    "sm = SMOTE(random_state=3)\n",
    "X_sm, y_sm = sm.fit_resample(X, y)"
   ]
  },
  {
   "cell_type": "code",
   "execution_count": 8,
   "metadata": {},
   "outputs": [],
   "source": [
    "X_sm_df = pd.DataFrame(X_sm, columns=X.columns)"
   ]
  },
  {
   "cell_type": "code",
   "execution_count": 9,
   "metadata": {},
   "outputs": [
    {
     "data": {
      "text/plain": [
       "((3333, 20), (5700, 20))"
      ]
     },
     "execution_count": 9,
     "metadata": {},
     "output_type": "execute_result"
    }
   ],
   "source": [
    "X.shape, X_sm.shape"
   ]
  },
  {
   "cell_type": "code",
   "execution_count": 10,
   "metadata": {},
   "outputs": [
    {
     "data": {
      "text/plain": [
       "((3333,), (5700,))"
      ]
     },
     "execution_count": 10,
     "metadata": {},
     "output_type": "execute_result"
    }
   ],
   "source": [
    "y.shape, y_sm.shape"
   ]
  },
  {
   "cell_type": "code",
   "execution_count": 11,
   "metadata": {},
   "outputs": [
    {
     "data": {
      "text/plain": [
       "0    2850\n",
       "1     483\n",
       "Name: churn, dtype: int64"
      ]
     },
     "execution_count": 11,
     "metadata": {},
     "output_type": "execute_result"
    }
   ],
   "source": [
    "y.value_counts()"
   ]
  },
  {
   "cell_type": "code",
   "execution_count": 12,
   "metadata": {},
   "outputs": [
    {
     "data": {
      "text/plain": [
       "1    2850\n",
       "0    2850\n",
       "Name: churn, dtype: int64"
      ]
     },
     "execution_count": 12,
     "metadata": {},
     "output_type": "execute_result"
    }
   ],
   "source": [
    "y_sm_df = pd.DataFrame(y_sm, columns=['churn'])\n",
    "y_sm_df.churn.value_counts()"
   ]
  },
  {
   "cell_type": "markdown",
   "metadata": {},
   "source": [
    "### Train test split data with SMOTE"
   ]
  },
  {
   "cell_type": "code",
   "execution_count": 18,
   "metadata": {},
   "outputs": [],
   "source": [
    "X_train, X_test, y_train, y_test = train_test_split(X_sm_df, \n",
    "                                                    y_sm, \n",
    "                                                    test_size = 0.3, \n",
    "                                                    stratify = y_sm, \n",
    "                                                    random_state = 3)"
   ]
  },
  {
   "cell_type": "code",
   "execution_count": 19,
   "metadata": {},
   "outputs": [],
   "source": [
    "X_train.to_csv('../data/X_train_sm.csv')\n",
    "X_test.to_csv('../data/X_test_sm.csv')\n",
    "\n",
    "pickle_out = open('../data/y_train_sm.pickle', 'wb')\n",
    "pickle.dump(y_train, pickle_out)\n",
    "\n",
    "pickle_out = open('../data/y_test_sm.pickle', 'wb')\n",
    "pickle.dump(y_test, pickle_out)"
   ]
  },
  {
   "cell_type": "code",
   "execution_count": null,
   "metadata": {},
   "outputs": [],
   "source": []
  }
 ],
 "metadata": {
  "kernelspec": {
   "display_name": "Python 3",
   "language": "python",
   "name": "python3"
  },
  "language_info": {
   "codemirror_mode": {
    "name": "ipython",
    "version": 3
   },
   "file_extension": ".py",
   "mimetype": "text/x-python",
   "name": "python",
   "nbconvert_exporter": "python",
   "pygments_lexer": "ipython3",
   "version": "3.7.4"
  }
 },
 "nbformat": 4,
 "nbformat_minor": 2
}
