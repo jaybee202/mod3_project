{
 "cells": [
  {
   "cell_type": "markdown",
   "metadata": {},
   "source": [
    "# Step2b: OHE and SS with respect to X_train"
   ]
  },
  {
   "cell_type": "code",
   "execution_count": 13,
   "metadata": {},
   "outputs": [],
   "source": [
    "import pandas as pd\n",
    "import numpy as np\n",
    "from sklearn.model_selection import train_test_split\n",
    "import pickle\n",
    "from imblearn.over_sampling import SMOTENC\n",
    "from sklearn.preprocessing import OneHotEncoder, StandardScaler\n",
    "from sklearn.compose import ColumnTransformer"
   ]
  },
  {
   "cell_type": "code",
   "execution_count": 14,
   "metadata": {},
   "outputs": [],
   "source": [
    "X_train = pd.read_csv('../data/X_train.csv', index_col=0)"
   ]
  },
  {
   "cell_type": "code",
   "execution_count": 15,
   "metadata": {},
   "outputs": [
    {
     "data": {
      "text/html": [
       "<div>\n",
       "<style scoped>\n",
       "    .dataframe tbody tr th:only-of-type {\n",
       "        vertical-align: middle;\n",
       "    }\n",
       "\n",
       "    .dataframe tbody tr th {\n",
       "        vertical-align: top;\n",
       "    }\n",
       "\n",
       "    .dataframe thead th {\n",
       "        text-align: right;\n",
       "    }\n",
       "</style>\n",
       "<table border=\"1\" class=\"dataframe\">\n",
       "  <thead>\n",
       "    <tr style=\"text-align: right;\">\n",
       "      <th></th>\n",
       "      <th>state</th>\n",
       "      <th>account_length</th>\n",
       "      <th>area_code</th>\n",
       "      <th>international_plan</th>\n",
       "      <th>voice_mail_plan</th>\n",
       "      <th>number_vmail_messages</th>\n",
       "      <th>total_day_minutes</th>\n",
       "      <th>total_day_calls</th>\n",
       "      <th>total_day_charge</th>\n",
       "      <th>total_eve_minutes</th>\n",
       "      <th>...</th>\n",
       "      <th>total_night_calls</th>\n",
       "      <th>total_night_charge</th>\n",
       "      <th>total_intl_minutes</th>\n",
       "      <th>total_intl_calls</th>\n",
       "      <th>total_intl_charge</th>\n",
       "      <th>customer_service_calls</th>\n",
       "      <th>phone_prefix</th>\n",
       "      <th>total_minutes</th>\n",
       "      <th>total_calls</th>\n",
       "      <th>total_charge</th>\n",
       "    </tr>\n",
       "  </thead>\n",
       "  <tbody>\n",
       "    <tr>\n",
       "      <td>1263</td>\n",
       "      <td>MA</td>\n",
       "      <td>40</td>\n",
       "      <td>408</td>\n",
       "      <td>no</td>\n",
       "      <td>yes</td>\n",
       "      <td>31</td>\n",
       "      <td>224.7</td>\n",
       "      <td>69</td>\n",
       "      <td>38.20</td>\n",
       "      <td>134.5</td>\n",
       "      <td>...</td>\n",
       "      <td>104</td>\n",
       "      <td>5.41</td>\n",
       "      <td>7.5</td>\n",
       "      <td>5</td>\n",
       "      <td>2.03</td>\n",
       "      <td>1</td>\n",
       "      <td>351</td>\n",
       "      <td>487.0</td>\n",
       "      <td>259</td>\n",
       "      <td>57.07</td>\n",
       "    </tr>\n",
       "    <tr>\n",
       "      <td>5</td>\n",
       "      <td>AL</td>\n",
       "      <td>118</td>\n",
       "      <td>510</td>\n",
       "      <td>yes</td>\n",
       "      <td>no</td>\n",
       "      <td>0</td>\n",
       "      <td>223.4</td>\n",
       "      <td>98</td>\n",
       "      <td>37.98</td>\n",
       "      <td>220.6</td>\n",
       "      <td>...</td>\n",
       "      <td>118</td>\n",
       "      <td>9.18</td>\n",
       "      <td>6.3</td>\n",
       "      <td>6</td>\n",
       "      <td>1.70</td>\n",
       "      <td>0</td>\n",
       "      <td>391</td>\n",
       "      <td>654.2</td>\n",
       "      <td>323</td>\n",
       "      <td>67.61</td>\n",
       "    </tr>\n",
       "    <tr>\n",
       "      <td>2214</td>\n",
       "      <td>CT</td>\n",
       "      <td>90</td>\n",
       "      <td>415</td>\n",
       "      <td>no</td>\n",
       "      <td>no</td>\n",
       "      <td>0</td>\n",
       "      <td>175.9</td>\n",
       "      <td>111</td>\n",
       "      <td>29.90</td>\n",
       "      <td>285.2</td>\n",
       "      <td>...</td>\n",
       "      <td>122</td>\n",
       "      <td>6.79</td>\n",
       "      <td>13.0</td>\n",
       "      <td>7</td>\n",
       "      <td>3.51</td>\n",
       "      <td>1</td>\n",
       "      <td>347</td>\n",
       "      <td>624.9</td>\n",
       "      <td>355</td>\n",
       "      <td>64.44</td>\n",
       "    </tr>\n",
       "    <tr>\n",
       "      <td>130</td>\n",
       "      <td>NE</td>\n",
       "      <td>90</td>\n",
       "      <td>415</td>\n",
       "      <td>no</td>\n",
       "      <td>no</td>\n",
       "      <td>0</td>\n",
       "      <td>145.5</td>\n",
       "      <td>92</td>\n",
       "      <td>24.74</td>\n",
       "      <td>217.7</td>\n",
       "      <td>...</td>\n",
       "      <td>123</td>\n",
       "      <td>6.61</td>\n",
       "      <td>10.9</td>\n",
       "      <td>2</td>\n",
       "      <td>2.94</td>\n",
       "      <td>3</td>\n",
       "      <td>353</td>\n",
       "      <td>521.0</td>\n",
       "      <td>331</td>\n",
       "      <td>52.79</td>\n",
       "    </tr>\n",
       "    <tr>\n",
       "      <td>3196</td>\n",
       "      <td>OR</td>\n",
       "      <td>124</td>\n",
       "      <td>510</td>\n",
       "      <td>no</td>\n",
       "      <td>no</td>\n",
       "      <td>0</td>\n",
       "      <td>169.3</td>\n",
       "      <td>108</td>\n",
       "      <td>28.78</td>\n",
       "      <td>178.6</td>\n",
       "      <td>...</td>\n",
       "      <td>82</td>\n",
       "      <td>10.90</td>\n",
       "      <td>12.2</td>\n",
       "      <td>3</td>\n",
       "      <td>3.29</td>\n",
       "      <td>1</td>\n",
       "      <td>337</td>\n",
       "      <td>602.4</td>\n",
       "      <td>284</td>\n",
       "      <td>58.15</td>\n",
       "    </tr>\n",
       "    <tr>\n",
       "      <td>...</td>\n",
       "      <td>...</td>\n",
       "      <td>...</td>\n",
       "      <td>...</td>\n",
       "      <td>...</td>\n",
       "      <td>...</td>\n",
       "      <td>...</td>\n",
       "      <td>...</td>\n",
       "      <td>...</td>\n",
       "      <td>...</td>\n",
       "      <td>...</td>\n",
       "      <td>...</td>\n",
       "      <td>...</td>\n",
       "      <td>...</td>\n",
       "      <td>...</td>\n",
       "      <td>...</td>\n",
       "      <td>...</td>\n",
       "      <td>...</td>\n",
       "      <td>...</td>\n",
       "      <td>...</td>\n",
       "      <td>...</td>\n",
       "      <td>...</td>\n",
       "    </tr>\n",
       "    <tr>\n",
       "      <td>1202</td>\n",
       "      <td>MO</td>\n",
       "      <td>86</td>\n",
       "      <td>415</td>\n",
       "      <td>no</td>\n",
       "      <td>no</td>\n",
       "      <td>0</td>\n",
       "      <td>83.5</td>\n",
       "      <td>96</td>\n",
       "      <td>14.20</td>\n",
       "      <td>221.1</td>\n",
       "      <td>...</td>\n",
       "      <td>75</td>\n",
       "      <td>15.74</td>\n",
       "      <td>12.6</td>\n",
       "      <td>3</td>\n",
       "      <td>3.40</td>\n",
       "      <td>0</td>\n",
       "      <td>385</td>\n",
       "      <td>666.9</td>\n",
       "      <td>237</td>\n",
       "      <td>52.13</td>\n",
       "    </tr>\n",
       "    <tr>\n",
       "      <td>417</td>\n",
       "      <td>AZ</td>\n",
       "      <td>117</td>\n",
       "      <td>408</td>\n",
       "      <td>no</td>\n",
       "      <td>no</td>\n",
       "      <td>0</td>\n",
       "      <td>239.9</td>\n",
       "      <td>84</td>\n",
       "      <td>40.78</td>\n",
       "      <td>174.8</td>\n",
       "      <td>...</td>\n",
       "      <td>93</td>\n",
       "      <td>9.43</td>\n",
       "      <td>9.8</td>\n",
       "      <td>2</td>\n",
       "      <td>2.65</td>\n",
       "      <td>0</td>\n",
       "      <td>417</td>\n",
       "      <td>634.0</td>\n",
       "      <td>285</td>\n",
       "      <td>67.72</td>\n",
       "    </tr>\n",
       "    <tr>\n",
       "      <td>1458</td>\n",
       "      <td>MD</td>\n",
       "      <td>125</td>\n",
       "      <td>408</td>\n",
       "      <td>no</td>\n",
       "      <td>no</td>\n",
       "      <td>0</td>\n",
       "      <td>137.1</td>\n",
       "      <td>94</td>\n",
       "      <td>23.31</td>\n",
       "      <td>209.8</td>\n",
       "      <td>...</td>\n",
       "      <td>114</td>\n",
       "      <td>10.73</td>\n",
       "      <td>8.6</td>\n",
       "      <td>4</td>\n",
       "      <td>2.32</td>\n",
       "      <td>1</td>\n",
       "      <td>349</td>\n",
       "      <td>593.9</td>\n",
       "      <td>295</td>\n",
       "      <td>54.19</td>\n",
       "    </tr>\n",
       "    <tr>\n",
       "      <td>1004</td>\n",
       "      <td>DE</td>\n",
       "      <td>64</td>\n",
       "      <td>415</td>\n",
       "      <td>no</td>\n",
       "      <td>yes</td>\n",
       "      <td>27</td>\n",
       "      <td>201.3</td>\n",
       "      <td>101</td>\n",
       "      <td>34.22</td>\n",
       "      <td>143.8</td>\n",
       "      <td>...</td>\n",
       "      <td>127</td>\n",
       "      <td>6.76</td>\n",
       "      <td>12.3</td>\n",
       "      <td>3</td>\n",
       "      <td>3.32</td>\n",
       "      <td>1</td>\n",
       "      <td>402</td>\n",
       "      <td>507.6</td>\n",
       "      <td>320</td>\n",
       "      <td>56.52</td>\n",
       "    </tr>\n",
       "    <tr>\n",
       "      <td>1531</td>\n",
       "      <td>DE</td>\n",
       "      <td>138</td>\n",
       "      <td>510</td>\n",
       "      <td>yes</td>\n",
       "      <td>no</td>\n",
       "      <td>0</td>\n",
       "      <td>46.5</td>\n",
       "      <td>104</td>\n",
       "      <td>7.91</td>\n",
       "      <td>186.0</td>\n",
       "      <td>...</td>\n",
       "      <td>95</td>\n",
       "      <td>7.54</td>\n",
       "      <td>9.6</td>\n",
       "      <td>4</td>\n",
       "      <td>2.59</td>\n",
       "      <td>4</td>\n",
       "      <td>380</td>\n",
       "      <td>409.6</td>\n",
       "      <td>317</td>\n",
       "      <td>33.85</td>\n",
       "    </tr>\n",
       "  </tbody>\n",
       "</table>\n",
       "<p>2333 rows × 23 columns</p>\n",
       "</div>"
      ],
      "text/plain": [
       "     state  account_length  area_code international_plan voice_mail_plan  \\\n",
       "1263    MA              40        408                 no             yes   \n",
       "5       AL             118        510                yes              no   \n",
       "2214    CT              90        415                 no              no   \n",
       "130     NE              90        415                 no              no   \n",
       "3196    OR             124        510                 no              no   \n",
       "...    ...             ...        ...                ...             ...   \n",
       "1202    MO              86        415                 no              no   \n",
       "417     AZ             117        408                 no              no   \n",
       "1458    MD             125        408                 no              no   \n",
       "1004    DE              64        415                 no             yes   \n",
       "1531    DE             138        510                yes              no   \n",
       "\n",
       "      number_vmail_messages  total_day_minutes  total_day_calls  \\\n",
       "1263                     31              224.7               69   \n",
       "5                         0              223.4               98   \n",
       "2214                      0              175.9              111   \n",
       "130                       0              145.5               92   \n",
       "3196                      0              169.3              108   \n",
       "...                     ...                ...              ...   \n",
       "1202                      0               83.5               96   \n",
       "417                       0              239.9               84   \n",
       "1458                      0              137.1               94   \n",
       "1004                     27              201.3              101   \n",
       "1531                      0               46.5              104   \n",
       "\n",
       "      total_day_charge  total_eve_minutes  ...  total_night_calls  \\\n",
       "1263             38.20              134.5  ...                104   \n",
       "5                37.98              220.6  ...                118   \n",
       "2214             29.90              285.2  ...                122   \n",
       "130              24.74              217.7  ...                123   \n",
       "3196             28.78              178.6  ...                 82   \n",
       "...                ...                ...  ...                ...   \n",
       "1202             14.20              221.1  ...                 75   \n",
       "417              40.78              174.8  ...                 93   \n",
       "1458             23.31              209.8  ...                114   \n",
       "1004             34.22              143.8  ...                127   \n",
       "1531              7.91              186.0  ...                 95   \n",
       "\n",
       "      total_night_charge  total_intl_minutes  total_intl_calls  \\\n",
       "1263                5.41                 7.5                 5   \n",
       "5                   9.18                 6.3                 6   \n",
       "2214                6.79                13.0                 7   \n",
       "130                 6.61                10.9                 2   \n",
       "3196               10.90                12.2                 3   \n",
       "...                  ...                 ...               ...   \n",
       "1202               15.74                12.6                 3   \n",
       "417                 9.43                 9.8                 2   \n",
       "1458               10.73                 8.6                 4   \n",
       "1004                6.76                12.3                 3   \n",
       "1531                7.54                 9.6                 4   \n",
       "\n",
       "      total_intl_charge  customer_service_calls  phone_prefix  total_minutes  \\\n",
       "1263               2.03                       1           351          487.0   \n",
       "5                  1.70                       0           391          654.2   \n",
       "2214               3.51                       1           347          624.9   \n",
       "130                2.94                       3           353          521.0   \n",
       "3196               3.29                       1           337          602.4   \n",
       "...                 ...                     ...           ...            ...   \n",
       "1202               3.40                       0           385          666.9   \n",
       "417                2.65                       0           417          634.0   \n",
       "1458               2.32                       1           349          593.9   \n",
       "1004               3.32                       1           402          507.6   \n",
       "1531               2.59                       4           380          409.6   \n",
       "\n",
       "      total_calls  total_charge  \n",
       "1263          259         57.07  \n",
       "5             323         67.61  \n",
       "2214          355         64.44  \n",
       "130           331         52.79  \n",
       "3196          284         58.15  \n",
       "...           ...           ...  \n",
       "1202          237         52.13  \n",
       "417           285         67.72  \n",
       "1458          295         54.19  \n",
       "1004          320         56.52  \n",
       "1531          317         33.85  \n",
       "\n",
       "[2333 rows x 23 columns]"
      ]
     },
     "execution_count": 15,
     "metadata": {},
     "output_type": "execute_result"
    }
   ],
   "source": [
    "X_train"
   ]
  },
  {
   "cell_type": "code",
   "execution_count": 16,
   "metadata": {},
   "outputs": [],
   "source": [
    "X_train = X_train.drop(columns = ['state', 'phone_prefix'])"
   ]
  },
  {
   "cell_type": "code",
   "execution_count": 17,
   "metadata": {},
   "outputs": [
    {
     "data": {
      "text/plain": [
       "(2333, 21)"
      ]
     },
     "execution_count": 17,
     "metadata": {},
     "output_type": "execute_result"
    }
   ],
   "source": [
    "X_train.shape\n"
   ]
  },
  {
   "cell_type": "code",
   "execution_count": 18,
   "metadata": {},
   "outputs": [],
   "source": [
    "X_train['area_code'] = X_train['area_code'].astype(str)"
   ]
  },
  {
   "cell_type": "markdown",
   "metadata": {},
   "source": [
    "### Define categorical and numeric columns"
   ]
  },
  {
   "cell_type": "code",
   "execution_count": 19,
   "metadata": {},
   "outputs": [
    {
     "data": {
      "text/plain": [
       "(['area_code', 'international_plan', 'voice_mail_plan'],\n",
       " ['account_length',\n",
       "  'number_vmail_messages',\n",
       "  'total_day_minutes',\n",
       "  'total_day_calls',\n",
       "  'total_day_charge',\n",
       "  'total_eve_minutes',\n",
       "  'total_eve_calls',\n",
       "  'total_eve_charge',\n",
       "  'total_night_minutes',\n",
       "  'total_night_calls',\n",
       "  'total_night_charge',\n",
       "  'total_intl_minutes',\n",
       "  'total_intl_calls',\n",
       "  'total_intl_charge',\n",
       "  'customer_service_calls',\n",
       "  'total_minutes',\n",
       "  'total_calls',\n",
       "  'total_charge'])"
      ]
     },
     "execution_count": 19,
     "metadata": {},
     "output_type": "execute_result"
    }
   ],
   "source": [
    "categorical = []\n",
    "numeric = []\n",
    "for c in X_train.columns:\n",
    "    if X_train[c].dtypes == 'object':\n",
    "        categorical.append(c)\n",
    "    else:\n",
    "        numeric.append(c)\n",
    "        \n",
    "categorical, numeric"
   ]
  },
  {
   "cell_type": "markdown",
   "metadata": {},
   "source": [
    "### OHE"
   ]
  },
  {
   "cell_type": "code",
   "execution_count": 20,
   "metadata": {},
   "outputs": [],
   "source": [
    "X_ohe = X_train.drop(columns = numeric)"
   ]
  },
  {
   "cell_type": "code",
   "execution_count": 21,
   "metadata": {},
   "outputs": [],
   "source": [
    "ohe = OneHotEncoder(drop='first', sparse=False)"
   ]
  },
  {
   "cell_type": "code",
   "execution_count": 22,
   "metadata": {},
   "outputs": [
    {
     "data": {
      "text/plain": [
       "array([[0., 0., 0., 1.],\n",
       "       [0., 1., 1., 0.],\n",
       "       [1., 0., 0., 0.],\n",
       "       ...,\n",
       "       [0., 0., 0., 0.],\n",
       "       [1., 0., 0., 1.],\n",
       "       [0., 1., 1., 0.]])"
      ]
     },
     "execution_count": 22,
     "metadata": {},
     "output_type": "execute_result"
    }
   ],
   "source": [
    "ohe.fit_transform(X_ohe)"
   ]
  },
  {
   "cell_type": "code",
   "execution_count": 23,
   "metadata": {},
   "outputs": [
    {
     "data": {
      "text/plain": [
       "['area_code', 'international_plan', 'voice_mail_plan']"
      ]
     },
     "execution_count": 23,
     "metadata": {},
     "output_type": "execute_result"
    }
   ],
   "source": [
    "categorical"
   ]
  },
  {
   "cell_type": "code",
   "execution_count": 24,
   "metadata": {},
   "outputs": [],
   "source": [
    "X_ohe_df = pd.DataFrame(ohe.fit_transform(X_ohe), columns = ohe.get_feature_names())"
   ]
  },
  {
   "cell_type": "markdown",
   "metadata": {},
   "source": [
    "### StandardScaler"
   ]
  },
  {
   "cell_type": "code",
   "execution_count": 25,
   "metadata": {},
   "outputs": [],
   "source": [
    "X_ss = X_train.drop(columns = categorical)"
   ]
  },
  {
   "cell_type": "code",
   "execution_count": 26,
   "metadata": {},
   "outputs": [
    {
     "data": {
      "text/plain": [
       "Index(['account_length', 'number_vmail_messages', 'total_day_minutes',\n",
       "       'total_day_calls', 'total_day_charge', 'total_eve_minutes',\n",
       "       'total_eve_calls', 'total_eve_charge', 'total_night_minutes',\n",
       "       'total_night_calls', 'total_night_charge', 'total_intl_minutes',\n",
       "       'total_intl_calls', 'total_intl_charge', 'customer_service_calls',\n",
       "       'total_minutes', 'total_calls', 'total_charge'],\n",
       "      dtype='object')"
      ]
     },
     "execution_count": 26,
     "metadata": {},
     "output_type": "execute_result"
    }
   ],
   "source": [
    "X_ss.columns"
   ]
  },
  {
   "cell_type": "code",
   "execution_count": 27,
   "metadata": {},
   "outputs": [],
   "source": [
    "ss = StandardScaler()\n",
    "X_ss_df = pd.DataFrame(ss.fit_transform(X_ss), columns = X_ss.columns)"
   ]
  },
  {
   "cell_type": "code",
   "execution_count": 28,
   "metadata": {},
   "outputs": [],
   "source": [
    "X_ss_df;"
   ]
  },
  {
   "cell_type": "code",
   "execution_count": 29,
   "metadata": {},
   "outputs": [],
   "source": [
    "X_train_trans = pd.concat([X_ss_df, X_ohe_df], axis = 1)"
   ]
  },
  {
   "cell_type": "markdown",
   "metadata": {},
   "source": [
    "### Export data"
   ]
  },
  {
   "cell_type": "code",
   "execution_count": 30,
   "metadata": {},
   "outputs": [],
   "source": [
    "### X_train (original), X_train_trans (transformed), X_test, y_train, y_test\n",
    "X_train_trans.to_csv('../data/X_train_trans2.csv')"
   ]
  },
  {
   "cell_type": "code",
   "execution_count": null,
   "metadata": {},
   "outputs": [],
   "source": []
  },
  {
   "cell_type": "code",
   "execution_count": null,
   "metadata": {},
   "outputs": [],
   "source": []
  }
 ],
 "metadata": {
  "kernelspec": {
   "display_name": "Python 3",
   "language": "python",
   "name": "python3"
  },
  "language_info": {
   "codemirror_mode": {
    "name": "ipython",
    "version": 3
   },
   "file_extension": ".py",
   "mimetype": "text/x-python",
   "name": "python",
   "nbconvert_exporter": "python",
   "pygments_lexer": "ipython3",
   "version": "3.7.4"
  }
 },
 "nbformat": 4,
 "nbformat_minor": 2
}
