{
 "cells": [
  {
   "cell_type": "markdown",
   "metadata": {},
   "source": [
    "# Train, Test, Split"
   ]
  },
  {
   "cell_type": "code",
   "execution_count": 11,
   "metadata": {},
   "outputs": [],
   "source": [
    "import pandas as pd\n",
    "import numpy as np\n",
    "from sklearn.model_selection import train_test_split\n",
    "import pickle"
   ]
  },
  {
   "cell_type": "code",
   "execution_count": 12,
   "metadata": {},
   "outputs": [],
   "source": [
    "churn = pd.read_csv('../data/churn_cleaned.csv', index_col=0)"
   ]
  },
  {
   "cell_type": "code",
   "execution_count": 13,
   "metadata": {},
   "outputs": [
    {
     "data": {
      "text/plain": [
       "Index(['state', 'account_length', 'area_code', 'international_plan',\n",
       "       'voice_mail_plan', 'number_vmail_messages', 'total_day_minutes',\n",
       "       'total_day_calls', 'total_day_charge', 'total_eve_minutes',\n",
       "       'total_eve_calls', 'total_eve_charge', 'total_night_minutes',\n",
       "       'total_night_calls', 'total_night_charge', 'total_intl_minutes',\n",
       "       'total_intl_calls', 'total_intl_charge', 'customer_service_calls',\n",
       "       'churn', 'phone_prefix', 'total_minutes', 'total_calls',\n",
       "       'total_charge'],\n",
       "      dtype='object')"
      ]
     },
     "execution_count": 13,
     "metadata": {},
     "output_type": "execute_result"
    }
   ],
   "source": [
    "churn.columns"
   ]
  },
  {
   "cell_type": "code",
   "execution_count": 14,
   "metadata": {},
   "outputs": [
    {
     "data": {
      "text/plain": [
       "state                      object\n",
       "account_length              int64\n",
       "area_code                   int64\n",
       "international_plan         object\n",
       "voice_mail_plan            object\n",
       "number_vmail_messages       int64\n",
       "total_day_minutes         float64\n",
       "total_day_calls             int64\n",
       "total_day_charge          float64\n",
       "total_eve_minutes         float64\n",
       "total_eve_calls             int64\n",
       "total_eve_charge          float64\n",
       "total_night_minutes       float64\n",
       "total_night_calls           int64\n",
       "total_night_charge        float64\n",
       "total_intl_minutes        float64\n",
       "total_intl_calls            int64\n",
       "total_intl_charge         float64\n",
       "customer_service_calls      int64\n",
       "churn                       int64\n",
       "phone_prefix                int64\n",
       "total_minutes             float64\n",
       "total_calls                 int64\n",
       "total_charge              float64\n",
       "dtype: object"
      ]
     },
     "execution_count": 14,
     "metadata": {},
     "output_type": "execute_result"
    }
   ],
   "source": [
    "churn.dtypes"
   ]
  },
  {
   "cell_type": "code",
   "execution_count": 15,
   "metadata": {},
   "outputs": [],
   "source": [
    "churn.phone_prefix = churn.phone_prefix.apply(lambda p: str(p))\n",
    "churn.area_code = churn.area_code.apply(lambda p: str(p))"
   ]
  },
  {
   "cell_type": "markdown",
   "metadata": {},
   "source": [
    "### Train test split with stratifiction in respect to y"
   ]
  },
  {
   "cell_type": "code",
   "execution_count": 16,
   "metadata": {},
   "outputs": [],
   "source": [
    "X = churn.drop(columns = 'churn', axis = 1)"
   ]
  },
  {
   "cell_type": "code",
   "execution_count": 17,
   "metadata": {},
   "outputs": [],
   "source": [
    "y = churn.churn"
   ]
  },
  {
   "cell_type": "code",
   "execution_count": 18,
   "metadata": {},
   "outputs": [],
   "source": [
    "X_train, X_test, y_train, y_test = train_test_split(X, \n",
    "                                                    y, \n",
    "                                                    test_size = 0.3, \n",
    "                                                    stratify = y, \n",
    "                                                    random_state = 3)"
   ]
  },
  {
   "cell_type": "code",
   "execution_count": 19,
   "metadata": {},
   "outputs": [],
   "source": [
    "### X_train (original), X_train_trans (transformed), X_test, y_train, y_test\n",
    "### Export X_train (original), X_train_sm (smote), and X_test\n",
    "X_train.to_csv('../data/X_train.csv')\n",
    "X_test.to_csv('../data/X_test.csv')\n",
    "\n",
    "### Export y_train (original), y_train_sm (smote), and y_test\n",
    "pickle_out = open('../data/y_train.pickle', 'wb')\n",
    "pickle.dump(y_train, pickle_out)\n",
    "\n",
    "pickle_out = open('../data/y_test.pickle', 'wb')\n",
    "pickle.dump(y_test, pickle_out)"
   ]
  },
  {
   "cell_type": "code",
   "execution_count": null,
   "metadata": {},
   "outputs": [],
   "source": []
  },
  {
   "cell_type": "code",
   "execution_count": null,
   "metadata": {},
   "outputs": [],
   "source": []
  },
  {
   "cell_type": "code",
   "execution_count": null,
   "metadata": {},
   "outputs": [],
   "source": []
  },
  {
   "cell_type": "code",
   "execution_count": null,
   "metadata": {},
   "outputs": [],
   "source": []
  },
  {
   "cell_type": "code",
   "execution_count": null,
   "metadata": {},
   "outputs": [],
   "source": []
  },
  {
   "cell_type": "code",
   "execution_count": null,
   "metadata": {},
   "outputs": [],
   "source": []
  },
  {
   "cell_type": "markdown",
   "metadata": {},
   "source": [
    "### Define categorical and numeric columns"
   ]
  },
  {
   "cell_type": "code",
   "execution_count": 131,
   "metadata": {},
   "outputs": [],
   "source": [
    "categorical = []\n",
    "numeric = []\n",
    "for c in X_train.columns:\n",
    "    if X_train[c].dtypes == 'object':\n",
    "        categorical.append(c)\n",
    "    else:\n",
    "        numeric.append(c)\n",
    "        \n",
    "categorical, numeric;"
   ]
  },
  {
   "cell_type": "markdown",
   "metadata": {},
   "source": [
    "### OHE"
   ]
  },
  {
   "cell_type": "code",
   "execution_count": 132,
   "metadata": {},
   "outputs": [],
   "source": [
    "# ss = StandardScaler()\n",
    "# ohe = OneHotEncoder(drop='first', sparse=False)"
   ]
  },
  {
   "cell_type": "code",
   "execution_count": 133,
   "metadata": {},
   "outputs": [],
   "source": [
    "# ct = ColumnTransformer(\n",
    "#     transformers=[\n",
    "#         ('num', ss, numeric),\n",
    "#         ('cat', ohe, categorical)], \n",
    "#     remainder='passthrough')"
   ]
  },
  {
   "cell_type": "code",
   "execution_count": 134,
   "metadata": {},
   "outputs": [],
   "source": [
    "# X_ct = ct.fit_transform(X_train)"
   ]
  },
  {
   "cell_type": "code",
   "execution_count": 135,
   "metadata": {},
   "outputs": [],
   "source": [
    "# pd.DataFrame(X_ct)"
   ]
  },
  {
   "cell_type": "code",
   "execution_count": 136,
   "metadata": {},
   "outputs": [],
   "source": [
    "X_ohe = X_train.drop(columns = numeric)"
   ]
  },
  {
   "cell_type": "code",
   "execution_count": 137,
   "metadata": {},
   "outputs": [],
   "source": [
    "ohe = OneHotEncoder(drop='first', sparse=False)"
   ]
  },
  {
   "cell_type": "code",
   "execution_count": 138,
   "metadata": {},
   "outputs": [
    {
     "data": {
      "text/plain": [
       "array([[0., 0., 0., ..., 0., 0., 0.],\n",
       "       [1., 0., 0., ..., 0., 0., 0.],\n",
       "       [0., 0., 0., ..., 0., 0., 0.],\n",
       "       ...,\n",
       "       [0., 0., 0., ..., 0., 0., 0.],\n",
       "       [0., 0., 0., ..., 0., 0., 0.],\n",
       "       [0., 0., 0., ..., 0., 0., 0.]])"
      ]
     },
     "execution_count": 138,
     "metadata": {},
     "output_type": "execute_result"
    }
   ],
   "source": [
    "ohe.fit_transform(X_ohe)"
   ]
  },
  {
   "cell_type": "code",
   "execution_count": 139,
   "metadata": {},
   "outputs": [
    {
     "data": {
      "text/plain": [
       "['state', 'area_code', 'international_plan', 'voice_mail_plan', 'phone_prefix']"
      ]
     },
     "execution_count": 139,
     "metadata": {},
     "output_type": "execute_result"
    }
   ],
   "source": [
    "categorical"
   ]
  },
  {
   "cell_type": "code",
   "execution_count": 140,
   "metadata": {},
   "outputs": [],
   "source": [
    "X_ohe_df = pd.DataFrame(ohe.fit_transform(X_ohe), columns = ohe.get_feature_names())"
   ]
  },
  {
   "cell_type": "markdown",
   "metadata": {},
   "source": [
    "### StandardScaler"
   ]
  },
  {
   "cell_type": "code",
   "execution_count": 141,
   "metadata": {},
   "outputs": [],
   "source": [
    "X_ss = X_train.drop(columns = categorical)"
   ]
  },
  {
   "cell_type": "code",
   "execution_count": 142,
   "metadata": {},
   "outputs": [
    {
     "data": {
      "text/plain": [
       "Index(['account_length', 'number_vmail_messages', 'total_day_minutes',\n",
       "       'total_day_calls', 'total_day_charge', 'total_eve_minutes',\n",
       "       'total_eve_calls', 'total_eve_charge', 'total_night_minutes',\n",
       "       'total_night_calls', 'total_night_charge', 'total_intl_minutes',\n",
       "       'total_intl_calls', 'total_intl_charge', 'customer_service_calls',\n",
       "       'total_minutes', 'total_calls', 'total_charge'],\n",
       "      dtype='object')"
      ]
     },
     "execution_count": 142,
     "metadata": {},
     "output_type": "execute_result"
    }
   ],
   "source": [
    "X_ss.columns"
   ]
  },
  {
   "cell_type": "code",
   "execution_count": 143,
   "metadata": {},
   "outputs": [],
   "source": [
    "ss = StandardScaler()\n",
    "X_ss_df = pd.DataFrame(ss.fit_transform(X_ss), columns = X_ss.columns)"
   ]
  },
  {
   "cell_type": "code",
   "execution_count": 144,
   "metadata": {},
   "outputs": [
    {
     "data": {
      "text/html": [
       "<div>\n",
       "<style scoped>\n",
       "    .dataframe tbody tr th:only-of-type {\n",
       "        vertical-align: middle;\n",
       "    }\n",
       "\n",
       "    .dataframe tbody tr th {\n",
       "        vertical-align: top;\n",
       "    }\n",
       "\n",
       "    .dataframe thead th {\n",
       "        text-align: right;\n",
       "    }\n",
       "</style>\n",
       "<table border=\"1\" class=\"dataframe\">\n",
       "  <thead>\n",
       "    <tr style=\"text-align: right;\">\n",
       "      <th></th>\n",
       "      <th>account_length</th>\n",
       "      <th>number_vmail_messages</th>\n",
       "      <th>total_day_minutes</th>\n",
       "      <th>total_day_calls</th>\n",
       "      <th>total_day_charge</th>\n",
       "      <th>total_eve_minutes</th>\n",
       "      <th>total_eve_calls</th>\n",
       "      <th>total_eve_charge</th>\n",
       "      <th>total_night_minutes</th>\n",
       "      <th>total_night_calls</th>\n",
       "      <th>total_night_charge</th>\n",
       "      <th>total_intl_minutes</th>\n",
       "      <th>total_intl_calls</th>\n",
       "      <th>total_intl_charge</th>\n",
       "      <th>customer_service_calls</th>\n",
       "      <th>total_minutes</th>\n",
       "      <th>total_calls</th>\n",
       "      <th>total_charge</th>\n",
       "    </tr>\n",
       "  </thead>\n",
       "  <tbody>\n",
       "    <tr>\n",
       "      <td>0</td>\n",
       "      <td>-1.508366</td>\n",
       "      <td>1.658110</td>\n",
       "      <td>0.832457</td>\n",
       "      <td>-1.530204</td>\n",
       "      <td>0.832508</td>\n",
       "      <td>-1.310525</td>\n",
       "      <td>-0.972401</td>\n",
       "      <td>-1.311142</td>\n",
       "      <td>-1.616872</td>\n",
       "      <td>0.193381</td>\n",
       "      <td>-1.618393</td>\n",
       "      <td>-0.987060</td>\n",
       "      <td>0.224309</td>\n",
       "      <td>-0.981136</td>\n",
       "      <td>-0.426884</td>\n",
       "      <td>-1.152825</td>\n",
       "      <td>-1.331638</td>\n",
       "      <td>-0.219875</td>\n",
       "    </tr>\n",
       "    <tr>\n",
       "      <td>1</td>\n",
       "      <td>0.432612</td>\n",
       "      <td>-0.592293</td>\n",
       "      <td>0.808653</td>\n",
       "      <td>-0.097455</td>\n",
       "      <td>0.808811</td>\n",
       "      <td>0.379882</td>\n",
       "      <td>0.040214</td>\n",
       "      <td>0.379595</td>\n",
       "      <td>0.056732</td>\n",
       "      <td>0.913424</td>\n",
       "      <td>0.058700</td>\n",
       "      <td>-1.414198</td>\n",
       "      <td>0.633467</td>\n",
       "      <td>-1.416169</td>\n",
       "      <td>-1.191800</td>\n",
       "      <td>0.685933</td>\n",
       "      <td>0.526322</td>\n",
       "      <td>0.774870</td>\n",
       "    </tr>\n",
       "    <tr>\n",
       "      <td>2</td>\n",
       "      <td>-0.264149</td>\n",
       "      <td>-0.592293</td>\n",
       "      <td>-0.061110</td>\n",
       "      <td>0.544812</td>\n",
       "      <td>-0.061490</td>\n",
       "      <td>1.648178</td>\n",
       "      <td>0.749044</td>\n",
       "      <td>1.647648</td>\n",
       "      <td>-1.006287</td>\n",
       "      <td>1.119150</td>\n",
       "      <td>-1.004497</td>\n",
       "      <td>0.970658</td>\n",
       "      <td>1.042625</td>\n",
       "      <td>0.969925</td>\n",
       "      <td>-0.426884</td>\n",
       "      <td>0.363710</td>\n",
       "      <td>1.455301</td>\n",
       "      <td>0.475691</td>\n",
       "    </tr>\n",
       "    <tr>\n",
       "      <td>3</td>\n",
       "      <td>-0.264149</td>\n",
       "      <td>-0.592293</td>\n",
       "      <td>-0.617759</td>\n",
       "      <td>-0.393886</td>\n",
       "      <td>-0.617276</td>\n",
       "      <td>0.322946</td>\n",
       "      <td>0.698414</td>\n",
       "      <td>0.321851</td>\n",
       "      <td>-1.084361</td>\n",
       "      <td>1.170582</td>\n",
       "      <td>-1.084570</td>\n",
       "      <td>0.223166</td>\n",
       "      <td>-1.003165</td>\n",
       "      <td>0.218503</td>\n",
       "      <td>1.102947</td>\n",
       "      <td>-0.778915</td>\n",
       "      <td>0.758566</td>\n",
       "      <td>-0.623814</td>\n",
       "    </tr>\n",
       "    <tr>\n",
       "      <td>4</td>\n",
       "      <td>0.581918</td>\n",
       "      <td>-0.592293</td>\n",
       "      <td>-0.181961</td>\n",
       "      <td>0.396596</td>\n",
       "      <td>-0.182125</td>\n",
       "      <td>-0.444707</td>\n",
       "      <td>-0.466094</td>\n",
       "      <td>-0.444986</td>\n",
       "      <td>0.825468</td>\n",
       "      <td>-0.938114</td>\n",
       "      <td>0.823847</td>\n",
       "      <td>0.685899</td>\n",
       "      <td>-0.594007</td>\n",
       "      <td>0.679902</td>\n",
       "      <td>-0.426884</td>\n",
       "      <td>0.116270</td>\n",
       "      <td>-0.605873</td>\n",
       "      <td>-0.117947</td>\n",
       "    </tr>\n",
       "    <tr>\n",
       "      <td>...</td>\n",
       "      <td>...</td>\n",
       "      <td>...</td>\n",
       "      <td>...</td>\n",
       "      <td>...</td>\n",
       "      <td>...</td>\n",
       "      <td>...</td>\n",
       "      <td>...</td>\n",
       "      <td>...</td>\n",
       "      <td>...</td>\n",
       "      <td>...</td>\n",
       "      <td>...</td>\n",
       "      <td>...</td>\n",
       "      <td>...</td>\n",
       "      <td>...</td>\n",
       "      <td>...</td>\n",
       "      <td>...</td>\n",
       "      <td>...</td>\n",
       "      <td>...</td>\n",
       "    </tr>\n",
       "    <tr>\n",
       "      <td>2328</td>\n",
       "      <td>-0.363687</td>\n",
       "      <td>-0.592293</td>\n",
       "      <td>-1.753029</td>\n",
       "      <td>-0.196265</td>\n",
       "      <td>-1.752545</td>\n",
       "      <td>0.389698</td>\n",
       "      <td>-1.883755</td>\n",
       "      <td>0.388834</td>\n",
       "      <td>2.975528</td>\n",
       "      <td>-1.298135</td>\n",
       "      <td>2.976932</td>\n",
       "      <td>0.828279</td>\n",
       "      <td>-0.594007</td>\n",
       "      <td>0.824914</td>\n",
       "      <td>-1.191800</td>\n",
       "      <td>0.825599</td>\n",
       "      <td>-1.970312</td>\n",
       "      <td>-0.686103</td>\n",
       "    </tr>\n",
       "    <tr>\n",
       "      <td>2329</td>\n",
       "      <td>0.407728</td>\n",
       "      <td>-0.592293</td>\n",
       "      <td>1.110782</td>\n",
       "      <td>-0.789127</td>\n",
       "      <td>1.110401</td>\n",
       "      <td>-0.519313</td>\n",
       "      <td>0.293368</td>\n",
       "      <td>-0.518898</td>\n",
       "      <td>0.168839</td>\n",
       "      <td>-0.372367</td>\n",
       "      <td>0.169913</td>\n",
       "      <td>-0.168378</td>\n",
       "      <td>-1.003165</td>\n",
       "      <td>-0.163799</td>\n",
       "      <td>-1.191800</td>\n",
       "      <td>0.463786</td>\n",
       "      <td>-0.576842</td>\n",
       "      <td>0.785251</td>\n",
       "    </tr>\n",
       "    <tr>\n",
       "      <td>2330</td>\n",
       "      <td>0.606802</td>\n",
       "      <td>-0.592293</td>\n",
       "      <td>-0.771569</td>\n",
       "      <td>-0.295075</td>\n",
       "      <td>-0.771302</td>\n",
       "      <td>0.167845</td>\n",
       "      <td>-0.871140</td>\n",
       "      <td>0.167098</td>\n",
       "      <td>0.747393</td>\n",
       "      <td>0.707697</td>\n",
       "      <td>0.748222</td>\n",
       "      <td>-0.595516</td>\n",
       "      <td>-0.184849</td>\n",
       "      <td>-0.598833</td>\n",
       "      <td>-0.426884</td>\n",
       "      <td>0.022792</td>\n",
       "      <td>-0.286536</td>\n",
       "      <td>-0.491684</td>\n",
       "    </tr>\n",
       "    <tr>\n",
       "      <td>2331</td>\n",
       "      <td>-0.911142</td>\n",
       "      <td>1.367735</td>\n",
       "      <td>0.403984</td>\n",
       "      <td>0.050760</td>\n",
       "      <td>0.403820</td>\n",
       "      <td>-1.127938</td>\n",
       "      <td>-0.567355</td>\n",
       "      <td>-1.128672</td>\n",
       "      <td>-1.018298</td>\n",
       "      <td>1.376308</td>\n",
       "      <td>-1.017843</td>\n",
       "      <td>0.721494</td>\n",
       "      <td>-0.594007</td>\n",
       "      <td>0.719451</td>\n",
       "      <td>-0.426884</td>\n",
       "      <td>-0.926279</td>\n",
       "      <td>0.439230</td>\n",
       "      <td>-0.271783</td>\n",
       "    </tr>\n",
       "    <tr>\n",
       "      <td>2332</td>\n",
       "      <td>0.930299</td>\n",
       "      <td>-0.592293</td>\n",
       "      <td>-2.430529</td>\n",
       "      <td>0.198976</td>\n",
       "      <td>-2.430044</td>\n",
       "      <td>-0.299422</td>\n",
       "      <td>0.698414</td>\n",
       "      <td>-0.299472</td>\n",
       "      <td>-0.671966</td>\n",
       "      <td>-0.269503</td>\n",
       "      <td>-0.670858</td>\n",
       "      <td>-0.239567</td>\n",
       "      <td>-0.184849</td>\n",
       "      <td>-0.242897</td>\n",
       "      <td>1.867863</td>\n",
       "      <td>-2.004020</td>\n",
       "      <td>0.352138</td>\n",
       "      <td>-2.411335</td>\n",
       "    </tr>\n",
       "  </tbody>\n",
       "</table>\n",
       "<p>2333 rows × 18 columns</p>\n",
       "</div>"
      ],
      "text/plain": [
       "      account_length  number_vmail_messages  total_day_minutes  \\\n",
       "0          -1.508366               1.658110           0.832457   \n",
       "1           0.432612              -0.592293           0.808653   \n",
       "2          -0.264149              -0.592293          -0.061110   \n",
       "3          -0.264149              -0.592293          -0.617759   \n",
       "4           0.581918              -0.592293          -0.181961   \n",
       "...              ...                    ...                ...   \n",
       "2328       -0.363687              -0.592293          -1.753029   \n",
       "2329        0.407728              -0.592293           1.110782   \n",
       "2330        0.606802              -0.592293          -0.771569   \n",
       "2331       -0.911142               1.367735           0.403984   \n",
       "2332        0.930299              -0.592293          -2.430529   \n",
       "\n",
       "      total_day_calls  total_day_charge  total_eve_minutes  total_eve_calls  \\\n",
       "0           -1.530204          0.832508          -1.310525        -0.972401   \n",
       "1           -0.097455          0.808811           0.379882         0.040214   \n",
       "2            0.544812         -0.061490           1.648178         0.749044   \n",
       "3           -0.393886         -0.617276           0.322946         0.698414   \n",
       "4            0.396596         -0.182125          -0.444707        -0.466094   \n",
       "...               ...               ...                ...              ...   \n",
       "2328        -0.196265         -1.752545           0.389698        -1.883755   \n",
       "2329        -0.789127          1.110401          -0.519313         0.293368   \n",
       "2330        -0.295075         -0.771302           0.167845        -0.871140   \n",
       "2331         0.050760          0.403820          -1.127938        -0.567355   \n",
       "2332         0.198976         -2.430044          -0.299422         0.698414   \n",
       "\n",
       "      total_eve_charge  total_night_minutes  total_night_calls  \\\n",
       "0            -1.311142            -1.616872           0.193381   \n",
       "1             0.379595             0.056732           0.913424   \n",
       "2             1.647648            -1.006287           1.119150   \n",
       "3             0.321851            -1.084361           1.170582   \n",
       "4            -0.444986             0.825468          -0.938114   \n",
       "...                ...                  ...                ...   \n",
       "2328          0.388834             2.975528          -1.298135   \n",
       "2329         -0.518898             0.168839          -0.372367   \n",
       "2330          0.167098             0.747393           0.707697   \n",
       "2331         -1.128672            -1.018298           1.376308   \n",
       "2332         -0.299472            -0.671966          -0.269503   \n",
       "\n",
       "      total_night_charge  total_intl_minutes  total_intl_calls  \\\n",
       "0              -1.618393           -0.987060          0.224309   \n",
       "1               0.058700           -1.414198          0.633467   \n",
       "2              -1.004497            0.970658          1.042625   \n",
       "3              -1.084570            0.223166         -1.003165   \n",
       "4               0.823847            0.685899         -0.594007   \n",
       "...                  ...                 ...               ...   \n",
       "2328            2.976932            0.828279         -0.594007   \n",
       "2329            0.169913           -0.168378         -1.003165   \n",
       "2330            0.748222           -0.595516         -0.184849   \n",
       "2331           -1.017843            0.721494         -0.594007   \n",
       "2332           -0.670858           -0.239567         -0.184849   \n",
       "\n",
       "      total_intl_charge  customer_service_calls  total_minutes  total_calls  \\\n",
       "0             -0.981136               -0.426884      -1.152825    -1.331638   \n",
       "1             -1.416169               -1.191800       0.685933     0.526322   \n",
       "2              0.969925               -0.426884       0.363710     1.455301   \n",
       "3              0.218503                1.102947      -0.778915     0.758566   \n",
       "4              0.679902               -0.426884       0.116270    -0.605873   \n",
       "...                 ...                     ...            ...          ...   \n",
       "2328           0.824914               -1.191800       0.825599    -1.970312   \n",
       "2329          -0.163799               -1.191800       0.463786    -0.576842   \n",
       "2330          -0.598833               -0.426884       0.022792    -0.286536   \n",
       "2331           0.719451               -0.426884      -0.926279     0.439230   \n",
       "2332          -0.242897                1.867863      -2.004020     0.352138   \n",
       "\n",
       "      total_charge  \n",
       "0        -0.219875  \n",
       "1         0.774870  \n",
       "2         0.475691  \n",
       "3        -0.623814  \n",
       "4        -0.117947  \n",
       "...            ...  \n",
       "2328     -0.686103  \n",
       "2329      0.785251  \n",
       "2330     -0.491684  \n",
       "2331     -0.271783  \n",
       "2332     -2.411335  \n",
       "\n",
       "[2333 rows x 18 columns]"
      ]
     },
     "execution_count": 144,
     "metadata": {},
     "output_type": "execute_result"
    }
   ],
   "source": [
    "X_ss_df"
   ]
  },
  {
   "cell_type": "code",
   "execution_count": 145,
   "metadata": {},
   "outputs": [],
   "source": [
    "X_train_trans = pd.concat([X_ss_df, X_ohe_df], axis = 1)"
   ]
  },
  {
   "cell_type": "markdown",
   "metadata": {},
   "source": [
    "### Export data"
   ]
  },
  {
   "cell_type": "code",
   "execution_count": 148,
   "metadata": {},
   "outputs": [],
   "source": [
    "### X_train (original), X_train_trans (transformed), X_test, y_train, y_test\n",
    "### Export X_train (original), X_train_sm (smote), and X_test\n",
    "X_train.to_csv('../data/X_train.csv')\n",
    "X_train_trans.to_csv('../data/X_train_trans.csv')\n",
    "X_test.to_csv('../data/X_test.csv')\n",
    "\n",
    "### Export y_train (original), y_train_sm (smote), and y_test\n",
    "pickle_out = open('../data/y_train.pickle', 'wb')\n",
    "pickle.dump(y_train, pickle_out)\n",
    "\n",
    "pickle_out = open('../data/y_test.pickle', 'wb')\n",
    "pickle.dump(y_test, pickle_out)"
   ]
  },
  {
   "cell_type": "code",
   "execution_count": null,
   "metadata": {},
   "outputs": [],
   "source": []
  }
 ],
 "metadata": {
  "kernelspec": {
   "display_name": "Python 3",
   "language": "python",
   "name": "python3"
  },
  "language_info": {
   "codemirror_mode": {
    "name": "ipython",
    "version": 3
   },
   "file_extension": ".py",
   "mimetype": "text/x-python",
   "name": "python",
   "nbconvert_exporter": "python",
   "pygments_lexer": "ipython3",
   "version": "3.7.4"
  }
 },
 "nbformat": 4,
 "nbformat_minor": 2
}
