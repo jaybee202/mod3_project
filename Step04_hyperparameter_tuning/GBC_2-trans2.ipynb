{
 "cells": [
  {
   "cell_type": "code",
   "execution_count": 60,
   "metadata": {},
   "outputs": [],
   "source": [
    "import pickle\n",
    "import pandas as pd\n",
    "X_train = pd.read_csv('../data/X_train_trans2.csv', index_col=0)\n",
    "pickle_in = open('../data/y_train.pickle', 'rb')\n",
    "y_train = pickle.load(pickle_in)"
   ]
  },
  {
   "cell_type": "code",
   "execution_count": 150,
   "metadata": {},
   "outputs": [
    {
     "data": {
      "text/html": [
       "<div>\n",
       "<style scoped>\n",
       "    .dataframe tbody tr th:only-of-type {\n",
       "        vertical-align: middle;\n",
       "    }\n",
       "\n",
       "    .dataframe tbody tr th {\n",
       "        vertical-align: top;\n",
       "    }\n",
       "\n",
       "    .dataframe thead th {\n",
       "        text-align: right;\n",
       "    }\n",
       "</style>\n",
       "<table border=\"1\" class=\"dataframe\">\n",
       "  <thead>\n",
       "    <tr style=\"text-align: right;\">\n",
       "      <th></th>\n",
       "      <th>account_length</th>\n",
       "      <th>number_vmail_messages</th>\n",
       "      <th>total_day_minutes</th>\n",
       "      <th>total_day_calls</th>\n",
       "      <th>total_day_charge</th>\n",
       "      <th>total_eve_minutes</th>\n",
       "      <th>total_eve_calls</th>\n",
       "      <th>total_eve_charge</th>\n",
       "      <th>total_night_minutes</th>\n",
       "      <th>total_night_calls</th>\n",
       "      <th>...</th>\n",
       "      <th>total_intl_calls</th>\n",
       "      <th>total_intl_charge</th>\n",
       "      <th>customer_service_calls</th>\n",
       "      <th>total_minutes</th>\n",
       "      <th>total_calls</th>\n",
       "      <th>total_charge</th>\n",
       "      <th>x0_415</th>\n",
       "      <th>x0_510</th>\n",
       "      <th>x1_yes</th>\n",
       "      <th>x2_yes</th>\n",
       "    </tr>\n",
       "  </thead>\n",
       "  <tbody>\n",
       "    <tr>\n",
       "      <td>0</td>\n",
       "      <td>-1.508366</td>\n",
       "      <td>1.658110</td>\n",
       "      <td>0.832457</td>\n",
       "      <td>-1.530204</td>\n",
       "      <td>0.832508</td>\n",
       "      <td>-1.310525</td>\n",
       "      <td>-0.972401</td>\n",
       "      <td>-1.311142</td>\n",
       "      <td>-1.616872</td>\n",
       "      <td>0.193381</td>\n",
       "      <td>...</td>\n",
       "      <td>0.224309</td>\n",
       "      <td>-0.981136</td>\n",
       "      <td>-0.426884</td>\n",
       "      <td>-1.152825</td>\n",
       "      <td>-1.331638</td>\n",
       "      <td>-0.219875</td>\n",
       "      <td>0.0</td>\n",
       "      <td>0.0</td>\n",
       "      <td>0.0</td>\n",
       "      <td>1.0</td>\n",
       "    </tr>\n",
       "    <tr>\n",
       "      <td>1</td>\n",
       "      <td>0.432612</td>\n",
       "      <td>-0.592293</td>\n",
       "      <td>0.808653</td>\n",
       "      <td>-0.097455</td>\n",
       "      <td>0.808811</td>\n",
       "      <td>0.379882</td>\n",
       "      <td>0.040214</td>\n",
       "      <td>0.379595</td>\n",
       "      <td>0.056732</td>\n",
       "      <td>0.913424</td>\n",
       "      <td>...</td>\n",
       "      <td>0.633467</td>\n",
       "      <td>-1.416169</td>\n",
       "      <td>-1.191800</td>\n",
       "      <td>0.685933</td>\n",
       "      <td>0.526322</td>\n",
       "      <td>0.774870</td>\n",
       "      <td>0.0</td>\n",
       "      <td>1.0</td>\n",
       "      <td>1.0</td>\n",
       "      <td>0.0</td>\n",
       "    </tr>\n",
       "    <tr>\n",
       "      <td>2</td>\n",
       "      <td>-0.264149</td>\n",
       "      <td>-0.592293</td>\n",
       "      <td>-0.061110</td>\n",
       "      <td>0.544812</td>\n",
       "      <td>-0.061490</td>\n",
       "      <td>1.648178</td>\n",
       "      <td>0.749044</td>\n",
       "      <td>1.647648</td>\n",
       "      <td>-1.006287</td>\n",
       "      <td>1.119150</td>\n",
       "      <td>...</td>\n",
       "      <td>1.042625</td>\n",
       "      <td>0.969925</td>\n",
       "      <td>-0.426884</td>\n",
       "      <td>0.363710</td>\n",
       "      <td>1.455301</td>\n",
       "      <td>0.475691</td>\n",
       "      <td>1.0</td>\n",
       "      <td>0.0</td>\n",
       "      <td>0.0</td>\n",
       "      <td>0.0</td>\n",
       "    </tr>\n",
       "    <tr>\n",
       "      <td>3</td>\n",
       "      <td>-0.264149</td>\n",
       "      <td>-0.592293</td>\n",
       "      <td>-0.617759</td>\n",
       "      <td>-0.393886</td>\n",
       "      <td>-0.617276</td>\n",
       "      <td>0.322946</td>\n",
       "      <td>0.698414</td>\n",
       "      <td>0.321851</td>\n",
       "      <td>-1.084361</td>\n",
       "      <td>1.170582</td>\n",
       "      <td>...</td>\n",
       "      <td>-1.003165</td>\n",
       "      <td>0.218503</td>\n",
       "      <td>1.102947</td>\n",
       "      <td>-0.778915</td>\n",
       "      <td>0.758566</td>\n",
       "      <td>-0.623814</td>\n",
       "      <td>1.0</td>\n",
       "      <td>0.0</td>\n",
       "      <td>0.0</td>\n",
       "      <td>0.0</td>\n",
       "    </tr>\n",
       "    <tr>\n",
       "      <td>4</td>\n",
       "      <td>0.581918</td>\n",
       "      <td>-0.592293</td>\n",
       "      <td>-0.181961</td>\n",
       "      <td>0.396596</td>\n",
       "      <td>-0.182125</td>\n",
       "      <td>-0.444707</td>\n",
       "      <td>-0.466094</td>\n",
       "      <td>-0.444986</td>\n",
       "      <td>0.825468</td>\n",
       "      <td>-0.938114</td>\n",
       "      <td>...</td>\n",
       "      <td>-0.594007</td>\n",
       "      <td>0.679902</td>\n",
       "      <td>-0.426884</td>\n",
       "      <td>0.116270</td>\n",
       "      <td>-0.605873</td>\n",
       "      <td>-0.117947</td>\n",
       "      <td>0.0</td>\n",
       "      <td>1.0</td>\n",
       "      <td>0.0</td>\n",
       "      <td>0.0</td>\n",
       "    </tr>\n",
       "    <tr>\n",
       "      <td>...</td>\n",
       "      <td>...</td>\n",
       "      <td>...</td>\n",
       "      <td>...</td>\n",
       "      <td>...</td>\n",
       "      <td>...</td>\n",
       "      <td>...</td>\n",
       "      <td>...</td>\n",
       "      <td>...</td>\n",
       "      <td>...</td>\n",
       "      <td>...</td>\n",
       "      <td>...</td>\n",
       "      <td>...</td>\n",
       "      <td>...</td>\n",
       "      <td>...</td>\n",
       "      <td>...</td>\n",
       "      <td>...</td>\n",
       "      <td>...</td>\n",
       "      <td>...</td>\n",
       "      <td>...</td>\n",
       "      <td>...</td>\n",
       "      <td>...</td>\n",
       "    </tr>\n",
       "    <tr>\n",
       "      <td>2328</td>\n",
       "      <td>-0.363687</td>\n",
       "      <td>-0.592293</td>\n",
       "      <td>-1.753029</td>\n",
       "      <td>-0.196265</td>\n",
       "      <td>-1.752545</td>\n",
       "      <td>0.389698</td>\n",
       "      <td>-1.883755</td>\n",
       "      <td>0.388834</td>\n",
       "      <td>2.975528</td>\n",
       "      <td>-1.298135</td>\n",
       "      <td>...</td>\n",
       "      <td>-0.594007</td>\n",
       "      <td>0.824914</td>\n",
       "      <td>-1.191800</td>\n",
       "      <td>0.825599</td>\n",
       "      <td>-1.970312</td>\n",
       "      <td>-0.686103</td>\n",
       "      <td>1.0</td>\n",
       "      <td>0.0</td>\n",
       "      <td>0.0</td>\n",
       "      <td>0.0</td>\n",
       "    </tr>\n",
       "    <tr>\n",
       "      <td>2329</td>\n",
       "      <td>0.407728</td>\n",
       "      <td>-0.592293</td>\n",
       "      <td>1.110782</td>\n",
       "      <td>-0.789127</td>\n",
       "      <td>1.110401</td>\n",
       "      <td>-0.519313</td>\n",
       "      <td>0.293368</td>\n",
       "      <td>-0.518898</td>\n",
       "      <td>0.168839</td>\n",
       "      <td>-0.372367</td>\n",
       "      <td>...</td>\n",
       "      <td>-1.003165</td>\n",
       "      <td>-0.163799</td>\n",
       "      <td>-1.191800</td>\n",
       "      <td>0.463786</td>\n",
       "      <td>-0.576842</td>\n",
       "      <td>0.785251</td>\n",
       "      <td>0.0</td>\n",
       "      <td>0.0</td>\n",
       "      <td>0.0</td>\n",
       "      <td>0.0</td>\n",
       "    </tr>\n",
       "    <tr>\n",
       "      <td>2330</td>\n",
       "      <td>0.606802</td>\n",
       "      <td>-0.592293</td>\n",
       "      <td>-0.771569</td>\n",
       "      <td>-0.295075</td>\n",
       "      <td>-0.771302</td>\n",
       "      <td>0.167845</td>\n",
       "      <td>-0.871140</td>\n",
       "      <td>0.167098</td>\n",
       "      <td>0.747393</td>\n",
       "      <td>0.707697</td>\n",
       "      <td>...</td>\n",
       "      <td>-0.184849</td>\n",
       "      <td>-0.598833</td>\n",
       "      <td>-0.426884</td>\n",
       "      <td>0.022792</td>\n",
       "      <td>-0.286536</td>\n",
       "      <td>-0.491684</td>\n",
       "      <td>0.0</td>\n",
       "      <td>0.0</td>\n",
       "      <td>0.0</td>\n",
       "      <td>0.0</td>\n",
       "    </tr>\n",
       "    <tr>\n",
       "      <td>2331</td>\n",
       "      <td>-0.911142</td>\n",
       "      <td>1.367735</td>\n",
       "      <td>0.403984</td>\n",
       "      <td>0.050760</td>\n",
       "      <td>0.403820</td>\n",
       "      <td>-1.127938</td>\n",
       "      <td>-0.567355</td>\n",
       "      <td>-1.128672</td>\n",
       "      <td>-1.018298</td>\n",
       "      <td>1.376308</td>\n",
       "      <td>...</td>\n",
       "      <td>-0.594007</td>\n",
       "      <td>0.719451</td>\n",
       "      <td>-0.426884</td>\n",
       "      <td>-0.926279</td>\n",
       "      <td>0.439230</td>\n",
       "      <td>-0.271783</td>\n",
       "      <td>1.0</td>\n",
       "      <td>0.0</td>\n",
       "      <td>0.0</td>\n",
       "      <td>1.0</td>\n",
       "    </tr>\n",
       "    <tr>\n",
       "      <td>2332</td>\n",
       "      <td>0.930299</td>\n",
       "      <td>-0.592293</td>\n",
       "      <td>-2.430529</td>\n",
       "      <td>0.198976</td>\n",
       "      <td>-2.430044</td>\n",
       "      <td>-0.299422</td>\n",
       "      <td>0.698414</td>\n",
       "      <td>-0.299472</td>\n",
       "      <td>-0.671966</td>\n",
       "      <td>-0.269503</td>\n",
       "      <td>...</td>\n",
       "      <td>-0.184849</td>\n",
       "      <td>-0.242897</td>\n",
       "      <td>1.867863</td>\n",
       "      <td>-2.004020</td>\n",
       "      <td>0.352138</td>\n",
       "      <td>-2.411335</td>\n",
       "      <td>0.0</td>\n",
       "      <td>1.0</td>\n",
       "      <td>1.0</td>\n",
       "      <td>0.0</td>\n",
       "    </tr>\n",
       "  </tbody>\n",
       "</table>\n",
       "<p>2333 rows × 22 columns</p>\n",
       "</div>"
      ],
      "text/plain": [
       "      account_length  number_vmail_messages  total_day_minutes  \\\n",
       "0          -1.508366               1.658110           0.832457   \n",
       "1           0.432612              -0.592293           0.808653   \n",
       "2          -0.264149              -0.592293          -0.061110   \n",
       "3          -0.264149              -0.592293          -0.617759   \n",
       "4           0.581918              -0.592293          -0.181961   \n",
       "...              ...                    ...                ...   \n",
       "2328       -0.363687              -0.592293          -1.753029   \n",
       "2329        0.407728              -0.592293           1.110782   \n",
       "2330        0.606802              -0.592293          -0.771569   \n",
       "2331       -0.911142               1.367735           0.403984   \n",
       "2332        0.930299              -0.592293          -2.430529   \n",
       "\n",
       "      total_day_calls  total_day_charge  total_eve_minutes  total_eve_calls  \\\n",
       "0           -1.530204          0.832508          -1.310525        -0.972401   \n",
       "1           -0.097455          0.808811           0.379882         0.040214   \n",
       "2            0.544812         -0.061490           1.648178         0.749044   \n",
       "3           -0.393886         -0.617276           0.322946         0.698414   \n",
       "4            0.396596         -0.182125          -0.444707        -0.466094   \n",
       "...               ...               ...                ...              ...   \n",
       "2328        -0.196265         -1.752545           0.389698        -1.883755   \n",
       "2329        -0.789127          1.110401          -0.519313         0.293368   \n",
       "2330        -0.295075         -0.771302           0.167845        -0.871140   \n",
       "2331         0.050760          0.403820          -1.127938        -0.567355   \n",
       "2332         0.198976         -2.430044          -0.299422         0.698414   \n",
       "\n",
       "      total_eve_charge  total_night_minutes  total_night_calls  ...  \\\n",
       "0            -1.311142            -1.616872           0.193381  ...   \n",
       "1             0.379595             0.056732           0.913424  ...   \n",
       "2             1.647648            -1.006287           1.119150  ...   \n",
       "3             0.321851            -1.084361           1.170582  ...   \n",
       "4            -0.444986             0.825468          -0.938114  ...   \n",
       "...                ...                  ...                ...  ...   \n",
       "2328          0.388834             2.975528          -1.298135  ...   \n",
       "2329         -0.518898             0.168839          -0.372367  ...   \n",
       "2330          0.167098             0.747393           0.707697  ...   \n",
       "2331         -1.128672            -1.018298           1.376308  ...   \n",
       "2332         -0.299472            -0.671966          -0.269503  ...   \n",
       "\n",
       "      total_intl_calls  total_intl_charge  customer_service_calls  \\\n",
       "0             0.224309          -0.981136               -0.426884   \n",
       "1             0.633467          -1.416169               -1.191800   \n",
       "2             1.042625           0.969925               -0.426884   \n",
       "3            -1.003165           0.218503                1.102947   \n",
       "4            -0.594007           0.679902               -0.426884   \n",
       "...                ...                ...                     ...   \n",
       "2328         -0.594007           0.824914               -1.191800   \n",
       "2329         -1.003165          -0.163799               -1.191800   \n",
       "2330         -0.184849          -0.598833               -0.426884   \n",
       "2331         -0.594007           0.719451               -0.426884   \n",
       "2332         -0.184849          -0.242897                1.867863   \n",
       "\n",
       "      total_minutes  total_calls  total_charge  x0_415  x0_510  x1_yes  x2_yes  \n",
       "0         -1.152825    -1.331638     -0.219875     0.0     0.0     0.0     1.0  \n",
       "1          0.685933     0.526322      0.774870     0.0     1.0     1.0     0.0  \n",
       "2          0.363710     1.455301      0.475691     1.0     0.0     0.0     0.0  \n",
       "3         -0.778915     0.758566     -0.623814     1.0     0.0     0.0     0.0  \n",
       "4          0.116270    -0.605873     -0.117947     0.0     1.0     0.0     0.0  \n",
       "...             ...          ...           ...     ...     ...     ...     ...  \n",
       "2328       0.825599    -1.970312     -0.686103     1.0     0.0     0.0     0.0  \n",
       "2329       0.463786    -0.576842      0.785251     0.0     0.0     0.0     0.0  \n",
       "2330       0.022792    -0.286536     -0.491684     0.0     0.0     0.0     0.0  \n",
       "2331      -0.926279     0.439230     -0.271783     1.0     0.0     0.0     1.0  \n",
       "2332      -2.004020     0.352138     -2.411335     0.0     1.0     1.0     0.0  \n",
       "\n",
       "[2333 rows x 22 columns]"
      ]
     },
     "execution_count": 150,
     "metadata": {},
     "output_type": "execute_result"
    }
   ],
   "source": [
    "X_train"
   ]
  },
  {
   "cell_type": "code",
   "execution_count": 61,
   "metadata": {},
   "outputs": [],
   "source": [
    "from sklearn.ensemble import GradientBoostingClassifier"
   ]
  },
  {
   "cell_type": "markdown",
   "metadata": {},
   "source": [
    "### Vanilla GBC is the best model \n",
    "#### Scores:\n",
    "- accuracy score: 0.982426060865838\n",
    "- recall: 0.878698224852071\n",
    "- precision: 1.0\n",
    "- CV precision: .993\n",
    "- f1: 0.9354330708661417\n",
    "\n",
    "#### Top 3 features:\n",
    "- total charge\n",
    "- number of customer service calls\n",
    "- having an international plan"
   ]
  },
  {
   "cell_type": "code",
   "execution_count": 172,
   "metadata": {},
   "outputs": [],
   "source": [
    "from sklearn.model_selection import train_test_split"
   ]
  },
  {
   "cell_type": "code",
   "execution_count": 169,
   "metadata": {},
   "outputs": [],
   "source": [
    "gbc = GradientBoostingClassifier()"
   ]
  },
  {
   "cell_type": "code",
   "execution_count": 170,
   "metadata": {},
   "outputs": [
    {
     "data": {
      "text/plain": [
       "GradientBoostingClassifier(ccp_alpha=0.0, criterion='friedman_mse', init=None,\n",
       "                           learning_rate=0.1, loss='deviance', max_depth=3,\n",
       "                           max_features=None, max_leaf_nodes=None,\n",
       "                           min_impurity_decrease=0.0, min_impurity_split=None,\n",
       "                           min_samples_leaf=1, min_samples_split=2,\n",
       "                           min_weight_fraction_leaf=0.0, n_estimators=100,\n",
       "                           n_iter_no_change=None, presort='deprecated',\n",
       "                           random_state=None, subsample=1.0, tol=0.0001,\n",
       "                           validation_fraction=0.1, verbose=0,\n",
       "                           warm_start=False)"
      ]
     },
     "execution_count": 170,
     "metadata": {},
     "output_type": "execute_result"
    }
   ],
   "source": [
    "gbc.fit(X_train, y_train)"
   ]
  },
  {
   "cell_type": "code",
   "execution_count": 173,
   "metadata": {},
   "outputs": [],
   "source": [
    "X_train2, X_test2, y_train2, y_test2 = train_test_split(X_train, y_train, stratify = y_train, test_size=0.2, random_state=3)"
   ]
  },
  {
   "cell_type": "code",
   "execution_count": 175,
   "metadata": {},
   "outputs": [
    {
     "data": {
      "text/plain": [
       "GradientBoostingClassifier(ccp_alpha=0.0, criterion='friedman_mse', init=None,\n",
       "                           learning_rate=0.1, loss='deviance', max_depth=3,\n",
       "                           max_features=None, max_leaf_nodes=None,\n",
       "                           min_impurity_decrease=0.0, min_impurity_split=None,\n",
       "                           min_samples_leaf=1, min_samples_split=2,\n",
       "                           min_weight_fraction_leaf=0.0, n_estimators=100,\n",
       "                           n_iter_no_change=None, presort='deprecated',\n",
       "                           random_state=None, subsample=1.0, tol=0.0001,\n",
       "                           validation_fraction=0.1, verbose=0,\n",
       "                           warm_start=False)"
      ]
     },
     "execution_count": 175,
     "metadata": {},
     "output_type": "execute_result"
    }
   ],
   "source": [
    "gbc_2 = GradientBoostingClassifier()\n",
    "gbc_2.fit(X_train2, y_train2)"
   ]
  },
  {
   "cell_type": "code",
   "execution_count": 179,
   "metadata": {},
   "outputs": [],
   "source": [
    "y_test_pred2 = gbc_2.predict(X_test2)"
   ]
  },
  {
   "cell_type": "code",
   "execution_count": 181,
   "metadata": {},
   "outputs": [
    {
     "name": "stdout",
     "output_type": "stream",
     "text": [
      "Confusion Matrix, without normalization\n",
      "[[399   0]\n",
      " [  9  59]]\n",
      "              precision    recall  f1-score   support\n",
      "\n",
      "           0       0.98      1.00      0.99       399\n",
      "           1       1.00      0.87      0.93        68\n",
      "\n",
      "    accuracy                           0.98       467\n",
      "   macro avg       0.99      0.93      0.96       467\n",
      "weighted avg       0.98      0.98      0.98       467\n",
      "\n"
     ]
    },
    {
     "data": {
      "image/png": "[encoded data removed]",
      "text/plain": [
       "<Figure size 576x396 with 2 Axes>"
      ]
     },
     "metadata": {},
     "output_type": "display_data"
    }
   ],
   "source": [
    "cm = confusion_matrix(y_test2, y_test_pred2)\n",
    "classes = ['Maintain', 'Churn']\n",
    "plot_confusion_matrix(cm, classes,\n",
    "                      normalize=False,\n",
    "                      title='Confusion matrix')\n",
    "\n",
    "#Checking performance our model with classification report.\n",
    "print(classification_report(y_test2, y_test_pred2))"
   ]
  },
  {
   "cell_type": "code",
   "execution_count": 87,
   "metadata": {},
   "outputs": [],
   "source": [
    "from sklearn.metrics import recall_score\n",
    "from sklearn.metrics import precision_score\n",
    "from sklearn.metrics import f1_score"
   ]
  },
  {
   "cell_type": "code",
   "execution_count": 88,
   "metadata": {},
   "outputs": [
    {
     "name": "stdout",
     "output_type": "stream",
     "text": [
      "accuracy score: 0.982426060865838\n",
      "recall: 0.878698224852071\n",
      "precision: 1.0\n",
      "f1: 0.9354330708661417\n"
     ]
    }
   ],
   "source": [
    "y_pred = gbc.predict(X_train)\n",
    "print ('accuracy score:', gbc.score(X_train, y_train))\n",
    "print ('recall:', recall_score(y_train, y_pred))\n",
    "print ('precision:', precision_score(y_train, y_pred))\n",
    "print ('f1:', f1_score(y_train, y_pred))"
   ]
  },
  {
   "cell_type": "markdown",
   "metadata": {},
   "source": [
    "#### Confusion Matrix"
   ]
  },
  {
   "cell_type": "code",
   "execution_count": 65,
   "metadata": {},
   "outputs": [],
   "source": [
    "import warnings\n",
    "import seaborn as sns\n",
    "import itertools\n",
    "import matplotlib.pyplot as plt\n",
    "%matplotlib inline\n",
    "warnings.filterwarnings('ignore')\n",
    "plt.rcParams[\"figure.figsize\"] = [10, 5]\n",
    "\n",
    "# from https://scikit-learn.org/0.18/auto_examples/model_selection/plot_confusion_matrix.html\n",
    "\n",
    "\n",
    "def plot_confusion_matrix(cm, classes,\n",
    "                          normalize=False,\n",
    "                          title='Confusion matrix',\n",
    "                          cmap=plt.cm.Blues):\n",
    "    \"\"\"\n",
    "    This function prints and plots the confusion matrix.\n",
    "    Normalization can be applied by setting `normalize=True`.\n",
    "    \"\"\"\n",
    "    if normalize:\n",
    "        cm = cm.astype('float') / cm.sum(axis=1)[:, np.newaxis]\n",
    "        print(\"Normalized confusion matrix\")\n",
    "    else:\n",
    "        print('Confusion Matrix, without normalization')\n",
    "\n",
    "    print(cm)\n",
    "\n",
    "    plt.imshow(cm, interpolation='nearest', cmap=cmap)\n",
    "    plt.title(title)\n",
    "    plt.colorbar()\n",
    "    tick_marks = np.arange(len(classes))\n",
    "    plt.xticks(tick_marks, classes, rotation=45)\n",
    "    plt.yticks(tick_marks, classes)\n",
    "\n",
    "    fmt = '.2f' if normalize else 'd'\n",
    "    thresh = cm.max() / 1\n",
    "    for i, j in itertools.product(range(cm.shape[0]), range(cm.shape[1])):\n",
    "        plt.text(j, i, format(cm[i, j], fmt),\n",
    "                 horizontalalignment=\"center\",\n",
    "                 color=\"white\" if cm[i, j] > thresh else \"black\")\n",
    "    plt.tight_layout()\n",
    "    plt.ylabel('True label')\n",
    "    plt.xlabel('Predicted label')"
   ]
  },
  {
   "cell_type": "code",
   "execution_count": 66,
   "metadata": {},
   "outputs": [
    {
     "name": "stdout",
     "output_type": "stream",
     "text": [
      "Confusion Matrix, without normalization\n",
      "[[1995    0]\n",
      " [  41  297]]\n",
      "              precision    recall  f1-score   support\n",
      "\n",
      "           0       0.98      1.00      0.99      1995\n",
      "           1       1.00      0.88      0.94       338\n",
      "\n",
      "    accuracy                           0.98      2333\n",
      "   macro avg       0.99      0.94      0.96      2333\n",
      "weighted avg       0.98      0.98      0.98      2333\n",
      "\n"
     ]
    },
    {
     "data": {
      "image/png": "[encoded data removed]",
      "text/plain": [
       "<Figure size 720x360 with 2 Axes>"
      ]
     },
     "metadata": {
      "needs_background": "light"
     },
     "output_type": "display_data"
    }
   ],
   "source": [
    "from sklearn.metrics import confusion_matrix\n",
    "from sklearn.metrics import classification_report\n",
    "import numpy as np\n",
    "\n",
    "y_pred = gbc.predict(X_train)\n",
    "cm = confusion_matrix(y_train, y_pred)\n",
    "classes = ['Maintain', 'Churn']\n",
    "plot_confusion_matrix(cm, classes,\n",
    "                      normalize=False,\n",
    "                      title='Confusion matrix')\n",
    "\n",
    "#Checking performance our model with classification report.\n",
    "print(classification_report(y_train, y_pred))"
   ]
  },
  {
   "cell_type": "markdown",
   "metadata": {},
   "source": [
    "#### Cross-validation "
   ]
  },
  {
   "cell_type": "code",
   "execution_count": 67,
   "metadata": {},
   "outputs": [
    {
     "data": {
      "text/plain": [
       "1.0"
      ]
     },
     "execution_count": 67,
     "metadata": {},
     "output_type": "execute_result"
    }
   ],
   "source": [
    "from sklearn.model_selection import cross_val_score\n",
    "scores1 = cross_val_score(gbc, X_train, y_train, cv=5, scoring= 'precision')\n",
    "np.average(scores1)"
   ]
  },
  {
   "cell_type": "markdown",
   "metadata": {},
   "source": [
    "#### Feature importances"
   ]
  },
  {
   "cell_type": "code",
   "execution_count": 86,
   "metadata": {},
   "outputs": [
    {
     "data": {
      "text/plain": [
       "<matplotlib.axes._subplots.AxesSubplot at 0x1a26c20bd0>"
      ]
     },
     "execution_count": 86,
     "metadata": {},
     "output_type": "execute_result"
    },
    {
     "data": {
      "image/png": "[encoded data removed]",
      "text/plain": [
       "<Figure size 720x360 with 1 Axes>"
      ]
     },
     "metadata": {
      "needs_background": "light"
     },
     "output_type": "display_data"
    }
   ],
   "source": [
    "importances1 = list(zip(gbc.feature_importances_, X_train.columns))\n",
    "importances1.sort(reverse=True)\n",
    "pd.DataFrame(importances1, index=[x for (_,x) in importances]).plot(kind = 'bar')"
   ]
  },
  {
   "cell_type": "markdown",
   "metadata": {},
   "source": [
    "### Gridsearch for hyperparamter tunning"
   ]
  },
  {
   "cell_type": "code",
   "execution_count": 119,
   "metadata": {},
   "outputs": [],
   "source": [
    "from sklearn.model_selection import GridSearchCV"
   ]
  },
  {
   "cell_type": "code",
   "execution_count": 120,
   "metadata": {},
   "outputs": [
    {
     "name": "stdout",
     "output_type": "stream",
     "text": [
      "Fitting 10 folds for each of 280 candidates, totalling 2800 fits\n"
     ]
    },
    {
     "name": "stderr",
     "output_type": "stream",
     "text": [
      "[Parallel(n_jobs=-1)]: Using backend LokyBackend with 12 concurrent workers.\n",
      "[Parallel(n_jobs=-1)]: Done  26 tasks      | elapsed:    2.0s\n",
      "[Parallel(n_jobs=-1)]: Done 288 tasks      | elapsed:    3.9s\n",
      "[Parallel(n_jobs=-1)]: Done 1214 tasks      | elapsed:   13.3s\n",
      "[Parallel(n_jobs=-1)]: Done 1914 tasks      | elapsed:   27.9s\n",
      "[Parallel(n_jobs=-1)]: Done 2468 tasks      | elapsed:   42.3s\n",
      "[Parallel(n_jobs=-1)]: Done 2800 out of 2800 | elapsed:   53.1s finished\n"
     ]
    }
   ],
   "source": [
    "gbc2 = GradientBoostingClassifier()\n",
    "\n",
    "n_estimator = range(1, 50, 5)\n",
    "\n",
    "max_depth_params = range(1,8)\n",
    "\n",
    "max_features_param = [None, 'auto', 'sqrt', 'log2']\n",
    "\n",
    "param_grid = {'n_estimators': n_estimator, 'max_depth': max_depth_params, 'max_features': max_features_param}\n",
    "\n",
    "gridsearch = (GridSearchCV(estimator = gbc2, \n",
    "                          param_grid = param_grid,\n",
    "                          n_jobs = -1, #parallel computation\n",
    "                          verbose = 1, #give feedback\n",
    "                          cv = 10, #cross-validate 10 times\n",
    "                          scoring = 'precision', #can use multiple scoring  , recall, precision..ect\n",
    "                          return_train_score= True))\n",
    "# X = MultipleArray(low_sig, None)\n",
    "# gridsearch.fit(X)\n",
    "gridsearch = gridsearch.fit(X_train, y_train)"
   ]
  },
  {
   "cell_type": "code",
   "execution_count": 121,
   "metadata": {},
   "outputs": [
    {
     "data": {
      "text/plain": [
       "1.0"
      ]
     },
     "execution_count": 121,
     "metadata": {},
     "output_type": "execute_result"
    }
   ],
   "source": [
    "gridsearch.best_score_"
   ]
  },
  {
   "cell_type": "code",
   "execution_count": 123,
   "metadata": {},
   "outputs": [],
   "source": [
    "gridsearch.cv_results_;"
   ]
  },
  {
   "cell_type": "code",
   "execution_count": 125,
   "metadata": {
    "scrolled": false
   },
   "outputs": [],
   "source": [
    "colums = ['params', 'mean_test_score', \n",
    "          'std_test_score', 'rank_test_score',\n",
    "          'mean_train_score', 'std_train_score']\n",
    "\n",
    "results = pd.DataFrame(gridsearch.cv_results_)[colums]\n",
    "df = results.sort_values(by = 'rank_test_score').head(10)"
   ]
  },
  {
   "cell_type": "code",
   "execution_count": 126,
   "metadata": {},
   "outputs": [
    {
     "data": {
      "text/html": [
       "<div>\n",
       "<style scoped>\n",
       "    .dataframe tbody tr th:only-of-type {\n",
       "        vertical-align: middle;\n",
       "    }\n",
       "\n",
       "    .dataframe tbody tr th {\n",
       "        vertical-align: top;\n",
       "    }\n",
       "\n",
       "    .dataframe thead th {\n",
       "        text-align: right;\n",
       "    }\n",
       "</style>\n",
       "<table border=\"1\" class=\"dataframe\">\n",
       "  <thead>\n",
       "    <tr style=\"text-align: right;\">\n",
       "      <th></th>\n",
       "      <th>params</th>\n",
       "      <th>mean_test_score</th>\n",
       "      <th>std_test_score</th>\n",
       "      <th>rank_test_score</th>\n",
       "      <th>mean_train_score</th>\n",
       "      <th>std_train_score</th>\n",
       "    </tr>\n",
       "  </thead>\n",
       "  <tbody>\n",
       "    <tr>\n",
       "      <td>231</td>\n",
       "      <td>{'max_depth': 6, 'max_features': 'log2', 'n_estimators': 6}</td>\n",
       "      <td>1.0</td>\n",
       "      <td>0.0</td>\n",
       "      <td>1</td>\n",
       "      <td>1.0</td>\n",
       "      <td>0.0</td>\n",
       "    </tr>\n",
       "    <tr>\n",
       "      <td>57</td>\n",
       "      <td>{'max_depth': 2, 'max_features': 'auto', 'n_estimators': 36}</td>\n",
       "      <td>1.0</td>\n",
       "      <td>0.0</td>\n",
       "      <td>1</td>\n",
       "      <td>1.0</td>\n",
       "      <td>0.0</td>\n",
       "    </tr>\n",
       "    <tr>\n",
       "      <td>141</td>\n",
       "      <td>{'max_depth': 4, 'max_features': 'sqrt', 'n_estimators': 6}</td>\n",
       "      <td>1.0</td>\n",
       "      <td>0.0</td>\n",
       "      <td>1</td>\n",
       "      <td>1.0</td>\n",
       "      <td>0.0</td>\n",
       "    </tr>\n",
       "    <tr>\n",
       "      <td>225</td>\n",
       "      <td>{'max_depth': 6, 'max_features': 'sqrt', 'n_estimators': 26}</td>\n",
       "      <td>1.0</td>\n",
       "      <td>0.0</td>\n",
       "      <td>1</td>\n",
       "      <td>1.0</td>\n",
       "      <td>0.0</td>\n",
       "    </tr>\n",
       "    <tr>\n",
       "      <td>154</td>\n",
       "      <td>{'max_depth': 4, 'max_features': 'log2', 'n_estimators': 21}</td>\n",
       "      <td>1.0</td>\n",
       "      <td>0.0</td>\n",
       "      <td>1</td>\n",
       "      <td>1.0</td>\n",
       "      <td>0.0</td>\n",
       "    </tr>\n",
       "    <tr>\n",
       "      <td>226</td>\n",
       "      <td>{'max_depth': 6, 'max_features': 'sqrt', 'n_estimators': 31}</td>\n",
       "      <td>1.0</td>\n",
       "      <td>0.0</td>\n",
       "      <td>1</td>\n",
       "      <td>1.0</td>\n",
       "      <td>0.0</td>\n",
       "    </tr>\n",
       "    <tr>\n",
       "      <td>152</td>\n",
       "      <td>{'max_depth': 4, 'max_features': 'log2', 'n_estimators': 11}</td>\n",
       "      <td>1.0</td>\n",
       "      <td>0.0</td>\n",
       "      <td>1</td>\n",
       "      <td>1.0</td>\n",
       "      <td>0.0</td>\n",
       "    </tr>\n",
       "    <tr>\n",
       "      <td>151</td>\n",
       "      <td>{'max_depth': 4, 'max_features': 'log2', 'n_estimators': 6}</td>\n",
       "      <td>1.0</td>\n",
       "      <td>0.0</td>\n",
       "      <td>1</td>\n",
       "      <td>1.0</td>\n",
       "      <td>0.0</td>\n",
       "    </tr>\n",
       "    <tr>\n",
       "      <td>196</td>\n",
       "      <td>{'max_depth': 5, 'max_features': 'log2', 'n_estimators': 31}</td>\n",
       "      <td>1.0</td>\n",
       "      <td>0.0</td>\n",
       "      <td>1</td>\n",
       "      <td>1.0</td>\n",
       "      <td>0.0</td>\n",
       "    </tr>\n",
       "    <tr>\n",
       "      <td>52</td>\n",
       "      <td>{'max_depth': 2, 'max_features': 'auto', 'n_estimators': 11}</td>\n",
       "      <td>1.0</td>\n",
       "      <td>0.0</td>\n",
       "      <td>1</td>\n",
       "      <td>1.0</td>\n",
       "      <td>0.0</td>\n",
       "    </tr>\n",
       "  </tbody>\n",
       "</table>\n",
       "</div>"
      ],
      "text/plain": [
       "                                                           params  \\\n",
       "231   {'max_depth': 6, 'max_features': 'log2', 'n_estimators': 6}   \n",
       "57   {'max_depth': 2, 'max_features': 'auto', 'n_estimators': 36}   \n",
       "141   {'max_depth': 4, 'max_features': 'sqrt', 'n_estimators': 6}   \n",
       "225  {'max_depth': 6, 'max_features': 'sqrt', 'n_estimators': 26}   \n",
       "154  {'max_depth': 4, 'max_features': 'log2', 'n_estimators': 21}   \n",
       "226  {'max_depth': 6, 'max_features': 'sqrt', 'n_estimators': 31}   \n",
       "152  {'max_depth': 4, 'max_features': 'log2', 'n_estimators': 11}   \n",
       "151   {'max_depth': 4, 'max_features': 'log2', 'n_estimators': 6}   \n",
       "196  {'max_depth': 5, 'max_features': 'log2', 'n_estimators': 31}   \n",
       "52   {'max_depth': 2, 'max_features': 'auto', 'n_estimators': 11}   \n",
       "\n",
       "     mean_test_score  std_test_score  rank_test_score  mean_train_score  \\\n",
       "231              1.0             0.0                1               1.0   \n",
       "57               1.0             0.0                1               1.0   \n",
       "141              1.0             0.0                1               1.0   \n",
       "225              1.0             0.0                1               1.0   \n",
       "154              1.0             0.0                1               1.0   \n",
       "226              1.0             0.0                1               1.0   \n",
       "152              1.0             0.0                1               1.0   \n",
       "151              1.0             0.0                1               1.0   \n",
       "196              1.0             0.0                1               1.0   \n",
       "52               1.0             0.0                1               1.0   \n",
       "\n",
       "     std_train_score  \n",
       "231              0.0  \n",
       "57               0.0  \n",
       "141              0.0  \n",
       "225              0.0  \n",
       "154              0.0  \n",
       "226              0.0  \n",
       "152              0.0  \n",
       "151              0.0  \n",
       "196              0.0  \n",
       "52               0.0  "
      ]
     },
     "execution_count": 126,
     "metadata": {},
     "output_type": "execute_result"
    }
   ],
   "source": [
    "pd.options.display.max_colwidth = 100\n",
    "df"
   ]
  },
  {
   "cell_type": "code",
   "execution_count": 127,
   "metadata": {},
   "outputs": [
    {
     "data": {
      "text/plain": [
       "(280, 6)"
      ]
     },
     "execution_count": 127,
     "metadata": {},
     "output_type": "execute_result"
    }
   ],
   "source": [
    "results.shape"
   ]
  },
  {
   "cell_type": "code",
   "execution_count": 149,
   "metadata": {},
   "outputs": [
    {
     "data": {
      "text/plain": [
       "(0.9, 1.1)"
      ]
     },
     "execution_count": 149,
     "metadata": {},
     "output_type": "execute_result"
    },
    {
     "data": {
      "image/png": "[encoded data removed]",
      "text/plain": [
       "<Figure size 720x360 with 1 Axes>"
      ]
     },
     "metadata": {
      "needs_background": "light"
     },
     "output_type": "display_data"
    }
   ],
   "source": [
    "roc_test_scores = gridsearch.cv_results_['mean_test_score']\n",
    "\n",
    "roc_training_scores = gridsearch.cv_results_['mean_train_score']\n",
    "\n",
    "plt.plot(range(280), roc_test_scores, label = 'test')\n",
    "plt.plot(range(280), roc_training_scores, label = 'train')\n",
    "\n",
    "\n",
    "plt.legend()\n",
    "plt.tight_layout()\n",
    "ax = plt.subplot()\n",
    "ax.set_xlim(230,234.5)\n",
    "ax.set_ylim(.9,1.1)\n"
   ]
  },
  {
   "cell_type": "markdown",
   "metadata": {},
   "source": [
    "### Tested different parameters below\n",
    "The gbc2 model fits well but not better than the default (vanilla) model"
   ]
  },
  {
   "cell_type": "code",
   "execution_count": 159,
   "metadata": {},
   "outputs": [],
   "source": [
    "gbc2 = GradientBoostingClassifier(n_estimators=36, max_depth =2, max_features = 'auto' )"
   ]
  },
  {
   "cell_type": "code",
   "execution_count": 160,
   "metadata": {},
   "outputs": [
    {
     "data": {
      "text/plain": [
       "GradientBoostingClassifier(ccp_alpha=0.0, criterion='friedman_mse', init=None,\n",
       "                           learning_rate=0.1, loss='deviance', max_depth=2,\n",
       "                           max_features='auto', max_leaf_nodes=None,\n",
       "                           min_impurity_decrease=0.0, min_impurity_split=None,\n",
       "                           min_samples_leaf=1, min_samples_split=2,\n",
       "                           min_weight_fraction_leaf=0.0, n_estimators=36,\n",
       "                           n_iter_no_change=None, presort='deprecated',\n",
       "                           random_state=None, subsample=1.0, tol=0.0001,\n",
       "                           validation_fraction=0.1, verbose=0,\n",
       "                           warm_start=False)"
      ]
     },
     "execution_count": 160,
     "metadata": {},
     "output_type": "execute_result"
    }
   ],
   "source": [
    "gbc2.fit(X_train, y_train)"
   ]
  },
  {
   "cell_type": "code",
   "execution_count": 161,
   "metadata": {},
   "outputs": [
    {
     "name": "stdout",
     "output_type": "stream",
     "text": [
      "accuracy score: 0.9502786112301758\n",
      "recall: 0.6568047337278107\n",
      "precision: 1.0\n",
      "f1: 0.7928571428571429\n"
     ]
    }
   ],
   "source": [
    "y_pred2 = gbc2.predict(X_train)\n",
    "print ('accuracy score:', gbc2.score(X_train, y_train))\n",
    "print ('recall:', recall_score(y_train, y_pred2))\n",
    "print ('precision:', precision_score(y_train, y_pred2))\n",
    "print ('f1:', f1_score(y_train, y_pred2))"
   ]
  },
  {
   "cell_type": "code",
   "execution_count": 162,
   "metadata": {},
   "outputs": [
    {
     "name": "stdout",
     "output_type": "stream",
     "text": [
      "Confusion Matrix, without normalization\n",
      "[[1995    0]\n",
      " [ 116  222]]\n",
      "              precision    recall  f1-score   support\n",
      "\n",
      "           0       0.95      1.00      0.97      1995\n",
      "           1       1.00      0.66      0.79       338\n",
      "\n",
      "    accuracy                           0.95      2333\n",
      "   macro avg       0.97      0.83      0.88      2333\n",
      "weighted avg       0.95      0.95      0.95      2333\n",
      "\n"
     ]
    },
    {
     "data": {
      "image/png": "[encoded data removed]",
      "text/plain": [
       "<Figure size 720x360 with 2 Axes>"
      ]
     },
     "metadata": {
      "needs_background": "light"
     },
     "output_type": "display_data"
    }
   ],
   "source": [
    "y_pred2 = gbc2.predict(X_train)\n",
    "cm1 = confusion_matrix(y_train, y_pred2)\n",
    "classes = ['Maintain', 'Churn']\n",
    "plot_confusion_matrix(cm1, classes,\n",
    "                      normalize=False,\n",
    "                      title='Confusion matrix')\n",
    "\n",
    "#Checking performance our model with classification report.\n",
    "print(classification_report(y_train, y_pred2))"
   ]
  },
  {
   "cell_type": "code",
   "execution_count": 163,
   "metadata": {},
   "outputs": [
    {
     "data": {
      "text/plain": [
       "1.0"
      ]
     },
     "execution_count": 163,
     "metadata": {},
     "output_type": "execute_result"
    }
   ],
   "source": [
    "from sklearn.model_selection import cross_val_score\n",
    "scores2 = cross_val_score(gbc2, X_train, y_train, cv=5, scoring= 'precision')\n",
    "np.average(scores2)"
   ]
  },
  {
   "cell_type": "code",
   "execution_count": 156,
   "metadata": {},
   "outputs": [],
   "source": [
    "# plot_importance(gbc2)\n",
    "# pyplot.show()"
   ]
  },
  {
   "cell_type": "code",
   "execution_count": 157,
   "metadata": {},
   "outputs": [],
   "source": [
    "importances = list(zip(gbc2.feature_importances_, X_train.columns))\n",
    "importances.sort(reverse=True)"
   ]
  },
  {
   "cell_type": "code",
   "execution_count": 158,
   "metadata": {
    "scrolled": true
   },
   "outputs": [
    {
     "data": {
      "text/plain": [
       "<matplotlib.axes._subplots.AxesSubplot at 0x1a2663bbd0>"
      ]
     },
     "execution_count": 158,
     "metadata": {},
     "output_type": "execute_result"
    },
    {
     "data": {
      "image/png": "[encoded data removed]",
      "text/plain": [
       "<Figure size 720x360 with 1 Axes>"
      ]
     },
     "metadata": {
      "needs_background": "light"
     },
     "output_type": "display_data"
    }
   ],
   "source": [
    "pd.DataFrame(importances, index=[x for (_,x) in importances]).plot(kind = 'bar')"
   ]
  }
 ],
 "metadata": {
  "kernelspec": {
   "display_name": "Python 3",
   "language": "python",
   "name": "python3"
  },
  "language_info": {
   "codemirror_mode": {
    "name": "ipython",
    "version": 3
   },
   "file_extension": ".py",
   "mimetype": "text/x-python",
   "name": "python",
   "nbconvert_exporter": "python",
   "pygments_lexer": "ipython3",
   "version": "3.7.4"
  }
 },
 "nbformat": 4,
 "nbformat_minor": 2
}
