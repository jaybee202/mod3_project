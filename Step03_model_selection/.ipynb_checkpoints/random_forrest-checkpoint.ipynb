{
 "cells": [
  {
   "cell_type": "markdown",
   "metadata": {},
   "source": [
    "# Random Forrest Model Assessment"
   ]
  },
  {
   "cell_type": "code",
   "execution_count": 1,
   "metadata": {},
   "outputs": [],
   "source": [
    "import pandas as pd\n",
    "import numpy as np\n",
    "import pickle\n",
    "from sklearn.ensemble import RandomForestClassifier\n",
    "from sklearn.datasets import make_classification\n",
    "from sklearn.metrics import classification_report, roc_auc_score\n",
    "from sklearn.metrics import confusion_matrix, r2_score, recall_score, precision_score, f1_score, accuracy_score\n",
    "from sklearn.model_selection import cross_val_score"
   ]
  },
  {
   "cell_type": "markdown",
   "metadata": {},
   "source": [
    "## Import original train and SMOTE train data for comparision"
   ]
  },
  {
   "cell_type": "code",
   "execution_count": 2,
   "metadata": {},
   "outputs": [],
   "source": [
    "X_train = pd.read_csv('../data/X_train_trans.csv')\n",
    "X_smote = pd.read_csv('../data/X_train_sm.csv')\n",
    "\n",
    "pickle_in = open('../data/y_train.pickle', 'rb')\n",
    "y_train = pickle.load(pickle_in)\n",
    "\n",
    "pickle_in = open('../data/y_train_sm.pickle', 'rb')\n",
    "y_smote = pickle.load(pickle_in)"
   ]
  },
  {
   "cell_type": "markdown",
   "metadata": {},
   "source": [
    "## Confusion Matrix Function"
   ]
  },
  {
   "cell_type": "code",
   "execution_count": 3,
   "metadata": {},
   "outputs": [],
   "source": [
    "#creating a confusion matrix template\n",
    "import warnings\n",
    "import seaborn as sns\n",
    "import itertools\n",
    "import matplotlib.pyplot as plt\n",
    "%matplotlib inline\n",
    "warnings.filterwarnings('ignore')\n",
    "plt.rcParams[\"figure.figsize\"] = [10, 5]\n",
    "\n",
    "# from https://scikit-learn.org/0.18/auto_examples/model_selection/plot_confusion_matrix.html\n",
    "\n",
    "\n",
    "def plot_confusion_matrix(cm, classes,\n",
    "                          normalize=False,\n",
    "                          title='Confusion matrix',\n",
    "                          cmap=plt.cm.Blues):\n",
    "    \"\"\"\n",
    "    This function prints and plots the confusion matrix.\n",
    "    Normalization can be applied by setting `normalize=True`.\n",
    "    \"\"\"\n",
    "    if normalize:\n",
    "        cm = cm.astype('float') / cm.sum(axis=1)[:, np.newaxis]\n",
    "        print(\"Normalized confusion matrix\")\n",
    "    else:\n",
    "        print('Confusion Matrix, without normalization')\n",
    "\n",
    "    print(cm)\n",
    "\n",
    "    plt.imshow(cm, interpolation='nearest', cmap=cmap)\n",
    "    plt.title(title)\n",
    "    plt.colorbar()\n",
    "    tick_marks = np.arange(len(classes))\n",
    "    plt.xticks(tick_marks, classes, rotation=45)\n",
    "    plt.yticks(tick_marks, classes)\n",
    "\n",
    "    fmt = '.2f' if normalize else 'd'\n",
    "    thresh = cm.max() / 1\n",
    "    for i, j in itertools.product(range(cm.shape[0]), range(cm.shape[1])):\n",
    "        plt.text(j, i, format(cm[i, j], fmt),\n",
    "                 horizontalalignment=\"center\",\n",
    "                 color=\"white\" if cm[i, j] > thresh else \"black\")\n",
    "    plt.tight_layout()\n",
    "    plt.ylabel('True label')\n",
    "    plt.xlabel('Predicted label')"
   ]
  },
  {
   "cell_type": "markdown",
   "metadata": {},
   "source": [
    "## Random Forrest Classification Default Settings"
   ]
  },
  {
   "cell_type": "code",
   "execution_count": 4,
   "metadata": {},
   "outputs": [],
   "source": [
    "clf_def = RandomForestClassifier(n_jobs=-1)\n",
    "clf_def.fit(X_train, y_train);"
   ]
  },
  {
   "cell_type": "code",
   "execution_count": 5,
   "metadata": {},
   "outputs": [],
   "source": [
    "clf_def.decision_path(X_train);"
   ]
  },
  {
   "cell_type": "code",
   "execution_count": 6,
   "metadata": {},
   "outputs": [],
   "source": [
    "# print(clf.feature_importances_)"
   ]
  },
  {
   "cell_type": "code",
   "execution_count": 8,
   "metadata": {},
   "outputs": [
    {
     "name": "stdout",
     "output_type": "stream",
     "text": [
      "Confusion Matrix, without normalization\n",
      "[[1995    0]\n",
      " [   0  338]]\n",
      "              precision    recall  f1-score   support\n",
      "\n",
      "           0       1.00      1.00      1.00      1995\n",
      "           1       1.00      1.00      1.00       338\n",
      "\n",
      "    accuracy                           1.00      2333\n",
      "   macro avg       1.00      1.00      1.00      2333\n",
      "weighted avg       1.00      1.00      1.00      2333\n",
      "\n",
      "roc_auc_score: 1.0\n"
     ]
    },
    {
     "data": {
      "image/png": "[encoded data removed]",
      "text/plain": [
       "<Figure size 720x360 with 2 Axes>"
      ]
     },
     "metadata": {
      "needs_background": "light"
     },
     "output_type": "display_data"
    }
   ],
   "source": [
    "y_pred_def = clf_def.predict(X_train)\n",
    "\n",
    "cm_def = confusion_matrix(y_train, y_pred_def)\n",
    "classes = ['Maintain', 'Churn']\n",
    "plot_confusion_matrix(cm_def, classes,\n",
    "                      normalize=False,\n",
    "                      title='Confusion matrix')\n",
    "\n",
    "#Checking performance our model with classification report.\n",
    "print(classification_report(y_train, y_pred_def))\n",
    "#Checking performance our model with ROC Score.\n",
    "print ('roc_auc_score:', roc_auc_score(y_train, y_pred_def))"
   ]
  },
  {
   "cell_type": "code",
   "execution_count": 11,
   "metadata": {},
   "outputs": [
    {
     "name": "stdout",
     "output_type": "stream",
     "text": [
      "Precision: 1.0\n",
      "Accuracy: 1.0\n",
      "Recall: 1.0\n",
      "F1: 1.0\n"
     ]
    }
   ],
   "source": [
    "print('Precision: {}\\nAccuracy: {}\\nRecall: {}\\nF1: {}'.format(precision_score(y_train, y_pred_def), \n",
    "                accuracy_score(y_train, y_pred_def), \n",
    "                recall_score(y_train, y_pred_def), \n",
    "                f1_score(y_train, y_pred_def)))"
   ]
  },
  {
   "cell_type": "code",
   "execution_count": 13,
   "metadata": {
    "scrolled": false
   },
   "outputs": [
    {
     "name": "stdout",
     "output_type": "stream",
     "text": [
      "Average CV score: 0.8594339622641509\n"
     ]
    }
   ],
   "source": [
    "cvs_def = cross_val_score(clf_def, X_train, y_train, cv = 5, scoring = 'precision')\n",
    "print('Average CV score: {}'.format(np.average(cvs_def)))"
   ]
  },
  {
   "cell_type": "markdown",
   "metadata": {},
   "source": [
    "## Random Forrest Classification with max_depth=4, n_estimators=5"
   ]
  },
  {
   "cell_type": "code",
   "execution_count": 14,
   "metadata": {},
   "outputs": [],
   "source": [
    "clf = RandomForestClassifier(max_depth=4, random_state=3, n_jobs=-1, n_estimators=5)\n",
    "clf.fit(X_train, y_train);"
   ]
  },
  {
   "cell_type": "code",
   "execution_count": 15,
   "metadata": {},
   "outputs": [
    {
     "data": {
      "text/plain": [
       "(<2333x129 sparse matrix of type '<class 'numpy.longlong'>'\n",
       " \twith 58237 stored elements in Compressed Sparse Row format>,\n",
       " array([  0,  29,  56,  79, 106, 129]))"
      ]
     },
     "execution_count": 15,
     "metadata": {},
     "output_type": "execute_result"
    }
   ],
   "source": [
    "clf.decision_path(X_train)"
   ]
  },
  {
   "cell_type": "code",
   "execution_count": 16,
   "metadata": {},
   "outputs": [],
   "source": [
    "# print(clf.feature_importances_)"
   ]
  },
  {
   "cell_type": "code",
   "execution_count": 17,
   "metadata": {},
   "outputs": [
    {
     "name": "stdout",
     "output_type": "stream",
     "text": [
      "Confusion Matrix, without normalization\n",
      "[[1995    0]\n",
      " [ 261   77]]\n",
      "              precision    recall  f1-score   support\n",
      "\n",
      "           0       0.88      1.00      0.94      1995\n",
      "           1       1.00      0.23      0.37       338\n",
      "\n",
      "    accuracy                           0.89      2333\n",
      "   macro avg       0.94      0.61      0.65      2333\n",
      "weighted avg       0.90      0.89      0.86      2333\n",
      "\n",
      "roc_auc_score: 0.613905325443787\n"
     ]
    },
    {
     "data": {
      "image/png": "[encoded data removed]",
      "text/plain": [
       "<Figure size 720x360 with 2 Axes>"
      ]
     },
     "metadata": {
      "needs_background": "light"
     },
     "output_type": "display_data"
    }
   ],
   "source": [
    "from sklearn.metrics import confusion_matrix\n",
    "y_pred = clf.predict(X_train)\n",
    "\n",
    "cm = confusion_matrix(y_train, y_pred)\n",
    "classes = ['Maintain', 'Churn']\n",
    "plot_confusion_matrix(cm, classes,\n",
    "                      normalize=False,\n",
    "                      title='Confusion matrix')\n",
    "\n",
    "#Checking performance our model with classification report.\n",
    "print(classification_report(y_train, y_pred))\n",
    "#Checking performance our model with ROC Score.\n",
    "print ('roc_auc_score:', roc_auc_score(y_train, y_pred))"
   ]
  },
  {
   "cell_type": "code",
   "execution_count": 18,
   "metadata": {},
   "outputs": [
    {
     "name": "stdout",
     "output_type": "stream",
     "text": [
      "Precision: 1.0\n",
      "Accuracy: 0.8881268752678955\n",
      "Recall: 0.22781065088757396\n",
      "F1: 0.3710843373493976\n"
     ]
    }
   ],
   "source": [
    "print('Precision: {}\\nAccuracy: {}\\nRecall: {}\\nF1: {}'.format(precision_score(y_train, y_pred), \n",
    "                accuracy_score(y_train, y_pred), \n",
    "                recall_score(y_train, y_pred), \n",
    "                f1_score(y_train, y_pred)))"
   ]
  },
  {
   "cell_type": "code",
   "execution_count": 19,
   "metadata": {},
   "outputs": [
    {
     "name": "stdout",
     "output_type": "stream",
     "text": [
      "Average CV score: 0.9314285714285713\n"
     ]
    }
   ],
   "source": [
    "cvs = cross_val_score(clf, X_train, y_train, cv = 5, scoring = 'precision')\n",
    "print('Average CV score: {}'.format(np.average(cvs)))"
   ]
  },
  {
   "cell_type": "markdown",
   "metadata": {},
   "source": [
    "## Let's try the same with the SMOTE data"
   ]
  },
  {
   "cell_type": "code",
   "execution_count": 20,
   "metadata": {},
   "outputs": [
    {
     "data": {
      "text/plain": [
       "((3990, 168), (3990,))"
      ]
     },
     "execution_count": 20,
     "metadata": {},
     "output_type": "execute_result"
    }
   ],
   "source": [
    "X_smote.shape, y_smote.shape"
   ]
  },
  {
   "cell_type": "code",
   "execution_count": 21,
   "metadata": {},
   "outputs": [],
   "source": [
    "clf2 = RandomForestClassifier(max_depth=4, random_state=3, n_jobs=-1, n_estimators=5)\n",
    "clf2.fit(X_smote, y_smote);"
   ]
  },
  {
   "cell_type": "code",
   "execution_count": 22,
   "metadata": {},
   "outputs": [
    {
     "name": "stdout",
     "output_type": "stream",
     "text": [
      "Confusion Matrix, without normalization\n",
      "[[1947   48]\n",
      " [ 241 1754]]\n",
      "              precision    recall  f1-score   support\n",
      "\n",
      "           0       0.89      0.98      0.93      1995\n",
      "           1       0.97      0.88      0.92      1995\n",
      "\n",
      "    accuracy                           0.93      3990\n",
      "   macro avg       0.93      0.93      0.93      3990\n",
      "weighted avg       0.93      0.93      0.93      3990\n",
      "\n",
      "roc_auc_score: 0.9275689223057644\n"
     ]
    },
    {
     "data": {
      "image/png": "[encoded data removed]",
      "text/plain": [
       "<Figure size 720x360 with 2 Axes>"
      ]
     },
     "metadata": {
      "needs_background": "light"
     },
     "output_type": "display_data"
    }
   ],
   "source": [
    "from sklearn.metrics import confusion_matrix\n",
    "y_pred2 = clf2.predict(X_smote)\n",
    "\n",
    "cm2 = confusion_matrix(y_smote, y_pred2)\n",
    "classes = ['Maintain', 'Churn']\n",
    "plot_confusion_matrix(cm2, classes,\n",
    "                      normalize=False,\n",
    "                      title='Confusion matrix')\n",
    "\n",
    "#Checking performance our model with classification report.\n",
    "print(classification_report(y_smote, y_pred2))\n",
    "#Checking performance our model with ROC Score.\n",
    "print ('roc_auc_score:', roc_auc_score(y_smote, y_pred2))"
   ]
  },
  {
   "cell_type": "code",
   "execution_count": 23,
   "metadata": {},
   "outputs": [
    {
     "name": "stdout",
     "output_type": "stream",
     "text": [
      "Precision: 0.9733629300776915\n",
      "Accuracy: 0.9275689223057644\n",
      "Recall: 0.8791979949874686\n",
      "F1: 0.9238872794311299\n"
     ]
    }
   ],
   "source": [
    "print('Precision: {}\\nAccuracy: {}\\nRecall: {}\\nF1: {}'.format(precision_score(y_smote, y_pred2), \n",
    "                accuracy_score(y_smote, y_pred2), \n",
    "                recall_score(y_smote, y_pred2), \n",
    "                f1_score(y_smote, y_pred2)))"
   ]
  },
  {
   "cell_type": "code",
   "execution_count": 24,
   "metadata": {},
   "outputs": [
    {
     "name": "stdout",
     "output_type": "stream",
     "text": [
      "Average CV score: 0.8705038004197616\n"
     ]
    }
   ],
   "source": [
    "cvs2 = cross_val_score(clf2, X_smote, y_smote, cv = 5, scoring = 'precision')\n",
    "print('Average CV score: {}'.format(np.average(cvs2)))"
   ]
  }
 ],
 "metadata": {
  "kernelspec": {
   "display_name": "Python 3",
   "language": "python",
   "name": "python3"
  },
  "language_info": {
   "codemirror_mode": {
    "name": "ipython",
    "version": 3
   },
   "file_extension": ".py",
   "mimetype": "text/x-python",
   "name": "python",
   "nbconvert_exporter": "python",
   "pygments_lexer": "ipython3",
   "version": "3.7.7"
  }
 },
 "nbformat": 4,
 "nbformat_minor": 2
}
