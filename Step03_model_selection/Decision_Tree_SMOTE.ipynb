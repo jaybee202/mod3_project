{
 "cells": [
  {
   "cell_type": "code",
   "execution_count": 1,
   "metadata": {},
   "outputs": [],
   "source": [
    "import pickle\n",
    "import pandas as pd\n",
    "X_train = pd.read_csv('../data/X_train_trans.csv', index_col=0)\n",
    "pickle_in = open('../data/y_train.pickle', 'rb')\n",
    "y_train = pickle.load(pickle_in)\n",
    "\n",
    "\n",
    "import pandas as pd\n",
    "import numpy as np\n",
    "import matplotlib.pyplot as plt\n",
    "import seaborn as sns\n",
    "from imblearn.over_sampling import SMOTENC"
   ]
  },
  {
   "cell_type": "code",
   "execution_count": 2,
   "metadata": {},
   "outputs": [],
   "source": [
    "list(enumerate(X_train.columns.tolist()));\n",
    "categoricals = list(range(18, len(X_train.columns)))"
   ]
  },
  {
   "cell_type": "code",
   "execution_count": 3,
   "metadata": {},
   "outputs": [],
   "source": [
    "sm = SMOTENC(random_state=3, categorical_features=categoricals)\n",
    "X_sm, y_sm = sm.fit_resample(X_train, y_train)"
   ]
  },
  {
   "cell_type": "code",
   "execution_count": 4,
   "metadata": {},
   "outputs": [],
   "source": [
    "from sklearn.tree import DecisionTreeClassifier\n",
    "clf = DecisionTreeClassifier()"
   ]
  },
  {
   "cell_type": "code",
   "execution_count": 5,
   "metadata": {},
   "outputs": [
    {
     "data": {
      "text/plain": [
       "DecisionTreeClassifier(ccp_alpha=0.0, class_weight=None, criterion='gini',\n",
       "                       max_depth=None, max_features=None, max_leaf_nodes=None,\n",
       "                       min_impurity_decrease=0.0, min_impurity_split=None,\n",
       "                       min_samples_leaf=1, min_samples_split=2,\n",
       "                       min_weight_fraction_leaf=0.0, presort='deprecated',\n",
       "                       random_state=None, splitter='best')"
      ]
     },
     "execution_count": 5,
     "metadata": {},
     "output_type": "execute_result"
    }
   ],
   "source": [
    "clf.fit(X_sm,y_sm)"
   ]
  },
  {
   "cell_type": "code",
   "execution_count": 6,
   "metadata": {},
   "outputs": [],
   "source": [
    "features = X_sm.columns.tolist()"
   ]
  },
  {
   "cell_type": "code",
   "execution_count": 7,
   "metadata": {},
   "outputs": [
    {
     "name": "stdout",
     "output_type": "stream",
     "text": [
      "|--- total_charge <= 1.39\n",
      "|   |--- customer_service_calls <= 1.10\n",
      "|   |   |--- x2_yes <= 0.50\n",
      "|   |   |   |--- total_intl_calls <= -0.60\n",
      "|   |   |   |   |--- total_intl_calls <= -1.00\n",
      "|   |   |   |   |   |--- total_day_minutes <= 0.62\n",
      "|   |   |   |   |   |   |--- total_day_calls <= -2.30\n",
      "|   |   |   |   |   |   |   |--- total_night_minutes <= 0.47\n",
      "|   |   |   |   |   |   |   |   |--- class: 1\n",
      "|   |   |   |   |   |   |   |--- total_night_minutes >  0.47\n",
      "|   |   |   |   |   |   |   |   |--- class: 0\n",
      "|   |   |   |   |   |   |--- total_day_calls >  -2.30\n",
      "|   |   |   |   |   |   |   |--- total_night_calls <= 0.19\n",
      "|   |   |   |   |   |   |   |   |--- total_eve_charge <= 2.43\n",
      "|   |   |   |   |   |   |   |   |   |--- x0_TX <= 0.50\n",
      "|   |   |   |   |   |   |   |   |   |   |--- total_eve_minutes <= 1.97\n",
      "|   |   |   |   |   |   |   |   |   |   |   |--- truncated branch of depth 5\n",
      "|   |   |   |   |   |   |   |   |   |   |--- total_eve_minutes >  1.97\n",
      "|   |   |   |   |   |   |   |   |   |   |   |--- truncated branch of depth 2\n",
      "|   |   |   |   |   |   |   |   |   |--- x0_TX >  0.50\n",
      "|   |   |   |   |   |   |   |   |   |   |--- x4_395 <= 0.50\n",
      "|   |   |   |   |   |   |   |   |   |   |   |--- class: 0\n",
      "|   |   |   |   |   |   |   |   |   |   |--- x4_395 >  0.50\n",
      "|   |   |   |   |   |   |   |   |   |   |   |--- class: 1\n",
      "|   |   |   |   |   |   |   |   |--- total_eve_charge >  2.43\n",
      "|   |   |   |   |   |   |   |   |   |--- class: 1\n",
      "|   |   |   |   |   |   |   |--- total_night_calls >  0.19\n",
      "|   |   |   |   |   |   |   |   |--- total_night_calls <= 0.24\n",
      "|   |   |   |   |   |   |   |   |   |--- class: 1\n",
      "|   |   |   |   |   |   |   |   |--- total_night_calls >  0.24\n",
      "|   |   |   |   |   |   |   |   |   |--- customer_service_calls <= -0.42\n",
      "|   |   |   |   |   |   |   |   |   |   |--- number_vmail_messages <= 2.42\n",
      "|   |   |   |   |   |   |   |   |   |   |   |--- truncated branch of depth 6\n",
      "|   |   |   |   |   |   |   |   |   |   |--- number_vmail_messages >  2.42\n",
      "|   |   |   |   |   |   |   |   |   |   |   |--- class: 1\n",
      "|   |   |   |   |   |   |   |   |   |--- customer_service_calls >  -0.42\n",
      "|   |   |   |   |   |   |   |   |   |   |--- customer_service_calls <= 0.32\n",
      "|   |   |   |   |   |   |   |   |   |   |   |--- class: 1\n",
      "|   |   |   |   |   |   |   |   |   |   |--- customer_service_calls >  0.32\n",
      "|   |   |   |   |   |   |   |   |   |   |   |--- truncated branch of depth 6\n",
      "|   |   |   |   |   |--- total_day_minutes >  0.62\n",
      "|   |   |   |   |   |   |--- total_intl_minutes <= -0.44\n",
      "|   |   |   |   |   |   |   |--- class: 0\n",
      "|   |   |   |   |   |   |--- total_intl_minutes >  -0.44\n",
      "|   |   |   |   |   |   |   |--- number_vmail_messages <= -0.11\n",
      "|   |   |   |   |   |   |   |   |--- total_eve_calls <= 0.60\n",
      "|   |   |   |   |   |   |   |   |   |--- total_night_minutes <= 0.27\n",
      "|   |   |   |   |   |   |   |   |   |   |--- total_minutes <= -0.31\n",
      "|   |   |   |   |   |   |   |   |   |   |   |--- class: 0\n",
      "|   |   |   |   |   |   |   |   |   |   |--- total_minutes >  -0.31\n",
      "|   |   |   |   |   |   |   |   |   |   |   |--- truncated branch of depth 5\n",
      "|   |   |   |   |   |   |   |   |   |--- total_night_minutes >  0.27\n",
      "|   |   |   |   |   |   |   |   |   |   |--- total_day_minutes <= 0.80\n",
      "|   |   |   |   |   |   |   |   |   |   |   |--- truncated branch of depth 2\n",
      "|   |   |   |   |   |   |   |   |   |   |--- total_day_minutes >  0.80\n",
      "|   |   |   |   |   |   |   |   |   |   |   |--- class: 0\n",
      "|   |   |   |   |   |   |   |   |--- total_eve_calls >  0.60\n",
      "|   |   |   |   |   |   |   |   |   |--- class: 0\n",
      "|   |   |   |   |   |   |   |--- number_vmail_messages >  -0.11\n",
      "|   |   |   |   |   |   |   |   |--- class: 0\n",
      "|   |   |   |   |--- total_intl_calls >  -1.00\n",
      "|   |   |   |   |   |--- class: 1\n",
      "|   |   |   |--- total_intl_calls >  -0.60\n",
      "|   |   |   |   |--- number_vmail_messages <= 1.37\n",
      "|   |   |   |   |   |--- total_charge <= 1.21\n",
      "|   |   |   |   |   |   |--- customer_service_calls <= -0.44\n",
      "|   |   |   |   |   |   |   |--- customer_service_calls <= -1.19\n",
      "|   |   |   |   |   |   |   |   |--- total_eve_charge <= 0.30\n",
      "|   |   |   |   |   |   |   |   |   |--- account_length <= -0.03\n",
      "|   |   |   |   |   |   |   |   |   |   |--- total_eve_minutes <= 0.29\n",
      "|   |   |   |   |   |   |   |   |   |   |   |--- truncated branch of depth 4\n",
      "|   |   |   |   |   |   |   |   |   |   |--- total_eve_minutes >  0.29\n",
      "|   |   |   |   |   |   |   |   |   |   |   |--- class: 1\n",
      "|   |   |   |   |   |   |   |   |   |--- account_length >  -0.03\n",
      "|   |   |   |   |   |   |   |   |   |   |--- x0_SC <= 0.50\n",
      "|   |   |   |   |   |   |   |   |   |   |   |--- truncated branch of depth 5\n",
      "|   |   |   |   |   |   |   |   |   |   |--- x0_SC >  0.50\n",
      "|   |   |   |   |   |   |   |   |   |   |   |--- class: 1\n",
      "|   |   |   |   |   |   |   |   |--- total_eve_charge >  0.30\n",
      "|   |   |   |   |   |   |   |   |   |--- class: 0\n",
      "|   |   |   |   |   |   |   |--- customer_service_calls >  -1.19\n",
      "|   |   |   |   |   |   |   |   |--- class: 1\n",
      "|   |   |   |   |   |   |--- customer_service_calls >  -0.44\n",
      "|   |   |   |   |   |   |   |--- total_eve_charge <= 0.12\n",
      "|   |   |   |   |   |   |   |   |--- total_intl_calls <= 4.04\n",
      "|   |   |   |   |   |   |   |   |   |--- total_eve_calls <= 0.12\n",
      "|   |   |   |   |   |   |   |   |   |   |--- class: 0\n",
      "|   |   |   |   |   |   |   |   |   |--- total_eve_calls >  0.12\n",
      "|   |   |   |   |   |   |   |   |   |   |--- total_night_calls <= -1.82\n",
      "|   |   |   |   |   |   |   |   |   |   |   |--- truncated branch of depth 2\n",
      "|   |   |   |   |   |   |   |   |   |   |--- total_night_calls >  -1.82\n",
      "|   |   |   |   |   |   |   |   |   |   |   |--- truncated branch of depth 7\n",
      "|   |   |   |   |   |   |   |   |--- total_intl_calls >  4.04\n",
      "|   |   |   |   |   |   |   |   |   |--- x0_KS <= 0.50\n",
      "|   |   |   |   |   |   |   |   |   |   |--- class: 1\n",
      "|   |   |   |   |   |   |   |   |   |--- x0_KS >  0.50\n",
      "|   |   |   |   |   |   |   |   |   |   |--- class: 0\n",
      "|   |   |   |   |   |   |   |--- total_eve_charge >  0.12\n",
      "|   |   |   |   |   |   |   |   |--- total_night_calls <= -0.31\n",
      "|   |   |   |   |   |   |   |   |   |--- total_eve_charge <= 0.13\n",
      "|   |   |   |   |   |   |   |   |   |   |--- class: 1\n",
      "|   |   |   |   |   |   |   |   |   |--- total_eve_charge >  0.13\n",
      "|   |   |   |   |   |   |   |   |   |   |--- x4_390 <= 0.50\n",
      "|   |   |   |   |   |   |   |   |   |   |   |--- truncated branch of depth 4\n",
      "|   |   |   |   |   |   |   |   |   |   |--- x4_390 >  0.50\n",
      "|   |   |   |   |   |   |   |   |   |   |   |--- class: 1\n",
      "|   |   |   |   |   |   |   |   |--- total_night_calls >  -0.31\n",
      "|   |   |   |   |   |   |   |   |   |--- total_intl_charge <= -0.86\n",
      "|   |   |   |   |   |   |   |   |   |   |--- class: 0\n",
      "|   |   |   |   |   |   |   |   |   |--- total_intl_charge >  -0.86\n",
      "|   |   |   |   |   |   |   |   |   |   |--- total_minutes <= 1.16\n",
      "|   |   |   |   |   |   |   |   |   |   |   |--- truncated branch of depth 8\n",
      "|   |   |   |   |   |   |   |   |   |   |--- total_minutes >  1.16\n",
      "|   |   |   |   |   |   |   |   |   |   |   |--- truncated branch of depth 4\n",
      "|   |   |   |   |   |--- total_charge >  1.21\n",
      "|   |   |   |   |   |   |--- account_length <= 0.86\n",
      "|   |   |   |   |   |   |   |--- total_night_charge <= 0.91\n",
      "|   |   |   |   |   |   |   |   |--- x1_510 <= 0.50\n",
      "|   |   |   |   |   |   |   |   |   |--- total_night_charge <= -0.85\n",
      "|   |   |   |   |   |   |   |   |   |   |--- class: 0\n",
      "|   |   |   |   |   |   |   |   |   |--- total_night_charge >  -0.85\n",
      "|   |   |   |   |   |   |   |   |   |   |--- total_eve_minutes <= 1.69\n",
      "|   |   |   |   |   |   |   |   |   |   |   |--- truncated branch of depth 4\n",
      "|   |   |   |   |   |   |   |   |   |   |--- total_eve_minutes >  1.69\n",
      "|   |   |   |   |   |   |   |   |   |   |   |--- class: 0\n",
      "|   |   |   |   |   |   |   |   |--- x1_510 >  0.50\n",
      "|   |   |   |   |   |   |   |   |   |--- class: 0\n",
      "|   |   |   |   |   |   |   |--- total_night_charge >  0.91\n",
      "|   |   |   |   |   |   |   |   |--- class: 0\n",
      "|   |   |   |   |   |   |--- account_length >  0.86\n",
      "|   |   |   |   |   |   |   |--- class: 1\n",
      "|   |   |   |   |--- number_vmail_messages >  1.37\n",
      "|   |   |   |   |   |--- number_vmail_messages <= 1.44\n",
      "|   |   |   |   |   |   |--- class: 1\n",
      "|   |   |   |   |   |--- number_vmail_messages >  1.44\n",
      "|   |   |   |   |   |   |--- customer_service_calls <= -0.42\n",
      "|   |   |   |   |   |   |   |--- total_intl_charge <= 1.04\n",
      "|   |   |   |   |   |   |   |   |--- total_calls <= 1.61\n",
      "|   |   |   |   |   |   |   |   |   |--- x4_351 <= 0.50\n",
      "|   |   |   |   |   |   |   |   |   |   |--- total_day_minutes <= -1.46\n",
      "|   |   |   |   |   |   |   |   |   |   |   |--- truncated branch of depth 2\n",
      "|   |   |   |   |   |   |   |   |   |   |--- total_day_minutes >  -1.46\n",
      "|   |   |   |   |   |   |   |   |   |   |   |--- class: 0\n",
      "|   |   |   |   |   |   |   |   |   |--- x4_351 >  0.50\n",
      "|   |   |   |   |   |   |   |   |   |   |--- class: 1\n",
      "|   |   |   |   |   |   |   |   |--- total_calls >  1.61\n",
      "|   |   |   |   |   |   |   |   |   |--- total_calls <= 1.73\n",
      "|   |   |   |   |   |   |   |   |   |   |--- class: 1\n",
      "|   |   |   |   |   |   |   |   |   |--- total_calls >  1.73\n",
      "|   |   |   |   |   |   |   |   |   |   |--- class: 0\n",
      "|   |   |   |   |   |   |   |--- total_intl_charge >  1.04\n",
      "|   |   |   |   |   |   |   |   |--- total_charge <= 0.02\n",
      "|   |   |   |   |   |   |   |   |   |--- class: 0\n",
      "|   |   |   |   |   |   |   |   |--- total_charge >  0.02\n",
      "|   |   |   |   |   |   |   |   |   |--- customer_service_calls <= -1.17\n",
      "|   |   |   |   |   |   |   |   |   |   |--- class: 0\n",
      "|   |   |   |   |   |   |   |   |   |--- customer_service_calls >  -1.17\n",
      "|   |   |   |   |   |   |   |   |   |   |--- total_eve_calls <= -0.57\n",
      "|   |   |   |   |   |   |   |   |   |   |   |--- class: 0\n",
      "|   |   |   |   |   |   |   |   |   |   |--- total_eve_calls >  -0.57\n",
      "|   |   |   |   |   |   |   |   |   |   |   |--- class: 1\n",
      "|   |   |   |   |   |   |--- customer_service_calls >  -0.42\n",
      "|   |   |   |   |   |   |   |--- customer_service_calls <= 0.33\n",
      "|   |   |   |   |   |   |   |   |--- class: 1\n",
      "|   |   |   |   |   |   |   |--- customer_service_calls >  0.33\n",
      "|   |   |   |   |   |   |   |   |--- total_night_charge <= -0.60\n",
      "|   |   |   |   |   |   |   |   |   |--- class: 0\n",
      "|   |   |   |   |   |   |   |   |--- total_night_charge >  -0.60\n",
      "|   |   |   |   |   |   |   |   |   |--- total_calls <= -0.56\n",
      "|   |   |   |   |   |   |   |   |   |   |--- class: 0\n",
      "|   |   |   |   |   |   |   |   |   |--- total_calls >  -0.56\n",
      "|   |   |   |   |   |   |   |   |   |   |--- customer_service_calls <= 1.09\n",
      "|   |   |   |   |   |   |   |   |   |   |   |--- truncated branch of depth 7\n",
      "|   |   |   |   |   |   |   |   |   |   |--- customer_service_calls >  1.09\n",
      "|   |   |   |   |   |   |   |   |   |   |   |--- truncated branch of depth 3\n",
      "|   |   |--- x2_yes >  0.50\n",
      "|   |   |   |--- total_intl_charge <= 0.98\n",
      "|   |   |   |   |--- total_intl_calls <= -0.62\n",
      "|   |   |   |   |   |--- class: 1\n",
      "|   |   |   |   |--- total_intl_calls >  -0.62\n",
      "|   |   |   |   |   |--- total_day_minutes <= -1.39\n",
      "|   |   |   |   |   |   |--- total_day_calls <= 0.46\n",
      "|   |   |   |   |   |   |   |--- total_day_minutes <= -1.71\n",
      "|   |   |   |   |   |   |   |   |--- total_eve_charge <= -0.20\n",
      "|   |   |   |   |   |   |   |   |   |--- class: 1\n",
      "|   |   |   |   |   |   |   |   |--- total_eve_charge >  -0.20\n",
      "|   |   |   |   |   |   |   |   |   |--- class: 0\n",
      "|   |   |   |   |   |   |   |--- total_day_minutes >  -1.71\n",
      "|   |   |   |   |   |   |   |   |--- class: 1\n",
      "|   |   |   |   |   |   |--- total_day_calls >  0.46\n",
      "|   |   |   |   |   |   |   |--- class: 0\n",
      "|   |   |   |   |   |--- total_day_minutes >  -1.39\n",
      "|   |   |   |   |   |   |--- total_intl_minutes <= 0.65\n",
      "|   |   |   |   |   |   |   |--- total_night_charge <= -2.36\n",
      "|   |   |   |   |   |   |   |   |--- class: 1\n",
      "|   |   |   |   |   |   |   |--- total_night_charge >  -2.36\n",
      "|   |   |   |   |   |   |   |   |--- total_intl_calls <= 4.21\n",
      "|   |   |   |   |   |   |   |   |   |--- total_day_minutes <= -1.19\n",
      "|   |   |   |   |   |   |   |   |   |   |--- x1_510 <= 0.50\n",
      "|   |   |   |   |   |   |   |   |   |   |   |--- class: 0\n",
      "|   |   |   |   |   |   |   |   |   |   |--- x1_510 >  0.50\n",
      "|   |   |   |   |   |   |   |   |   |   |   |--- truncated branch of depth 2\n",
      "|   |   |   |   |   |   |   |   |   |--- total_day_minutes >  -1.19\n",
      "|   |   |   |   |   |   |   |   |   |   |--- total_minutes <= -1.59\n",
      "|   |   |   |   |   |   |   |   |   |   |   |--- class: 1\n",
      "|   |   |   |   |   |   |   |   |   |   |--- total_minutes >  -1.59\n",
      "|   |   |   |   |   |   |   |   |   |   |   |--- truncated branch of depth 4\n",
      "|   |   |   |   |   |   |   |   |--- total_intl_calls >  4.21\n",
      "|   |   |   |   |   |   |   |   |   |--- class: 1\n",
      "|   |   |   |   |   |   |--- total_intl_minutes >  0.65\n",
      "|   |   |   |   |   |   |   |--- total_day_minutes <= 0.01\n",
      "|   |   |   |   |   |   |   |   |--- customer_service_calls <= -0.81\n",
      "|   |   |   |   |   |   |   |   |   |--- class: 0\n",
      "|   |   |   |   |   |   |   |   |--- customer_service_calls >  -0.81\n",
      "|   |   |   |   |   |   |   |   |   |--- total_eve_charge <= -1.52\n",
      "|   |   |   |   |   |   |   |   |   |   |--- class: 0\n",
      "|   |   |   |   |   |   |   |   |   |--- total_eve_charge >  -1.52\n",
      "|   |   |   |   |   |   |   |   |   |   |--- class: 1\n",
      "|   |   |   |   |   |   |   |--- total_day_minutes >  0.01\n",
      "|   |   |   |   |   |   |   |   |--- class: 0\n",
      "|   |   |   |--- total_intl_charge >  0.98\n",
      "|   |   |   |   |--- class: 1\n",
      "|   |--- customer_service_calls >  1.10\n",
      "|   |   |--- total_charge <= -0.23\n",
      "|   |   |   |--- x4_383 <= 0.50\n",
      "|   |   |   |   |--- class: 1\n",
      "|   |   |   |--- x4_383 >  0.50\n",
      "|   |   |   |   |--- class: 0\n",
      "|   |   |--- total_charge >  -0.23\n",
      "|   |   |   |--- customer_service_calls <= 1.86\n",
      "|   |   |   |   |--- class: 1\n",
      "|   |   |   |--- customer_service_calls >  1.86\n",
      "|   |   |   |   |--- total_night_calls <= 0.90\n",
      "|   |   |   |   |   |--- total_day_minutes <= -0.67\n",
      "|   |   |   |   |   |   |--- class: 1\n",
      "|   |   |   |   |   |--- total_day_minutes >  -0.67\n",
      "|   |   |   |   |   |   |--- class: 0\n",
      "|   |   |   |   |--- total_night_calls >  0.90\n",
      "|   |   |   |   |   |--- total_intl_calls <= -0.67\n",
      "|   |   |   |   |   |   |--- class: 1\n",
      "|   |   |   |   |   |--- total_intl_calls >  -0.67\n",
      "|   |   |   |   |   |   |--- class: 0\n",
      "|--- total_charge >  1.39\n",
      "|   |--- x3_yes <= 0.50\n",
      "|   |   |--- class: 1\n",
      "|   |--- x3_yes >  0.50\n",
      "|   |   |--- x2_yes <= 0.50\n",
      "|   |   |   |--- number_vmail_messages <= -0.10\n",
      "|   |   |   |   |--- class: 1\n",
      "|   |   |   |--- number_vmail_messages >  -0.10\n",
      "|   |   |   |   |--- class: 0\n",
      "|   |   |--- x2_yes >  0.50\n",
      "|   |   |   |--- account_length <= 0.03\n",
      "|   |   |   |   |--- total_intl_calls <= -0.80\n",
      "|   |   |   |   |   |--- class: 1\n",
      "|   |   |   |   |--- total_intl_calls >  -0.80\n",
      "|   |   |   |   |   |--- class: 0\n",
      "|   |   |   |--- account_length >  0.03\n",
      "|   |   |   |   |--- class: 1\n",
      "\n"
     ]
    },
    {
     "name": "stderr",
     "output_type": "stream",
     "text": [
      "/Users/viviandang/opt/anaconda3/lib/python3.7/site-packages/sklearn/utils/deprecation.py:144: FutureWarning: The sklearn.tree.export module is  deprecated in version 0.22 and will be removed in version 0.24. The corresponding classes / functions should instead be imported from sklearn.tree. Anything that cannot be imported from sklearn.tree is now part of the private API.\n",
      "  warnings.warn(message, FutureWarning)\n"
     ]
    }
   ],
   "source": [
    "from sklearn.tree.export import export_text\n",
    "\n",
    "r = export_text(clf, feature_names= features)\n",
    "print(r)"
   ]
  },
  {
   "cell_type": "code",
   "execution_count": 8,
   "metadata": {},
   "outputs": [
    {
     "data": {
      "text/plain": [
       "361"
      ]
     },
     "execution_count": 8,
     "metadata": {},
     "output_type": "execute_result"
    }
   ],
   "source": [
    "clf.tree_.node_count"
   ]
  },
  {
   "cell_type": "code",
   "execution_count": 9,
   "metadata": {
    "scrolled": true
   },
   "outputs": [
    {
     "data": {
      "text/plain": [
       "'Churn_DTree_SMOTE.pdf'"
      ]
     },
     "execution_count": 9,
     "metadata": {},
     "output_type": "execute_result"
    }
   ],
   "source": [
    "import graphviz \n",
    "from sklearn import tree\n",
    "dot_data = tree.export_graphviz(clf, out_file=None, \n",
    "                     feature_names=features,  \n",
    "                     filled=True, rounded=True,  \n",
    "                     special_characters=True)  \n",
    "graph = graphviz.Source(dot_data)  \n",
    "graph.render(\"Churn_DTree_SMOTE\")"
   ]
  },
  {
   "cell_type": "code",
   "execution_count": 10,
   "metadata": {},
   "outputs": [],
   "source": [
    "y_pred_sm = clf.predict(X_sm)"
   ]
  },
  {
   "cell_type": "code",
   "execution_count": 11,
   "metadata": {},
   "outputs": [],
   "source": [
    "from sklearn.metrics import recall_score\n",
    "from sklearn.metrics import precision_score\n",
    "from sklearn.metrics import f1_score"
   ]
  },
  {
   "cell_type": "code",
   "execution_count": 12,
   "metadata": {},
   "outputs": [
    {
     "name": "stdout",
     "output_type": "stream",
     "text": [
      "accuracy score: 1.0\n",
      "recall: 1.0\n",
      "precision: 1.0\n",
      "f1: 1.0\n"
     ]
    }
   ],
   "source": [
    "print ('accuracy score:', clf.score(X_sm, y_sm))\n",
    "print ('recall:', recall_score(y_sm, y_pred_sm))\n",
    "print ('precision:', precision_score(y_sm, y_pred_sm))\n",
    "print ('f1:', f1_score(y_sm, y_pred_sm))"
   ]
  },
  {
   "cell_type": "markdown",
   "metadata": {},
   "source": [
    "### Hyperparameter with Gridsearch\n",
    "- The best value for max_dept is 5"
   ]
  },
  {
   "cell_type": "code",
   "execution_count": 13,
   "metadata": {},
   "outputs": [],
   "source": [
    "from sklearn.model_selection import GridSearchCV"
   ]
  },
  {
   "cell_type": "code",
   "execution_count": 14,
   "metadata": {},
   "outputs": [
    {
     "name": "stdout",
     "output_type": "stream",
     "text": [
      "Fitting 10 folds for each of 40 candidates, totalling 400 fits\n"
     ]
    },
    {
     "name": "stderr",
     "output_type": "stream",
     "text": [
      "[Parallel(n_jobs=-1)]: Using backend LokyBackend with 12 concurrent workers.\n",
      "[Parallel(n_jobs=-1)]: Done  26 tasks      | elapsed:    2.4s\n",
      "[Parallel(n_jobs=-1)]: Done 400 out of 400 | elapsed:    3.9s finished\n"
     ]
    }
   ],
   "source": [
    "tree_clf = DecisionTreeClassifier()\n",
    "\n",
    "max_depth_params = range(2, 12)\n",
    "\n",
    "max_features_param = [None, 'auto', 'sqrt', 'log2']\n",
    "\n",
    "param_grid = {'max_depth': max_depth_params, 'max_features': max_features_param}\n",
    "\n",
    "gridsearch = GridSearchCV(estimator = tree_clf, \n",
    "                          param_grid = param_grid,\n",
    "                          n_jobs = -1, #parallel computation\n",
    "                          verbose = 1, #give feedback\n",
    "                          cv = 10, #cross-validate 10 times\n",
    "                          scoring = 'precision', #can use multiple scoring  , recall, precision..ect\n",
    "                          return_train_score= True)\n",
    "\n",
    "gridsearch = gridsearch.fit(X_sm, y_sm)"
   ]
  },
  {
   "cell_type": "code",
   "execution_count": 15,
   "metadata": {},
   "outputs": [
    {
     "data": {
      "text/plain": [
       "DecisionTreeClassifier(ccp_alpha=0.0, class_weight=None, criterion='gini',\n",
       "                       max_depth=5, max_features=None, max_leaf_nodes=None,\n",
       "                       min_impurity_decrease=0.0, min_impurity_split=None,\n",
       "                       min_samples_leaf=1, min_samples_split=2,\n",
       "                       min_weight_fraction_leaf=0.0, presort='deprecated',\n",
       "                       random_state=None, splitter='best')"
      ]
     },
     "execution_count": 15,
     "metadata": {},
     "output_type": "execute_result"
    }
   ],
   "source": [
    "## let's see best score and best parameters\n",
    "\n",
    "gridsearch.best_estimator_"
   ]
  },
  {
   "cell_type": "code",
   "execution_count": 16,
   "metadata": {},
   "outputs": [
    {
     "data": {
      "text/plain": [
       "0.9957922380607638"
      ]
     },
     "execution_count": 16,
     "metadata": {},
     "output_type": "execute_result"
    }
   ],
   "source": [
    "gridsearch.best_score_"
   ]
  },
  {
   "cell_type": "code",
   "execution_count": 17,
   "metadata": {},
   "outputs": [
    {
     "data": {
      "text/plain": [
       "{'mean_fit_time': array([0.1085974 , 0.02023454, 0.01324265, 0.01390572, 0.04452689,\n",
       "        0.01462305, 0.01251271, 0.01259532, 0.05826097, 0.01567082,\n",
       "        0.01733491, 0.01271241, 0.05825157, 0.01462653, 0.01284852,\n",
       "        0.01117885, 0.06602407, 0.01462371, 0.01514034, 0.0154345 ,\n",
       "        0.07281952, 0.0153259 , 0.01412694, 0.01387396, 0.07724156,\n",
       "        0.01598947, 0.01531856, 0.01475227, 0.08085279, 0.01595182,\n",
       "        0.01665378, 0.01283128, 0.08150864, 0.01776471, 0.01733119,\n",
       "        0.01548445, 0.0656564 , 0.0160934 , 0.01565127, 0.01164494]),\n",
       " 'std_fit_time': array([0.01017061, 0.00764549, 0.00138849, 0.00165201, 0.00803255,\n",
       "        0.00184198, 0.00160326, 0.00251985, 0.0066068 , 0.00312655,\n",
       "        0.00403131, 0.00276423, 0.00430669, 0.00250735, 0.00135876,\n",
       "        0.00145408, 0.00856877, 0.00197116, 0.00342199, 0.00543772,\n",
       "        0.00382264, 0.00196105, 0.00167031, 0.00290324, 0.00257044,\n",
       "        0.00187579, 0.00189947, 0.00306979, 0.00865522, 0.00199424,\n",
       "        0.00210368, 0.002414  , 0.01577182, 0.00324246, 0.00339556,\n",
       "        0.00341748, 0.01829346, 0.00340206, 0.00352647, 0.0019352 ]),\n",
       " 'mean_score_time': array([0.00633118, 0.00598478, 0.00383332, 0.0038075 , 0.00519223,\n",
       "        0.00370736, 0.00429432, 0.00522799, 0.00546389, 0.00509291,\n",
       "        0.00646169, 0.00478222, 0.00364151, 0.00383239, 0.00379558,\n",
       "        0.0036937 , 0.00435913, 0.00391073, 0.00410144, 0.0043673 ,\n",
       "        0.00393562, 0.00422454, 0.00399454, 0.00388124, 0.00458338,\n",
       "        0.00380619, 0.00362763, 0.00364358, 0.00406685, 0.00452521,\n",
       "        0.00381799, 0.00428135, 0.0033021 , 0.0038682 , 0.00421624,\n",
       "        0.0039583 , 0.00237103, 0.00370352, 0.00319333, 0.00297525]),\n",
       " 'std_score_time': array([0.00359654, 0.00209837, 0.00026439, 0.00032133, 0.00292284,\n",
       "        0.00026783, 0.00241658, 0.00212101, 0.00276289, 0.00223652,\n",
       "        0.00675792, 0.00237392, 0.0002354 , 0.00040473, 0.00018064,\n",
       "        0.0004496 , 0.00113962, 0.00095043, 0.00103093, 0.00166641,\n",
       "        0.00059075, 0.00171204, 0.00199296, 0.00055003, 0.00159526,\n",
       "        0.00064536, 0.0002732 , 0.00021406, 0.0007746 , 0.00161163,\n",
       "        0.00064462, 0.00136096, 0.00070245, 0.00042862, 0.0018899 ,\n",
       "        0.00084266, 0.00075835, 0.00079753, 0.00046701, 0.00049961]),\n",
       " 'param_max_depth': masked_array(data=[2, 2, 2, 2, 3, 3, 3, 3, 4, 4, 4, 4, 5, 5, 5, 5, 6, 6,\n",
       "                    6, 6, 7, 7, 7, 7, 8, 8, 8, 8, 9, 9, 9, 9, 10, 10, 10,\n",
       "                    10, 11, 11, 11, 11],\n",
       "              mask=[False, False, False, False, False, False, False, False,\n",
       "                    False, False, False, False, False, False, False, False,\n",
       "                    False, False, False, False, False, False, False, False,\n",
       "                    False, False, False, False, False, False, False, False,\n",
       "                    False, False, False, False, False, False, False, False],\n",
       "        fill_value='?',\n",
       "             dtype=object),\n",
       " 'param_max_features': masked_array(data=[None, 'auto', 'sqrt', 'log2', None, 'auto', 'sqrt',\n",
       "                    'log2', None, 'auto', 'sqrt', 'log2', None, 'auto',\n",
       "                    'sqrt', 'log2', None, 'auto', 'sqrt', 'log2', None,\n",
       "                    'auto', 'sqrt', 'log2', None, 'auto', 'sqrt', 'log2',\n",
       "                    None, 'auto', 'sqrt', 'log2', None, 'auto', 'sqrt',\n",
       "                    'log2', None, 'auto', 'sqrt', 'log2'],\n",
       "              mask=[False, False, False, False, False, False, False, False,\n",
       "                    False, False, False, False, False, False, False, False,\n",
       "                    False, False, False, False, False, False, False, False,\n",
       "                    False, False, False, False, False, False, False, False,\n",
       "                    False, False, False, False, False, False, False, False],\n",
       "        fill_value='?',\n",
       "             dtype=object),\n",
       " 'params': [{'max_depth': 2, 'max_features': None},\n",
       "  {'max_depth': 2, 'max_features': 'auto'},\n",
       "  {'max_depth': 2, 'max_features': 'sqrt'},\n",
       "  {'max_depth': 2, 'max_features': 'log2'},\n",
       "  {'max_depth': 3, 'max_features': None},\n",
       "  {'max_depth': 3, 'max_features': 'auto'},\n",
       "  {'max_depth': 3, 'max_features': 'sqrt'},\n",
       "  {'max_depth': 3, 'max_features': 'log2'},\n",
       "  {'max_depth': 4, 'max_features': None},\n",
       "  {'max_depth': 4, 'max_features': 'auto'},\n",
       "  {'max_depth': 4, 'max_features': 'sqrt'},\n",
       "  {'max_depth': 4, 'max_features': 'log2'},\n",
       "  {'max_depth': 5, 'max_features': None},\n",
       "  {'max_depth': 5, 'max_features': 'auto'},\n",
       "  {'max_depth': 5, 'max_features': 'sqrt'},\n",
       "  {'max_depth': 5, 'max_features': 'log2'},\n",
       "  {'max_depth': 6, 'max_features': None},\n",
       "  {'max_depth': 6, 'max_features': 'auto'},\n",
       "  {'max_depth': 6, 'max_features': 'sqrt'},\n",
       "  {'max_depth': 6, 'max_features': 'log2'},\n",
       "  {'max_depth': 7, 'max_features': None},\n",
       "  {'max_depth': 7, 'max_features': 'auto'},\n",
       "  {'max_depth': 7, 'max_features': 'sqrt'},\n",
       "  {'max_depth': 7, 'max_features': 'log2'},\n",
       "  {'max_depth': 8, 'max_features': None},\n",
       "  {'max_depth': 8, 'max_features': 'auto'},\n",
       "  {'max_depth': 8, 'max_features': 'sqrt'},\n",
       "  {'max_depth': 8, 'max_features': 'log2'},\n",
       "  {'max_depth': 9, 'max_features': None},\n",
       "  {'max_depth': 9, 'max_features': 'auto'},\n",
       "  {'max_depth': 9, 'max_features': 'sqrt'},\n",
       "  {'max_depth': 9, 'max_features': 'log2'},\n",
       "  {'max_depth': 10, 'max_features': None},\n",
       "  {'max_depth': 10, 'max_features': 'auto'},\n",
       "  {'max_depth': 10, 'max_features': 'sqrt'},\n",
       "  {'max_depth': 10, 'max_features': 'log2'},\n",
       "  {'max_depth': 11, 'max_features': None},\n",
       "  {'max_depth': 11, 'max_features': 'auto'},\n",
       "  {'max_depth': 11, 'max_features': 'sqrt'},\n",
       "  {'max_depth': 11, 'max_features': 'log2'}],\n",
       " 'split0_test_score': array([0.92253521, 0.91304348, 0.87951807, 0.55399061, 0.94886364,\n",
       "        0.85981308, 0.68085106, 0.5264624 , 1.        , 0.95294118,\n",
       "        0.75      , 0.5106383 , 1.        , 0.57589286, 0.83823529,\n",
       "        0.82733813, 0.99415205, 0.9047619 , 0.66494845, 0.8807947 ,\n",
       "        0.98837209, 0.75609756, 0.6443299 , 0.79710145, 0.96590909,\n",
       "        0.80985915, 0.80327869, 0.85826772, 0.96590909, 0.91366906,\n",
       "        0.84302326, 0.72682927, 0.94972067, 0.77070064, 0.88554217,\n",
       "        0.9047619 , 0.97159091, 0.67400881, 0.88741722, 0.68333333]),\n",
       " 'split1_test_score': array([0.96183206, 0.70434783, 0.94318182, 0.70175439, 0.95930233,\n",
       "        0.88429752, 0.88983051, 0.93103448, 0.99328859, 0.88549618,\n",
       "        0.7518797 , 0.90804598, 0.99390244, 0.86524823, 0.55274262,\n",
       "        0.55592105, 0.93181818, 0.66995074, 0.75247525, 0.55844156,\n",
       "        0.95930233, 0.81203008, 0.85064935, 0.90076336, 0.94382022,\n",
       "        0.7797619 , 0.77083333, 0.70854271, 0.94535519, 0.60311284,\n",
       "        0.91616766, 0.55555556, 0.9197861 , 0.85714286, 0.88811189,\n",
       "        0.63478261, 0.89637306, 0.73717949, 0.84920635, 0.88461538]),\n",
       " 'split2_test_score': array([0.92517007, 0.90410959, 0.90322581, 0.51733333, 0.93975904,\n",
       "        0.52974504, 0.95454545, 0.58912387, 0.9408284 , 0.64974619,\n",
       "        0.875     , 0.51891892, 1.        , 0.79245283, 0.88888889,\n",
       "        0.875     , 0.97660819, 0.88235294, 0.79831933, 0.54896142,\n",
       "        0.98235294, 0.81012658, 0.74285714, 0.99090909, 0.91959799,\n",
       "        0.69302326, 0.87323944, 0.64788732, 0.92118227, 0.72988506,\n",
       "        0.77040816, 0.92      , 0.93      , 0.71848739, 0.75909091,\n",
       "        0.69026549, 0.93846154, 0.62195122, 0.80147059, 0.95744681]),\n",
       " 'split3_test_score': array([0.94776119, 0.54755043, 0.74590164, 0.74590164, 0.94339623,\n",
       "        0.57286432, 0.89552239, 0.56721311, 0.94375   , 0.58796296,\n",
       "        0.76923077, 0.85714286, 0.99375   , 0.80272109, 0.77848101,\n",
       "        0.56535948, 0.98203593, 0.91525424, 0.92035398, 0.86746988,\n",
       "        0.98795181, 0.66517857, 0.86904762, 0.8028169 , 0.96648045,\n",
       "        0.84684685, 0.96350365, 0.95172414, 0.97206704, 0.89677419,\n",
       "        0.84302326, 0.88709677, 0.96721311, 0.77990431, 0.87283237,\n",
       "        0.75      , 0.9673913 , 0.92485549, 0.87570621, 0.66470588]),\n",
       " 'split4_test_score': array([0.92948718, 0.85135135, 0.8       , 0.58917197, 0.93678161,\n",
       "        0.80530973, 0.57538462, 0.77227723, 0.93785311, 0.8962963 ,\n",
       "        0.87128713, 0.81481481, 0.98795181, 0.76136364, 0.95327103,\n",
       "        0.735     , 0.98255814, 0.85380117, 0.82911392, 0.74647887,\n",
       "        0.98265896, 0.93918919, 0.83908046, 0.83425414, 0.96666667,\n",
       "        0.86842105, 0.87709497, 0.86928105, 0.96132597, 0.73873874,\n",
       "        0.90506329, 0.58951965, 0.93650794, 0.88721805, 0.89333333,\n",
       "        0.81081081, 0.93264249, 0.875     , 0.95031056, 0.76126126]),\n",
       " 'split5_test_score': array([0.93548387, 0.70238095, 0.74712644, 0.5483871 , 0.91208791,\n",
       "        0.87850467, 0.77777778, 0.82758621, 0.91256831, 0.87951807,\n",
       "        0.85576923, 0.77419355, 1.        , 0.79084967, 0.57482993,\n",
       "        0.90804598, 0.98857143, 0.67977528, 0.83544304, 0.61458333,\n",
       "        0.99421965, 0.79365079, 0.76724138, 0.69230769, 0.98888889,\n",
       "        0.7515528 , 0.59574468, 0.59566787, 0.97311828, 0.73214286,\n",
       "        0.86470588, 0.90184049, 0.98369565, 0.83561644, 0.75280899,\n",
       "        0.81065089, 0.96335079, 0.83417085, 0.8358209 , 0.73298429]),\n",
       " 'split6_test_score': array([0.92413793, 0.51041667, 0.68390805, 0.50636132, 0.90909091,\n",
       "        0.85714286, 0.71698113, 0.83206107, 0.90960452, 0.87254902,\n",
       "        0.93571429, 0.54469274, 0.99408284, 0.8961039 , 0.78947368,\n",
       "        0.84662577, 0.97752809, 0.84431138, 0.96078431, 0.56756757,\n",
       "        0.97222222, 0.69565217, 0.57467532, 0.77368421, 0.95238095,\n",
       "        0.75845411, 0.85875706, 0.97674419, 0.97311828, 0.84293194,\n",
       "        0.83139535, 0.81081081, 0.953125  , 0.87790698, 0.77948718,\n",
       "        0.86885246, 0.94845361, 0.85096154, 0.84848485, 0.82439024]),\n",
       " 'split7_test_score': array([0.96402878, 0.55855856, 0.55188679, 0.53745928, 0.90229885,\n",
       "        0.5227882 , 0.89932886, 0.59893048, 0.90229885, 0.80645161,\n",
       "        0.83146067, 0.92391304, 1.        , 0.88811189, 0.62698413,\n",
       "        0.83544304, 0.99411765, 0.83941606, 0.70408163, 0.593361  ,\n",
       "        0.99415205, 0.87931034, 0.98518519, 0.70042194, 0.97849462,\n",
       "        0.89261745, 0.92638037, 0.77083333, 0.98387097, 0.86805556,\n",
       "        0.89204545, 0.83448276, 0.96354167, 0.88953488, 0.84328358,\n",
       "        0.7281106 , 0.95854922, 0.78527607, 0.79111111, 0.6374502 ]),\n",
       " 'split8_test_score': array([0.96503497, 0.71910112, 0.70440252, 0.50895141, 0.93714286,\n",
       "        0.60627178, 0.59803922, 0.84042553, 0.93854749, 0.71910112,\n",
       "        0.8019802 , 0.60218978, 0.98823529, 0.8902439 , 1.        ,\n",
       "        0.86428571, 1.        , 0.89726027, 0.78378378, 0.96808511,\n",
       "        0.99421965, 0.67924528, 0.8705036 , 0.89221557, 0.97252747,\n",
       "        0.88135593, 0.93209877, 0.74271845, 0.96808511, 0.78306878,\n",
       "        0.9112426 , 0.92258065, 0.95789474, 0.89772727, 0.75539568,\n",
       "        0.88235294, 0.95811518, 0.7989418 , 0.88387097, 0.60402685]),\n",
       " 'split9_test_score': array([0.91970803, 0.85897436, 0.58695652, 0.50507614, 0.91176471,\n",
       "        0.62037037, 0.91970803, 0.76842105, 0.9127907 , 0.58675079,\n",
       "        0.58227848, 0.60424028, 1.        , 0.66831683, 0.86538462,\n",
       "        0.66079295, 1.        , 0.82653061, 0.83216783, 0.7745098 ,\n",
       "        0.98823529, 0.87596899, 0.8828125 , 0.796875  , 0.94565217,\n",
       "        0.93548387, 0.83211679, 0.88387097, 0.92553191, 0.88068182,\n",
       "        0.81188119, 0.81456954, 0.92670157, 0.89473684, 0.78431373,\n",
       "        0.80263158, 0.95187166, 0.90449438, 0.84      , 0.63636364]),\n",
       " 'mean_test_score': array([0.93951793, 0.72698343, 0.75461076, 0.57143872, 0.93004881,\n",
       "        0.71371076, 0.7907969 , 0.72535354, 0.939153  , 0.78368134,\n",
       "        0.80246005, 0.70587903, 0.99579224, 0.79313048, 0.78682912,\n",
       "        0.76738121, 0.98273896, 0.83134146, 0.80814715, 0.71202532,\n",
       "        0.9843687 , 0.79064496, 0.80263825, 0.81813494, 0.96004185,\n",
       "        0.82173764, 0.84330477, 0.80055377, 0.95895641, 0.79890608,\n",
       "        0.85889561, 0.79632855, 0.94881864, 0.84089757, 0.82141998,\n",
       "        0.78832193, 0.94867998, 0.80068397, 0.85633988, 0.73865779]),\n",
       " 'std_test_score': array([0.01748689, 0.14405731, 0.12335479, 0.08074372, 0.01855818,\n",
       "        0.14729358, 0.13313537, 0.13436825, 0.03208126, 0.12980542,\n",
       "        0.09291586, 0.15746773, 0.00466659, 0.0990628 , 0.14756075,\n",
       "        0.12377544, 0.01883568, 0.08316228, 0.08530836, 0.1476232 ,\n",
       "        0.01056626, 0.08741961, 0.11586874, 0.0867294 , 0.01900767,\n",
       "        0.07192182, 0.09988779, 0.12119042, 0.0201497 , 0.09358582,\n",
       "        0.04537062, 0.12576795, 0.01926399, 0.05994413, 0.05739257,\n",
       "        0.08269083, 0.02093932, 0.09361223, 0.04358365, 0.11154714]),\n",
       " 'rank_test_score': array([ 8, 35, 33, 40, 10, 37, 27, 36,  9, 31, 21, 39,  1, 26, 30, 32,  3,\n",
       "        15, 19, 38,  2, 28, 20, 18,  4, 16, 13, 23,  5, 24, 11, 25,  6, 14,\n",
       "        17, 29,  7, 22, 12, 34], dtype=int32),\n",
       " 'split0_train_score': array([0.94026377, 0.86864407, 0.83501259, 0.57127312, 0.92967742,\n",
       "        0.83280757, 0.73265306, 0.52986217, 1.        , 0.94458438,\n",
       "        0.73943662, 0.5637931 , 1.        , 0.64528302, 0.88764045,\n",
       "        0.79576892, 0.99484536, 0.90593047, 0.72067039, 0.8765343 ,\n",
       "        0.997426  , 0.7614841 , 0.68508287, 0.86638537, 0.97980998,\n",
       "        0.86304348, 0.83926521, 0.83371648, 0.98687351, 0.95155709,\n",
       "        0.90818859, 0.76458753, 0.98611111, 0.81835324, 0.94825356,\n",
       "        0.91067373, 0.99076746, 0.76727095, 0.925     , 0.765553  ]),\n",
       " 'split1_train_score': array([0.93615385, 0.81270537, 0.94974874, 0.81256891, 0.92857143,\n",
       "        0.88743719, 0.8150289 , 0.95100503, 0.99852399, 0.89228419,\n",
       "        0.85464581, 0.94213836, 1.        , 0.8835034 , 0.66472868,\n",
       "        0.57852152, 0.9716129 , 0.7197286 , 0.87590361, 0.56934046,\n",
       "        0.98689384, 0.87470072, 0.89280677, 0.89815628, 0.98486759,\n",
       "        0.88967287, 0.81793027, 0.72649113, 0.98850575, 0.69296014,\n",
       "        0.90056285, 0.58497317, 0.97371429, 0.87767756, 0.95171909,\n",
       "        0.69623517, 0.97840909, 0.79573843, 0.92358258, 0.91493571]),\n",
       " 'split2_train_score': array([0.94003115, 0.89615932, 0.85340909, 0.52341849, 0.92962252,\n",
       "        0.55147302, 0.9534005 , 0.55492864, 0.93193384, 0.65590259,\n",
       "        0.86202532, 0.53887315, 1.        , 0.84322508, 0.8784474 ,\n",
       "        0.84083045, 0.99349382, 0.8551797 , 0.80611354, 0.55966504,\n",
       "        0.99548387, 0.85588035, 0.76653061, 1.        , 0.95930233,\n",
       "        0.7791343 , 0.9068323 , 0.68908171, 0.96498278, 0.76046671,\n",
       "        0.79933848, 0.8912887 , 0.97758621, 0.77322134, 0.82645089,\n",
       "        0.7553693 , 0.98517674, 0.68079351, 0.87709497, 0.98090692]),\n",
       " 'split3_train_score': array([0.93754819, 0.53788374, 0.76486014, 0.74767146, 0.92879847,\n",
       "        0.57526581, 0.87261146, 0.57730084, 0.9311434 , 0.59244332,\n",
       "        0.78739316, 0.83883249, 1.        , 0.79433581, 0.80505415,\n",
       "        0.57334786, 0.98795181, 0.90410959, 0.91423813, 0.88693467,\n",
       "        0.99301144, 0.70924885, 0.87219579, 0.79416168, 0.98304058,\n",
       "        0.88803089, 0.93886463, 0.92354125, 0.99035564, 0.92697769,\n",
       "        0.90044671, 0.90822027, 0.99281007, 0.84373274, 0.90754098,\n",
       "        0.77554348, 0.99061584, 0.95367511, 0.91027155, 0.67716008]),\n",
       " 'split4_train_score': array([0.93960784, 0.87479936, 0.85121951, 0.55484784, 0.92939666,\n",
       "        0.87158145, 0.54982818, 0.80916031, 0.93107849, 0.87716263,\n",
       "        0.90233838, 0.85994398, 1.        , 0.75831636, 0.96415771,\n",
       "        0.7534912 , 0.99354422, 0.90503189, 0.83777429, 0.69945055,\n",
       "        0.99742434, 0.93705179, 0.81691036, 0.86170213, 0.97675841,\n",
       "        0.91133845, 0.86765655, 0.90909091, 0.98412698, 0.74793388,\n",
       "        0.95669291, 0.6519685 , 0.97925311, 0.95263628, 0.93454847,\n",
       "        0.86448298, 0.98131932, 0.95488722, 0.97752809, 0.75251509]),\n",
       " 'split5_train_score': array([0.93887147, 0.71679688, 0.71014493, 0.54645002, 0.93225806,\n",
       "        0.84050367, 0.79930394, 0.83838384, 0.93521488, 0.9015748 ,\n",
       "        0.86558517, 0.77309417, 1.        , 0.84767167, 0.58487713,\n",
       "        0.85322196, 0.99092677, 0.75978766, 0.85362319, 0.63701431,\n",
       "        0.99739074, 0.76511832, 0.79867675, 0.6758794 , 0.97997573,\n",
       "        0.80386543, 0.6192733 , 0.59943526, 0.9820036 , 0.75748503,\n",
       "        0.90057225, 0.91106291, 0.98988095, 0.9180602 , 0.83389602,\n",
       "        0.85724534, 0.97985032, 0.91791045, 0.88625866, 0.75257143]),\n",
       " 'split6_train_score': array([0.94090202, 0.51337987, 0.69943644, 0.50941781, 0.93192036,\n",
       "        0.86465177, 0.76034858, 0.88006757, 0.9348659 , 0.91266913,\n",
       "        0.94665605, 0.53824451, 1.        , 0.90882353, 0.8218845 ,\n",
       "        0.86147186, 0.99098519, 0.89949749, 0.97031137, 0.56109809,\n",
       "        0.99360614, 0.72248552, 0.5942623 , 0.82013933, 0.97788698,\n",
       "        0.7864184 , 0.89360394, 0.99149453, 0.97956731, 0.89824349,\n",
       "        0.85562914, 0.87215686, 0.95970488, 0.91295408, 0.82896237,\n",
       "        0.9044665 , 0.98884977, 0.91178178, 0.84565916, 0.89272944]),\n",
       " 'split7_train_score': array([0.93575851, 0.5535284 , 0.57400328, 0.55935188, 0.93376206,\n",
       "        0.52984615, 0.8878437 , 0.61079724, 0.93618379, 0.83320811,\n",
       "        0.839599  , 0.95390525, 1.        , 0.89615105, 0.74976031,\n",
       "        0.83092784, 0.99484868, 0.89527897, 0.7454324 , 0.60333333,\n",
       "        0.99615138, 0.9045323 , 0.96996753, 0.70819195, 0.97738095,\n",
       "        0.93550894, 0.95387701, 0.78470588, 0.98505678, 0.93872549,\n",
       "        0.91459528, 0.82925019, 0.98015178, 0.93933464, 0.91131757,\n",
       "        0.73692387, 0.98776937, 0.84210526, 0.82676768, 0.68068392]),\n",
       " 'split8_train_score': array([0.93555901, 0.71983914, 0.71723647, 0.50822928, 0.92935132,\n",
       "        0.60896382, 0.58346667, 0.82080201, 0.9321817 , 0.72539894,\n",
       "        0.78804961, 0.61355476, 0.99469144, 0.85308057, 0.99494949,\n",
       "        0.87034161, 1.        , 0.87699317, 0.79923761, 0.97081218,\n",
       "        0.99418229, 0.67330463, 0.91049634, 0.88341106, 0.98023471,\n",
       "        0.88580442, 0.90676796, 0.75299487, 0.98310199, 0.8348745 ,\n",
       "        0.95345745, 0.93161094, 0.97620429, 0.92390615, 0.85275081,\n",
       "        0.90383445, 0.98833139, 0.90463749, 0.90680473, 0.61702899]),\n",
       " 'split9_train_score': array([0.94044857, 0.87096774, 0.61030383, 0.50477797, 0.93209481,\n",
       "        0.66750503, 0.94259116, 0.78401728, 0.93499044, 0.58864998,\n",
       "        0.57063132, 0.61411953, 1.        , 0.71335697, 0.86333013,\n",
       "        0.69081186, 0.99422336, 0.87553648, 0.82842415, 0.81048387,\n",
       "        0.99679282, 0.89753773, 0.91005724, 0.8141382 , 0.97919217,\n",
       "        0.94841816, 0.86511628, 0.91056338, 0.98015634, 0.89908257,\n",
       "        0.86693092, 0.82630098, 0.9827381 , 0.93069307, 0.84387464,\n",
       "        0.8028169 , 0.98587404, 0.96146557, 0.91464968, 0.66336634]),\n",
       " 'mean_train_score': array([0.93851444, 0.73647039, 0.7565375 , 0.58380068, 0.93054531,\n",
       "        0.72300355, 0.78970762, 0.73563249, 0.94661164, 0.79238781,\n",
       "        0.81563604, 0.72364993, 0.99946914, 0.81437475, 0.82148299,\n",
       "        0.76487351, 0.99124321, 0.8597074 , 0.83517287, 0.71746668,\n",
       "        0.99483628, 0.81013443, 0.82169866, 0.83221654, 0.97784494,\n",
       "        0.86912353, 0.86091874, 0.81211154, 0.98247307, 0.84083066,\n",
       "        0.89564146, 0.817142  , 0.97981548, 0.88905693, 0.88393144,\n",
       "        0.82075917, 0.98569633, 0.86902658, 0.89936171, 0.76974509]),\n",
       " 'std_train_score': array([0.00197385, 0.14468728, 0.11116087, 0.10164202, 0.00169912,\n",
       "        0.14131006, 0.13099633, 0.14437936, 0.02638381, 0.13152497,\n",
       "        0.09940762, 0.15913272, 0.00159257, 0.08134284, 0.12074274,\n",
       "        0.10787548, 0.00719893, 0.06257707, 0.07061544, 0.14763993,\n",
       "        0.00307018, 0.08938442, 0.10921075, 0.08882645, 0.00661412,\n",
       "        0.05724383, 0.08987088, 0.11666346, 0.00669059, 0.08938143,\n",
       "        0.04399752, 0.11086975, 0.00882298, 0.0561526 , 0.04899789,\n",
       "        0.07376507, 0.00421714, 0.08969391, 0.04072279, 0.11512892])}"
      ]
     },
     "execution_count": 17,
     "metadata": {},
     "output_type": "execute_result"
    }
   ],
   "source": [
    "gridsearch.cv_results_"
   ]
  },
  {
   "cell_type": "code",
   "execution_count": 18,
   "metadata": {
    "scrolled": true
   },
   "outputs": [
    {
     "data": {
      "text/html": [
       "<div>\n",
       "<style scoped>\n",
       "    .dataframe tbody tr th:only-of-type {\n",
       "        vertical-align: middle;\n",
       "    }\n",
       "\n",
       "    .dataframe tbody tr th {\n",
       "        vertical-align: top;\n",
       "    }\n",
       "\n",
       "    .dataframe thead th {\n",
       "        text-align: right;\n",
       "    }\n",
       "</style>\n",
       "<table border=\"1\" class=\"dataframe\">\n",
       "  <thead>\n",
       "    <tr style=\"text-align: right;\">\n",
       "      <th></th>\n",
       "      <th>params</th>\n",
       "      <th>mean_test_score</th>\n",
       "      <th>std_test_score</th>\n",
       "      <th>rank_test_score</th>\n",
       "      <th>mean_train_score</th>\n",
       "      <th>std_train_score</th>\n",
       "    </tr>\n",
       "  </thead>\n",
       "  <tbody>\n",
       "    <tr>\n",
       "      <td>12</td>\n",
       "      <td>{'max_depth': 5, 'max_features': None}</td>\n",
       "      <td>0.995792</td>\n",
       "      <td>0.004667</td>\n",
       "      <td>1</td>\n",
       "      <td>0.999469</td>\n",
       "      <td>0.001593</td>\n",
       "    </tr>\n",
       "    <tr>\n",
       "      <td>20</td>\n",
       "      <td>{'max_depth': 7, 'max_features': None}</td>\n",
       "      <td>0.984369</td>\n",
       "      <td>0.010566</td>\n",
       "      <td>2</td>\n",
       "      <td>0.994836</td>\n",
       "      <td>0.003070</td>\n",
       "    </tr>\n",
       "    <tr>\n",
       "      <td>16</td>\n",
       "      <td>{'max_depth': 6, 'max_features': None}</td>\n",
       "      <td>0.982739</td>\n",
       "      <td>0.018836</td>\n",
       "      <td>3</td>\n",
       "      <td>0.991243</td>\n",
       "      <td>0.007199</td>\n",
       "    </tr>\n",
       "    <tr>\n",
       "      <td>24</td>\n",
       "      <td>{'max_depth': 8, 'max_features': None}</td>\n",
       "      <td>0.960042</td>\n",
       "      <td>0.019008</td>\n",
       "      <td>4</td>\n",
       "      <td>0.977845</td>\n",
       "      <td>0.006614</td>\n",
       "    </tr>\n",
       "    <tr>\n",
       "      <td>28</td>\n",
       "      <td>{'max_depth': 9, 'max_features': None}</td>\n",
       "      <td>0.958956</td>\n",
       "      <td>0.020150</td>\n",
       "      <td>5</td>\n",
       "      <td>0.982473</td>\n",
       "      <td>0.006691</td>\n",
       "    </tr>\n",
       "    <tr>\n",
       "      <td>32</td>\n",
       "      <td>{'max_depth': 10, 'max_features': None}</td>\n",
       "      <td>0.948819</td>\n",
       "      <td>0.019264</td>\n",
       "      <td>6</td>\n",
       "      <td>0.979815</td>\n",
       "      <td>0.008823</td>\n",
       "    </tr>\n",
       "    <tr>\n",
       "      <td>36</td>\n",
       "      <td>{'max_depth': 11, 'max_features': None}</td>\n",
       "      <td>0.948680</td>\n",
       "      <td>0.020939</td>\n",
       "      <td>7</td>\n",
       "      <td>0.985696</td>\n",
       "      <td>0.004217</td>\n",
       "    </tr>\n",
       "    <tr>\n",
       "      <td>0</td>\n",
       "      <td>{'max_depth': 2, 'max_features': None}</td>\n",
       "      <td>0.939518</td>\n",
       "      <td>0.017487</td>\n",
       "      <td>8</td>\n",
       "      <td>0.938514</td>\n",
       "      <td>0.001974</td>\n",
       "    </tr>\n",
       "    <tr>\n",
       "      <td>8</td>\n",
       "      <td>{'max_depth': 4, 'max_features': None}</td>\n",
       "      <td>0.939153</td>\n",
       "      <td>0.032081</td>\n",
       "      <td>9</td>\n",
       "      <td>0.946612</td>\n",
       "      <td>0.026384</td>\n",
       "    </tr>\n",
       "    <tr>\n",
       "      <td>4</td>\n",
       "      <td>{'max_depth': 3, 'max_features': None}</td>\n",
       "      <td>0.930049</td>\n",
       "      <td>0.018558</td>\n",
       "      <td>10</td>\n",
       "      <td>0.930545</td>\n",
       "      <td>0.001699</td>\n",
       "    </tr>\n",
       "  </tbody>\n",
       "</table>\n",
       "</div>"
      ],
      "text/plain": [
       "                                     params  mean_test_score  std_test_score  \\\n",
       "12   {'max_depth': 5, 'max_features': None}         0.995792        0.004667   \n",
       "20   {'max_depth': 7, 'max_features': None}         0.984369        0.010566   \n",
       "16   {'max_depth': 6, 'max_features': None}         0.982739        0.018836   \n",
       "24   {'max_depth': 8, 'max_features': None}         0.960042        0.019008   \n",
       "28   {'max_depth': 9, 'max_features': None}         0.958956        0.020150   \n",
       "32  {'max_depth': 10, 'max_features': None}         0.948819        0.019264   \n",
       "36  {'max_depth': 11, 'max_features': None}         0.948680        0.020939   \n",
       "0    {'max_depth': 2, 'max_features': None}         0.939518        0.017487   \n",
       "8    {'max_depth': 4, 'max_features': None}         0.939153        0.032081   \n",
       "4    {'max_depth': 3, 'max_features': None}         0.930049        0.018558   \n",
       "\n",
       "    rank_test_score  mean_train_score  std_train_score  \n",
       "12                1          0.999469         0.001593  \n",
       "20                2          0.994836         0.003070  \n",
       "16                3          0.991243         0.007199  \n",
       "24                4          0.977845         0.006614  \n",
       "28                5          0.982473         0.006691  \n",
       "32                6          0.979815         0.008823  \n",
       "36                7          0.985696         0.004217  \n",
       "0                 8          0.938514         0.001974  \n",
       "8                 9          0.946612         0.026384  \n",
       "4                10          0.930545         0.001699  "
      ]
     },
     "execution_count": 18,
     "metadata": {},
     "output_type": "execute_result"
    }
   ],
   "source": [
    "colums = ['params', 'mean_test_score', \n",
    "          'std_test_score', 'rank_test_score',\n",
    "          'mean_train_score', 'std_train_score']\n",
    "\n",
    "log_reg_results = pd.DataFrame(gridsearch.cv_results_)[colums]\n",
    "log_reg_results.sort_values(by = 'rank_test_score').head(10)"
   ]
  },
  {
   "cell_type": "code",
   "execution_count": 19,
   "metadata": {},
   "outputs": [
    {
     "data": {
      "text/plain": [
       "(40, 6)"
      ]
     },
     "execution_count": 19,
     "metadata": {},
     "output_type": "execute_result"
    }
   ],
   "source": [
    "log_reg_results.shape"
   ]
  },
  {
   "cell_type": "code",
   "execution_count": 20,
   "metadata": {},
   "outputs": [
    {
     "data": {
      "image/png": "[encoded data removed]",
      "text/plain": [
       "<Figure size 432x288 with 1 Axes>"
      ]
     },
     "metadata": {
      "needs_background": "light"
     },
     "output_type": "display_data"
    }
   ],
   "source": [
    "roc_test_scores = gridsearch.cv_results_['mean_test_score']\n",
    "\n",
    "roc_training_scores = gridsearch.cv_results_['mean_train_score']\n",
    "\n",
    "plt.plot(range(40), roc_test_scores, label = 'test')\n",
    "plt.plot(range(40), roc_training_scores, label = 'train')\n",
    "\n",
    "\n",
    "plt.legend()\n",
    "plt.tight_layout()"
   ]
  },
  {
   "cell_type": "code",
   "execution_count": 21,
   "metadata": {},
   "outputs": [],
   "source": [
    "tuned_clf = DecisionTreeClassifier(max_depth = 5)"
   ]
  },
  {
   "cell_type": "code",
   "execution_count": 22,
   "metadata": {},
   "outputs": [
    {
     "data": {
      "text/plain": [
       "DecisionTreeClassifier(ccp_alpha=0.0, class_weight=None, criterion='gini',\n",
       "                       max_depth=5, max_features=None, max_leaf_nodes=None,\n",
       "                       min_impurity_decrease=0.0, min_impurity_split=None,\n",
       "                       min_samples_leaf=1, min_samples_split=2,\n",
       "                       min_weight_fraction_leaf=0.0, presort='deprecated',\n",
       "                       random_state=None, splitter='best')"
      ]
     },
     "execution_count": 22,
     "metadata": {},
     "output_type": "execute_result"
    }
   ],
   "source": [
    "tuned_clf.fit(X_sm,y_sm)"
   ]
  },
  {
   "cell_type": "code",
   "execution_count": 23,
   "metadata": {},
   "outputs": [],
   "source": [
    "features2 = X_sm.columns.tolist()"
   ]
  },
  {
   "cell_type": "code",
   "execution_count": 24,
   "metadata": {},
   "outputs": [
    {
     "data": {
      "text/plain": [
       "35"
      ]
     },
     "execution_count": 24,
     "metadata": {},
     "output_type": "execute_result"
    }
   ],
   "source": [
    "tuned_clf.tree_.node_count"
   ]
  },
  {
   "cell_type": "code",
   "execution_count": 25,
   "metadata": {},
   "outputs": [
    {
     "data": {
      "text/plain": [
       "'Tuned_DTree_SMOTE.pdf'"
      ]
     },
     "execution_count": 25,
     "metadata": {},
     "output_type": "execute_result"
    }
   ],
   "source": [
    "\n",
    "dot_data = tree.export_graphviz(tuned_clf, out_file=None, \n",
    "                     feature_names=features2,  \n",
    "                     filled=True, rounded=True,  \n",
    "                     special_characters=True)  \n",
    "graph = graphviz.Source(dot_data)  \n",
    "graph.render(\"Tuned_DTree_SMOTE\")"
   ]
  },
  {
   "cell_type": "code",
   "execution_count": 26,
   "metadata": {},
   "outputs": [],
   "source": [
    "y_pred_sm = tuned_clf.predict(X_sm)"
   ]
  },
  {
   "cell_type": "code",
   "execution_count": 27,
   "metadata": {},
   "outputs": [
    {
     "name": "stdout",
     "output_type": "stream",
     "text": [
      "accuracy: 0.9157894736842105\n",
      "recall: 0.8315789473684211\n",
      "precision: 1.0\n",
      "f1: 0.9080459770114944\n"
     ]
    }
   ],
   "source": [
    "print ('accuracy:', tuned_clf.score(X_sm, y_sm))\n",
    "print ('recall:', recall_score(y_sm, y_pred_sm))\n",
    "print ('precision:', precision_score(y_sm, y_pred_sm))\n",
    "print ('f1:', f1_score(y_sm, y_pred_sm))"
   ]
  },
  {
   "cell_type": "code",
   "execution_count": 28,
   "metadata": {},
   "outputs": [],
   "source": [
    "import warnings\n",
    "import seaborn as sns\n",
    "import itertools\n",
    "import matplotlib.pyplot as plt\n",
    "%matplotlib inline\n",
    "warnings.filterwarnings('ignore')\n",
    "plt.rcParams[\"figure.figsize\"] = [10, 5]\n",
    "\n",
    "# from https://scikit-learn.org/0.18/auto_examples/model_selection/plot_confusion_matrix.html\n",
    "\n",
    "\n",
    "def plot_confusion_matrix(cm, classes,\n",
    "                          normalize=False,\n",
    "                          title='Confusion matrix',\n",
    "                          cmap=plt.cm.Blues):\n",
    "    \"\"\"\n",
    "    This function prints and plots the confusion matrix.\n",
    "    Normalization can be applied by setting `normalize=True`.\n",
    "    \"\"\"\n",
    "    if normalize:\n",
    "        cm = cm.astype('float') / cm.sum(axis=1)[:, np.newaxis]\n",
    "        print(\"Normalized confusion matrix\")\n",
    "    else:\n",
    "        print('Confusion Matrix, without normalization')\n",
    "\n",
    "    print(cm)\n",
    "\n",
    "    plt.imshow(cm, interpolation='nearest', cmap=cmap)\n",
    "    plt.title(title)\n",
    "    plt.colorbar()\n",
    "    tick_marks = np.arange(len(classes))\n",
    "    plt.xticks(tick_marks, classes, rotation=45)\n",
    "    plt.yticks(tick_marks, classes)\n",
    "\n",
    "    fmt = '.2f' if normalize else 'd'\n",
    "    thresh = cm.max() / 1\n",
    "    for i, j in itertools.product(range(cm.shape[0]), range(cm.shape[1])):\n",
    "        plt.text(j, i, format(cm[i, j], fmt),\n",
    "                 horizontalalignment=\"center\",\n",
    "                 color=\"white\" if cm[i, j] > thresh else \"black\")\n",
    "    plt.tight_layout()\n",
    "    plt.ylabel('True label')\n",
    "    plt.xlabel('Predicted label')\n"
   ]
  },
  {
   "cell_type": "code",
   "execution_count": 29,
   "metadata": {},
   "outputs": [
    {
     "name": "stdout",
     "output_type": "stream",
     "text": [
      "Confusion Matrix, without normalization\n",
      "[[1995    0]\n",
      " [ 336 1659]]\n",
      "              precision    recall  f1-score   support\n",
      "\n",
      "           0       0.86      1.00      0.92      1995\n",
      "           1       1.00      0.83      0.91      1995\n",
      "\n",
      "    accuracy                           0.92      3990\n",
      "   macro avg       0.93      0.92      0.92      3990\n",
      "weighted avg       0.93      0.92      0.92      3990\n",
      "\n"
     ]
    },
    {
     "data": {
      "image/png": "[encoded data removed]",
      "text/plain": [
       "<Figure size 720x360 with 2 Axes>"
      ]
     },
     "metadata": {
      "needs_background": "light"
     },
     "output_type": "display_data"
    }
   ],
   "source": [
    "from sklearn.metrics import confusion_matrix\n",
    "from sklearn.metrics import classification_report\n",
    "\n",
    "cm = confusion_matrix(y_sm, y_pred_sm)\n",
    "classes = ['Maintain', 'Churn']\n",
    "plot_confusion_matrix(cm, classes,\n",
    "                      normalize=False,\n",
    "                      title='Confusion matrix')\n",
    "\n",
    "#Checking performance our model with classification report.\n",
    "print(classification_report(y_sm, y_pred_sm))"
   ]
  },
  {
   "cell_type": "code",
   "execution_count": 31,
   "metadata": {},
   "outputs": [
    {
     "data": {
      "text/plain": [
       "0.9946174543043733"
      ]
     },
     "execution_count": 31,
     "metadata": {},
     "output_type": "execute_result"
    }
   ],
   "source": [
    "from sklearn.model_selection import cross_val_score\n",
    "scores = cross_val_score(tuned_clf, X_sm, y_sm, cv=5, scoring= 'precision')\n",
    "np.average(scores)"
   ]
  },
  {
   "cell_type": "code",
   "execution_count": null,
   "metadata": {},
   "outputs": [],
   "source": []
  }
 ],
 "metadata": {
  "kernelspec": {
   "display_name": "Python 3",
   "language": "python",
   "name": "python3"
  },
  "language_info": {
   "codemirror_mode": {
    "name": "ipython",
    "version": 3
   },
   "file_extension": ".py",
   "mimetype": "text/x-python",
   "name": "python",
   "nbconvert_exporter": "python",
   "pygments_lexer": "ipython3",
   "version": "3.7.4"
  }
 },
 "nbformat": 4,
 "nbformat_minor": 2
}
