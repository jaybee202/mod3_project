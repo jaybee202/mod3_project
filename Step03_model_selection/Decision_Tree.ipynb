{
 "cells": [
  {
   "cell_type": "markdown",
   "metadata": {},
   "source": [
    "### Import tools"
   ]
  },
  {
   "cell_type": "code",
   "execution_count": 40,
   "metadata": {},
   "outputs": [],
   "source": [
    "import pandas as pd\n",
    "import numpy as np\n",
    "import matplotlib.pyplot as plt\n",
    "import seaborn as sns\n",
    "import pickle\n",
    "import pandas as pd"
   ]
  },
  {
   "cell_type": "markdown",
   "metadata": {},
   "source": [
    "### Import data"
   ]
  },
  {
   "cell_type": "code",
   "execution_count": 41,
   "metadata": {},
   "outputs": [],
   "source": [
    "X_train = pd.read_csv('../data/X_train_trans.csv', index_col=0)\n",
    "\n",
    "pickle_in = open('../data/y_train.pickle', 'rb')\n",
    "y_train = pickle.load(pickle_in)"
   ]
  },
  {
   "cell_type": "markdown",
   "metadata": {},
   "source": [
    "### Decision Tree (vanilla model) with train data\n",
    "- the model overfits, all four scores (precision, recall, f1, accuracy) = 1"
   ]
  },
  {
   "cell_type": "code",
   "execution_count": 42,
   "metadata": {},
   "outputs": [],
   "source": [
    "from sklearn.tree import DecisionTreeClassifier\n",
    "clf = DecisionTreeClassifier()"
   ]
  },
  {
   "cell_type": "code",
   "execution_count": 43,
   "metadata": {},
   "outputs": [
    {
     "data": {
      "text/plain": [
       "DecisionTreeClassifier(ccp_alpha=0.0, class_weight=None, criterion='gini',\n",
       "                       max_depth=None, max_features=None, max_leaf_nodes=None,\n",
       "                       min_impurity_decrease=0.0, min_impurity_split=None,\n",
       "                       min_samples_leaf=1, min_samples_split=2,\n",
       "                       min_weight_fraction_leaf=0.0, presort='deprecated',\n",
       "                       random_state=None, splitter='best')"
      ]
     },
     "execution_count": 43,
     "metadata": {},
     "output_type": "execute_result"
    }
   ],
   "source": [
    "clf.fit(X_train,y_train)"
   ]
  },
  {
   "cell_type": "code",
   "execution_count": 44,
   "metadata": {},
   "outputs": [],
   "source": [
    "features = X_train.columns.tolist()"
   ]
  },
  {
   "cell_type": "code",
   "execution_count": 45,
   "metadata": {},
   "outputs": [
    {
     "name": "stdout",
     "output_type": "stream",
     "text": [
      "|--- total_charge <= 1.38\n",
      "|   |--- customer_service_calls <= 1.49\n",
      "|   |   |--- x1_yes <= 0.50\n",
      "|   |   |   |--- number_vmail_messages <= 1.69\n",
      "|   |   |   |   |--- total_intl_calls <= 4.11\n",
      "|   |   |   |   |   |--- total_eve_charge <= -0.64\n",
      "|   |   |   |   |   |   |--- number_vmail_messages <= 1.55\n",
      "|   |   |   |   |   |   |   |--- account_length <= 2.26\n",
      "|   |   |   |   |   |   |   |   |--- total_day_calls <= -1.55\n",
      "|   |   |   |   |   |   |   |   |   |--- account_length <= 1.43\n",
      "|   |   |   |   |   |   |   |   |   |   |--- class: 0\n",
      "|   |   |   |   |   |   |   |   |   |--- account_length >  1.43\n",
      "|   |   |   |   |   |   |   |   |   |   |--- class: 1\n",
      "|   |   |   |   |   |   |   |   |--- total_day_calls >  -1.55\n",
      "|   |   |   |   |   |   |   |   |   |--- total_day_charge <= 1.11\n",
      "|   |   |   |   |   |   |   |   |   |   |--- class: 0\n",
      "|   |   |   |   |   |   |   |   |   |--- total_day_charge >  1.11\n",
      "|   |   |   |   |   |   |   |   |   |   |--- total_day_minutes <= 1.12\n",
      "|   |   |   |   |   |   |   |   |   |   |   |--- class: 1\n",
      "|   |   |   |   |   |   |   |   |   |   |--- total_day_minutes >  1.12\n",
      "|   |   |   |   |   |   |   |   |   |   |   |--- class: 0\n",
      "|   |   |   |   |   |   |   |--- account_length >  2.26\n",
      "|   |   |   |   |   |   |   |   |--- account_length <= 2.39\n",
      "|   |   |   |   |   |   |   |   |   |--- class: 1\n",
      "|   |   |   |   |   |   |   |   |--- account_length >  2.39\n",
      "|   |   |   |   |   |   |   |   |   |--- class: 0\n",
      "|   |   |   |   |   |   |--- number_vmail_messages >  1.55\n",
      "|   |   |   |   |   |   |   |--- total_eve_calls <= -0.62\n",
      "|   |   |   |   |   |   |   |   |--- class: 1\n",
      "|   |   |   |   |   |   |   |--- total_eve_calls >  -0.62\n",
      "|   |   |   |   |   |   |   |   |--- class: 0\n",
      "|   |   |   |   |   |--- total_eve_charge >  -0.64\n",
      "|   |   |   |   |   |   |--- total_eve_minutes <= -0.63\n",
      "|   |   |   |   |   |   |   |--- total_intl_charge <= -0.32\n",
      "|   |   |   |   |   |   |   |   |--- total_day_calls <= 0.52\n",
      "|   |   |   |   |   |   |   |   |   |--- class: 1\n",
      "|   |   |   |   |   |   |   |   |--- total_day_calls >  0.52\n",
      "|   |   |   |   |   |   |   |   |   |--- class: 0\n",
      "|   |   |   |   |   |   |   |--- total_intl_charge >  -0.32\n",
      "|   |   |   |   |   |   |   |   |--- class: 0\n",
      "|   |   |   |   |   |   |--- total_eve_minutes >  -0.63\n",
      "|   |   |   |   |   |   |   |--- total_eve_charge <= 1.19\n",
      "|   |   |   |   |   |   |   |   |--- total_eve_minutes <= 1.16\n",
      "|   |   |   |   |   |   |   |   |   |--- total_intl_minutes <= 1.75\n",
      "|   |   |   |   |   |   |   |   |   |   |--- total_day_calls <= 2.30\n",
      "|   |   |   |   |   |   |   |   |   |   |   |--- truncated branch of depth 13\n",
      "|   |   |   |   |   |   |   |   |   |   |--- total_day_calls >  2.30\n",
      "|   |   |   |   |   |   |   |   |   |   |   |--- truncated branch of depth 2\n",
      "|   |   |   |   |   |   |   |   |   |--- total_intl_minutes >  1.75\n",
      "|   |   |   |   |   |   |   |   |   |   |--- total_night_calls <= 0.37\n",
      "|   |   |   |   |   |   |   |   |   |   |   |--- class: 0\n",
      "|   |   |   |   |   |   |   |   |   |   |--- total_night_calls >  0.37\n",
      "|   |   |   |   |   |   |   |   |   |   |   |--- truncated branch of depth 3\n",
      "|   |   |   |   |   |   |   |   |--- total_eve_minutes >  1.16\n",
      "|   |   |   |   |   |   |   |   |   |--- total_charge <= 0.78\n",
      "|   |   |   |   |   |   |   |   |   |   |--- class: 0\n",
      "|   |   |   |   |   |   |   |   |   |--- total_charge >  0.78\n",
      "|   |   |   |   |   |   |   |   |   |   |--- class: 1\n",
      "|   |   |   |   |   |   |   |--- total_eve_charge >  1.19\n",
      "|   |   |   |   |   |   |   |   |--- class: 0\n",
      "|   |   |   |   |--- total_intl_calls >  4.11\n",
      "|   |   |   |   |   |--- account_length <= -0.20\n",
      "|   |   |   |   |   |   |--- class: 1\n",
      "|   |   |   |   |   |--- account_length >  -0.20\n",
      "|   |   |   |   |   |   |--- class: 0\n",
      "|   |   |   |--- number_vmail_messages >  1.69\n",
      "|   |   |   |   |--- total_eve_calls <= -0.09\n",
      "|   |   |   |   |   |--- class: 0\n",
      "|   |   |   |   |--- total_eve_calls >  -0.09\n",
      "|   |   |   |   |   |--- customer_service_calls <= -0.04\n",
      "|   |   |   |   |   |   |--- total_night_calls <= 1.35\n",
      "|   |   |   |   |   |   |   |--- total_intl_minutes <= 1.13\n",
      "|   |   |   |   |   |   |   |   |--- class: 0\n",
      "|   |   |   |   |   |   |   |--- total_intl_minutes >  1.13\n",
      "|   |   |   |   |   |   |   |   |--- total_intl_minutes <= 1.24\n",
      "|   |   |   |   |   |   |   |   |   |--- class: 1\n",
      "|   |   |   |   |   |   |   |   |--- total_intl_minutes >  1.24\n",
      "|   |   |   |   |   |   |   |   |   |--- class: 0\n",
      "|   |   |   |   |   |   |--- total_night_calls >  1.35\n",
      "|   |   |   |   |   |   |   |--- total_eve_charge <= -0.80\n",
      "|   |   |   |   |   |   |   |   |--- class: 0\n",
      "|   |   |   |   |   |   |   |--- total_eve_charge >  -0.80\n",
      "|   |   |   |   |   |   |   |   |--- class: 1\n",
      "|   |   |   |   |   |--- customer_service_calls >  -0.04\n",
      "|   |   |   |   |   |   |--- total_eve_calls <= 0.01\n",
      "|   |   |   |   |   |   |   |--- total_night_minutes <= 0.47\n",
      "|   |   |   |   |   |   |   |   |--- class: 1\n",
      "|   |   |   |   |   |   |   |--- total_night_minutes >  0.47\n",
      "|   |   |   |   |   |   |   |   |--- class: 0\n",
      "|   |   |   |   |   |   |--- total_eve_calls >  0.01\n",
      "|   |   |   |   |   |   |   |--- total_minutes <= 0.77\n",
      "|   |   |   |   |   |   |   |   |--- total_eve_minutes <= 1.43\n",
      "|   |   |   |   |   |   |   |   |   |--- total_intl_charge <= 1.24\n",
      "|   |   |   |   |   |   |   |   |   |   |--- class: 0\n",
      "|   |   |   |   |   |   |   |   |   |--- total_intl_charge >  1.24\n",
      "|   |   |   |   |   |   |   |   |   |   |--- x0_415 <= 0.50\n",
      "|   |   |   |   |   |   |   |   |   |   |   |--- class: 1\n",
      "|   |   |   |   |   |   |   |   |   |   |--- x0_415 >  0.50\n",
      "|   |   |   |   |   |   |   |   |   |   |   |--- class: 0\n",
      "|   |   |   |   |   |   |   |   |--- total_eve_minutes >  1.43\n",
      "|   |   |   |   |   |   |   |   |   |--- class: 1\n",
      "|   |   |   |   |   |   |   |--- total_minutes >  0.77\n",
      "|   |   |   |   |   |   |   |   |--- total_calls <= 0.37\n",
      "|   |   |   |   |   |   |   |   |   |--- class: 0\n",
      "|   |   |   |   |   |   |   |   |--- total_calls >  0.37\n",
      "|   |   |   |   |   |   |   |   |   |--- total_night_calls <= 0.19\n",
      "|   |   |   |   |   |   |   |   |   |   |--- total_minutes <= 1.08\n",
      "|   |   |   |   |   |   |   |   |   |   |   |--- class: 1\n",
      "|   |   |   |   |   |   |   |   |   |   |--- total_minutes >  1.08\n",
      "|   |   |   |   |   |   |   |   |   |   |   |--- class: 0\n",
      "|   |   |   |   |   |   |   |   |   |--- total_night_calls >  0.19\n",
      "|   |   |   |   |   |   |   |   |   |   |--- class: 0\n",
      "|   |   |--- x1_yes >  0.50\n",
      "|   |   |   |--- total_intl_charge <= 1.00\n",
      "|   |   |   |   |--- total_intl_calls <= -0.80\n",
      "|   |   |   |   |   |--- class: 1\n",
      "|   |   |   |   |--- total_intl_calls >  -0.80\n",
      "|   |   |   |   |   |--- total_night_minutes <= -2.36\n",
      "|   |   |   |   |   |   |--- class: 1\n",
      "|   |   |   |   |   |--- total_night_minutes >  -2.36\n",
      "|   |   |   |   |   |   |--- class: 0\n",
      "|   |   |   |--- total_intl_charge >  1.00\n",
      "|   |   |   |   |--- class: 1\n",
      "|   |--- customer_service_calls >  1.49\n",
      "|   |   |--- total_charge <= -0.25\n",
      "|   |   |   |--- class: 1\n",
      "|   |   |--- total_charge >  -0.25\n",
      "|   |   |   |--- customer_service_calls <= 5.31\n",
      "|   |   |   |   |--- total_eve_minutes <= 1.82\n",
      "|   |   |   |   |   |--- total_day_calls <= 1.66\n",
      "|   |   |   |   |   |   |--- class: 0\n",
      "|   |   |   |   |   |--- total_day_calls >  1.66\n",
      "|   |   |   |   |   |   |--- x2_yes <= 0.50\n",
      "|   |   |   |   |   |   |   |--- class: 1\n",
      "|   |   |   |   |   |   |--- x2_yes >  0.50\n",
      "|   |   |   |   |   |   |   |--- class: 0\n",
      "|   |   |   |   |--- total_eve_minutes >  1.82\n",
      "|   |   |   |   |   |--- total_eve_charge <= 1.86\n",
      "|   |   |   |   |   |   |--- class: 1\n",
      "|   |   |   |   |   |--- total_eve_charge >  1.86\n",
      "|   |   |   |   |   |   |--- class: 0\n",
      "|   |   |   |--- customer_service_calls >  5.31\n",
      "|   |   |   |   |--- class: 1\n",
      "|--- total_charge >  1.38\n",
      "|   |--- x2_yes <= 0.50\n",
      "|   |   |--- class: 1\n",
      "|   |--- x2_yes >  0.50\n",
      "|   |   |--- x1_yes <= 0.50\n",
      "|   |   |   |--- class: 0\n",
      "|   |   |--- x1_yes >  0.50\n",
      "|   |   |   |--- account_length <= 0.03\n",
      "|   |   |   |   |--- total_night_calls <= -0.66\n",
      "|   |   |   |   |   |--- class: 1\n",
      "|   |   |   |   |--- total_night_calls >  -0.66\n",
      "|   |   |   |   |   |--- class: 0\n",
      "|   |   |   |--- account_length >  0.03\n",
      "|   |   |   |   |--- class: 1\n",
      "\n"
     ]
    }
   ],
   "source": [
    "from sklearn.tree.export import export_text\n",
    "\n",
    "r = export_text(clf, feature_names= features)\n",
    "print(r)"
   ]
  },
  {
   "cell_type": "code",
   "execution_count": 46,
   "metadata": {},
   "outputs": [
    {
     "data": {
      "text/plain": [
       "211"
      ]
     },
     "execution_count": 46,
     "metadata": {},
     "output_type": "execute_result"
    }
   ],
   "source": [
    "clf.tree_.node_count"
   ]
  },
  {
   "cell_type": "code",
   "execution_count": 47,
   "metadata": {
    "scrolled": true
   },
   "outputs": [
    {
     "data": {
      "text/plain": [
       "'Churn_DTree_Vanilla.pdf'"
      ]
     },
     "execution_count": 47,
     "metadata": {},
     "output_type": "execute_result"
    }
   ],
   "source": [
    "import graphviz \n",
    "from sklearn import tree\n",
    "dot_data = tree.export_graphviz(clf, out_file=None, \n",
    "                     feature_names=features,  \n",
    "                     filled=True, rounded=True,  \n",
    "                     special_characters=True)  \n",
    "graph = graphviz.Source(dot_data)  \n",
    "graph.render(\"Churn_DTree_Vanilla\")"
   ]
  },
  {
   "cell_type": "code",
   "execution_count": 48,
   "metadata": {},
   "outputs": [],
   "source": [
    "y_pred = clf.predict(X_train)"
   ]
  },
  {
   "cell_type": "code",
   "execution_count": 49,
   "metadata": {},
   "outputs": [],
   "source": [
    "from sklearn.metrics import recall_score\n",
    "from sklearn.metrics import precision_score\n",
    "from sklearn.metrics import f1_score"
   ]
  },
  {
   "cell_type": "code",
   "execution_count": 50,
   "metadata": {},
   "outputs": [
    {
     "name": "stdout",
     "output_type": "stream",
     "text": [
      "accuracy score: 1.0\n",
      "recall: 1.0\n",
      "precision: 1.0\n",
      "f1: 1.0\n"
     ]
    }
   ],
   "source": [
    "from sklearn.metrics import recall_score\n",
    "from sklearn.metrics import precision_score\n",
    "from sklearn.metrics import f1_score\n",
    "print ('accuracy score:', clf.score(X_train, y_train))\n",
    "print ('recall:', recall_score(y_train, y_pred))\n",
    "print ('precision:', precision_score(y_train, y_pred))\n",
    "print ('f1:', f1_score(y_train, y_pred))"
   ]
  },
  {
   "cell_type": "markdown",
   "metadata": {},
   "source": [
    "#### Cross Validation"
   ]
  },
  {
   "cell_type": "code",
   "execution_count": 51,
   "metadata": {},
   "outputs": [],
   "source": [
    "from sklearn.model_selection import cross_val_score\n",
    "scores = cross_val_score(clf, X_train, y_train, cv=5, scoring= 'precision')"
   ]
  },
  {
   "cell_type": "code",
   "execution_count": 52,
   "metadata": {
    "scrolled": true
   },
   "outputs": [
    {
     "data": {
      "text/plain": [
       "0.797744942764707"
      ]
     },
     "execution_count": 52,
     "metadata": {},
     "output_type": "execute_result"
    }
   ],
   "source": [
    "np.average(scores)"
   ]
  },
  {
   "cell_type": "markdown",
   "metadata": {},
   "source": [
    "### Hyperparameter with Gridsearch\n",
    "- The best value for max_depth is 2 and max_features is None"
   ]
  },
  {
   "cell_type": "code",
   "execution_count": 53,
   "metadata": {},
   "outputs": [],
   "source": [
    "from sklearn.model_selection import GridSearchCV"
   ]
  },
  {
   "cell_type": "code",
   "execution_count": 54,
   "metadata": {},
   "outputs": [
    {
     "name": "stdout",
     "output_type": "stream",
     "text": [
      "Fitting 10 folds for each of 40 candidates, totalling 400 fits\n"
     ]
    },
    {
     "name": "stderr",
     "output_type": "stream",
     "text": [
      "[Parallel(n_jobs=-1)]: Using backend LokyBackend with 12 concurrent workers.\n",
      "[Parallel(n_jobs=-1)]: Done  26 tasks      | elapsed:    2.1s\n",
      "[Parallel(n_jobs=-1)]: Done 400 out of 400 | elapsed:    3.0s finished\n"
     ]
    }
   ],
   "source": [
    "from sklearn.model_selection import GridSearchCV\n",
    "tree_clf = DecisionTreeClassifier()\n",
    "\n",
    "max_depth_params = range(2, 12)\n",
    "\n",
    "max_features_param = [None, 'auto', 'sqrt', 'log2']\n",
    "\n",
    "param_grid = {'max_depth': max_depth_params, 'max_features': max_features_param}\n",
    "\n",
    "gridsearch = GridSearchCV(estimator = tree_clf, \n",
    "                          param_grid = param_grid,\n",
    "                          n_jobs = -1, #parallel computation\n",
    "                          verbose = 1, #give feedback\n",
    "                          cv = 10, #cross-validate 10 times\n",
    "                          scoring = 'precision', #can use multiple scoring  , recall, precision..ect\n",
    "                          return_train_score= True)\n",
    "\n",
    "gridsearch = gridsearch.fit(X_train, y_train)"
   ]
  },
  {
   "cell_type": "code",
   "execution_count": 55,
   "metadata": {},
   "outputs": [
    {
     "data": {
      "text/plain": [
       "DecisionTreeClassifier(ccp_alpha=0.0, class_weight=None, criterion='gini',\n",
       "                       max_depth=2, max_features=None, max_leaf_nodes=None,\n",
       "                       min_impurity_decrease=0.0, min_impurity_split=None,\n",
       "                       min_samples_leaf=1, min_samples_split=2,\n",
       "                       min_weight_fraction_leaf=0.0, presort='deprecated',\n",
       "                       random_state=None, splitter='best')"
      ]
     },
     "execution_count": 55,
     "metadata": {},
     "output_type": "execute_result"
    }
   ],
   "source": [
    "gridsearch.best_estimator_"
   ]
  },
  {
   "cell_type": "code",
   "execution_count": 56,
   "metadata": {},
   "outputs": [
    {
     "data": {
      "text/plain": [
       "1.0"
      ]
     },
     "execution_count": 56,
     "metadata": {},
     "output_type": "execute_result"
    }
   ],
   "source": [
    "gridsearch.best_score_"
   ]
  },
  {
   "cell_type": "code",
   "execution_count": 57,
   "metadata": {},
   "outputs": [],
   "source": [
    "gridsearch.cv_results_;"
   ]
  },
  {
   "cell_type": "code",
   "execution_count": 58,
   "metadata": {
    "scrolled": true
   },
   "outputs": [
    {
     "data": {
      "text/html": [
       "<div>\n",
       "<style scoped>\n",
       "    .dataframe tbody tr th:only-of-type {\n",
       "        vertical-align: middle;\n",
       "    }\n",
       "\n",
       "    .dataframe tbody tr th {\n",
       "        vertical-align: top;\n",
       "    }\n",
       "\n",
       "    .dataframe thead th {\n",
       "        text-align: right;\n",
       "    }\n",
       "</style>\n",
       "<table border=\"1\" class=\"dataframe\">\n",
       "  <thead>\n",
       "    <tr style=\"text-align: right;\">\n",
       "      <th></th>\n",
       "      <th>params</th>\n",
       "      <th>mean_test_score</th>\n",
       "      <th>std_test_score</th>\n",
       "      <th>rank_test_score</th>\n",
       "      <th>mean_train_score</th>\n",
       "      <th>std_train_score</th>\n",
       "    </tr>\n",
       "  </thead>\n",
       "  <tbody>\n",
       "    <tr>\n",
       "      <td>0</td>\n",
       "      <td>{'max_depth': 2, 'max_features': None}</td>\n",
       "      <td>1.000000</td>\n",
       "      <td>0.000000</td>\n",
       "      <td>1</td>\n",
       "      <td>1.000000</td>\n",
       "      <td>0.000000</td>\n",
       "    </tr>\n",
       "    <tr>\n",
       "      <td>8</td>\n",
       "      <td>{'max_depth': 4, 'max_features': None}</td>\n",
       "      <td>0.985413</td>\n",
       "      <td>0.024392</td>\n",
       "      <td>2</td>\n",
       "      <td>1.000000</td>\n",
       "      <td>0.000000</td>\n",
       "    </tr>\n",
       "    <tr>\n",
       "      <td>4</td>\n",
       "      <td>{'max_depth': 3, 'max_features': None}</td>\n",
       "      <td>0.983833</td>\n",
       "      <td>0.026688</td>\n",
       "      <td>3</td>\n",
       "      <td>0.986503</td>\n",
       "      <td>0.002204</td>\n",
       "    </tr>\n",
       "    <tr>\n",
       "      <td>12</td>\n",
       "      <td>{'max_depth': 5, 'max_features': None}</td>\n",
       "      <td>0.983197</td>\n",
       "      <td>0.022824</td>\n",
       "      <td>4</td>\n",
       "      <td>1.000000</td>\n",
       "      <td>0.000000</td>\n",
       "    </tr>\n",
       "    <tr>\n",
       "      <td>16</td>\n",
       "      <td>{'max_depth': 6, 'max_features': None}</td>\n",
       "      <td>0.970784</td>\n",
       "      <td>0.030091</td>\n",
       "      <td>5</td>\n",
       "      <td>0.999244</td>\n",
       "      <td>0.001512</td>\n",
       "    </tr>\n",
       "    <tr>\n",
       "      <td>20</td>\n",
       "      <td>{'max_depth': 7, 'max_features': None}</td>\n",
       "      <td>0.954648</td>\n",
       "      <td>0.035324</td>\n",
       "      <td>6</td>\n",
       "      <td>0.997378</td>\n",
       "      <td>0.003343</td>\n",
       "    </tr>\n",
       "    <tr>\n",
       "      <td>24</td>\n",
       "      <td>{'max_depth': 8, 'max_features': None}</td>\n",
       "      <td>0.936378</td>\n",
       "      <td>0.043100</td>\n",
       "      <td>7</td>\n",
       "      <td>0.997780</td>\n",
       "      <td>0.002952</td>\n",
       "    </tr>\n",
       "    <tr>\n",
       "      <td>28</td>\n",
       "      <td>{'max_depth': 9, 'max_features': None}</td>\n",
       "      <td>0.921096</td>\n",
       "      <td>0.041302</td>\n",
       "      <td>8</td>\n",
       "      <td>0.996723</td>\n",
       "      <td>0.003442</td>\n",
       "    </tr>\n",
       "    <tr>\n",
       "      <td>21</td>\n",
       "      <td>{'max_depth': 7, 'max_features': 'auto'}</td>\n",
       "      <td>0.913338</td>\n",
       "      <td>0.055211</td>\n",
       "      <td>9</td>\n",
       "      <td>0.977773</td>\n",
       "      <td>0.017060</td>\n",
       "    </tr>\n",
       "    <tr>\n",
       "      <td>32</td>\n",
       "      <td>{'max_depth': 10, 'max_features': None}</td>\n",
       "      <td>0.898249</td>\n",
       "      <td>0.052589</td>\n",
       "      <td>10</td>\n",
       "      <td>0.998224</td>\n",
       "      <td>0.002381</td>\n",
       "    </tr>\n",
       "  </tbody>\n",
       "</table>\n",
       "</div>"
      ],
      "text/plain": [
       "                                      params  mean_test_score  std_test_score  \\\n",
       "0     {'max_depth': 2, 'max_features': None}         1.000000        0.000000   \n",
       "8     {'max_depth': 4, 'max_features': None}         0.985413        0.024392   \n",
       "4     {'max_depth': 3, 'max_features': None}         0.983833        0.026688   \n",
       "12    {'max_depth': 5, 'max_features': None}         0.983197        0.022824   \n",
       "16    {'max_depth': 6, 'max_features': None}         0.970784        0.030091   \n",
       "20    {'max_depth': 7, 'max_features': None}         0.954648        0.035324   \n",
       "24    {'max_depth': 8, 'max_features': None}         0.936378        0.043100   \n",
       "28    {'max_depth': 9, 'max_features': None}         0.921096        0.041302   \n",
       "21  {'max_depth': 7, 'max_features': 'auto'}         0.913338        0.055211   \n",
       "32   {'max_depth': 10, 'max_features': None}         0.898249        0.052589   \n",
       "\n",
       "    rank_test_score  mean_train_score  std_train_score  \n",
       "0                 1          1.000000         0.000000  \n",
       "8                 2          1.000000         0.000000  \n",
       "4                 3          0.986503         0.002204  \n",
       "12                4          1.000000         0.000000  \n",
       "16                5          0.999244         0.001512  \n",
       "20                6          0.997378         0.003343  \n",
       "24                7          0.997780         0.002952  \n",
       "28                8          0.996723         0.003442  \n",
       "21                9          0.977773         0.017060  \n",
       "32               10          0.998224         0.002381  "
      ]
     },
     "execution_count": 58,
     "metadata": {},
     "output_type": "execute_result"
    }
   ],
   "source": [
    "colums = ['params', 'mean_test_score', \n",
    "          'std_test_score', 'rank_test_score',\n",
    "          'mean_train_score', 'std_train_score']\n",
    "\n",
    "results = pd.DataFrame(gridsearch.cv_results_)[colums]\n",
    "results.sort_values(by = 'rank_test_score').head(10)"
   ]
  },
  {
   "cell_type": "code",
   "execution_count": 59,
   "metadata": {},
   "outputs": [],
   "source": [
    "tuned_clf = DecisionTreeClassifier(max_depth = 2)"
   ]
  },
  {
   "cell_type": "code",
   "execution_count": 60,
   "metadata": {},
   "outputs": [
    {
     "data": {
      "text/plain": [
       "DecisionTreeClassifier(ccp_alpha=0.0, class_weight=None, criterion='gini',\n",
       "                       max_depth=2, max_features=None, max_leaf_nodes=None,\n",
       "                       min_impurity_decrease=0.0, min_impurity_split=None,\n",
       "                       min_samples_leaf=1, min_samples_split=2,\n",
       "                       min_weight_fraction_leaf=0.0, presort='deprecated',\n",
       "                       random_state=None, splitter='best')"
      ]
     },
     "execution_count": 60,
     "metadata": {},
     "output_type": "execute_result"
    }
   ],
   "source": [
    "tuned_clf.fit(X_train,y_train)"
   ]
  },
  {
   "cell_type": "code",
   "execution_count": 61,
   "metadata": {},
   "outputs": [],
   "source": [
    "features2 = X_train.columns.tolist()"
   ]
  },
  {
   "cell_type": "code",
   "execution_count": 62,
   "metadata": {},
   "outputs": [
    {
     "data": {
      "text/plain": [
       "7"
      ]
     },
     "execution_count": 62,
     "metadata": {},
     "output_type": "execute_result"
    }
   ],
   "source": [
    "tuned_clf.tree_.node_count"
   ]
  },
  {
   "cell_type": "code",
   "execution_count": 63,
   "metadata": {},
   "outputs": [
    {
     "data": {
      "text/plain": [
       "'Tuned_DTree1.pdf'"
      ]
     },
     "execution_count": 63,
     "metadata": {},
     "output_type": "execute_result"
    }
   ],
   "source": [
    "\n",
    "dot_data = tree.export_graphviz(tuned_clf, out_file=None, \n",
    "                     feature_names=features2,  \n",
    "                     filled=True, rounded=True,  \n",
    "                     special_characters=True)  \n",
    "graph = graphviz.Source(dot_data)  \n",
    "graph.render(\"Tuned_DTree1\")"
   ]
  },
  {
   "cell_type": "code",
   "execution_count": 64,
   "metadata": {},
   "outputs": [],
   "source": [
    "y_pred = tuned_clf.predict(X_train)"
   ]
  },
  {
   "cell_type": "code",
   "execution_count": 65,
   "metadata": {},
   "outputs": [
    {
     "name": "stdout",
     "output_type": "stream",
     "text": [
      "accuracy: 0.9134162023146164\n",
      "recall: 0.40236686390532544\n",
      "precision: 1.0\n",
      "f1: 0.5738396624472574\n"
     ]
    }
   ],
   "source": [
    "print ('accuracy:', tuned_clf.score(X_train, y_train))\n",
    "print ('recall:', recall_score(y_train, y_pred))\n",
    "print ('precision:', precision_score(y_train, y_pred))\n",
    "print ('f1:', f1_score(y_train, y_pred))"
   ]
  },
  {
   "cell_type": "code",
   "execution_count": 66,
   "metadata": {},
   "outputs": [],
   "source": [
    "import warnings\n",
    "import seaborn as sns\n",
    "import itertools\n",
    "import matplotlib.pyplot as plt\n",
    "%matplotlib inline\n",
    "warnings.filterwarnings('ignore')\n",
    "plt.rcParams[\"figure.figsize\"] = [10, 5]\n",
    "\n",
    "# from https://scikit-learn.org/0.18/auto_examples/model_selection/plot_confusion_matrix.html\n",
    "\n",
    "\n",
    "def plot_confusion_matrix(cm, classes,\n",
    "                          normalize=False,\n",
    "                          title='Confusion matrix',\n",
    "                          cmap=plt.cm.Blues):\n",
    "    \"\"\"\n",
    "    This function prints and plots the confusion matrix.\n",
    "    Normalization can be applied by setting `normalize=True`.\n",
    "    \"\"\"\n",
    "    if normalize:\n",
    "        cm = cm.astype('float') / cm.sum(axis=1)[:, np.newaxis]\n",
    "        print(\"Normalized confusion matrix\")\n",
    "    else:\n",
    "        print('Confusion Matrix, without normalization')\n",
    "\n",
    "    print(cm)\n",
    "\n",
    "    plt.imshow(cm, interpolation='nearest', cmap=cmap)\n",
    "    plt.title(title)\n",
    "    plt.colorbar()\n",
    "    tick_marks = np.arange(len(classes))\n",
    "    plt.xticks(tick_marks, classes, rotation=45)\n",
    "    plt.yticks(tick_marks, classes)\n",
    "\n",
    "    fmt = '.2f' if normalize else 'd'\n",
    "    thresh = cm.max() / 1\n",
    "    for i, j in itertools.product(range(cm.shape[0]), range(cm.shape[1])):\n",
    "        plt.text(j, i, format(cm[i, j], fmt),\n",
    "                 horizontalalignment=\"center\",\n",
    "                 color=\"white\" if cm[i, j] > thresh else \"black\")\n",
    "    plt.tight_layout()\n",
    "    plt.ylabel('True label')\n",
    "    plt.xlabel('Predicted label')\n"
   ]
  },
  {
   "cell_type": "code",
   "execution_count": 67,
   "metadata": {},
   "outputs": [
    {
     "name": "stdout",
     "output_type": "stream",
     "text": [
      "Confusion Matrix, without normalization\n",
      "[[1995    0]\n",
      " [ 202  136]]\n",
      "              precision    recall  f1-score   support\n",
      "\n",
      "           0       0.91      1.00      0.95      1995\n",
      "           1       1.00      0.40      0.57       338\n",
      "\n",
      "    accuracy                           0.91      2333\n",
      "   macro avg       0.95      0.70      0.76      2333\n",
      "weighted avg       0.92      0.91      0.90      2333\n",
      "\n"
     ]
    },
    {
     "data": {
      "image/png": "[encoded data removed]",
      "text/plain": [
       "<Figure size 720x360 with 2 Axes>"
      ]
     },
     "metadata": {
      "needs_background": "light"
     },
     "output_type": "display_data"
    }
   ],
   "source": [
    "from sklearn.metrics import confusion_matrix\n",
    "from sklearn.metrics import classification_report\n",
    "\n",
    "cm = confusion_matrix(y_train, y_pred)\n",
    "classes = ['Maintain', 'Churn']\n",
    "plot_confusion_matrix(cm, classes,\n",
    "                      normalize=False,\n",
    "                      title='Confusion matrix')\n",
    "\n",
    "#Checking performance our model with classification report.\n",
    "print(classification_report(y_train, y_pred))"
   ]
  },
  {
   "cell_type": "code",
   "execution_count": 68,
   "metadata": {},
   "outputs": [
    {
     "data": {
      "text/plain": [
       "1.0"
      ]
     },
     "execution_count": 68,
     "metadata": {},
     "output_type": "execute_result"
    }
   ],
   "source": [
    "from sklearn.model_selection import cross_val_score\n",
    "scores = cross_val_score(tuned_clf, X_train, y_train, cv=5, scoring= 'precision')\n",
    "np.average(scores)"
   ]
  }
 ],
 "metadata": {
  "kernelspec": {
   "display_name": "Python 3",
   "language": "python",
   "name": "python3"
  },
  "language_info": {
   "codemirror_mode": {
    "name": "ipython",
    "version": 3
   },
   "file_extension": ".py",
   "mimetype": "text/x-python",
   "name": "python",
   "nbconvert_exporter": "python",
   "pygments_lexer": "ipython3",
   "version": "3.7.4"
  }
 },
 "nbformat": 4,
 "nbformat_minor": 2
}
