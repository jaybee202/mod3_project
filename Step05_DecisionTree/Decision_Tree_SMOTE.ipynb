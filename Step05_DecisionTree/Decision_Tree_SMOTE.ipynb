{
 "cells": [
  {
   "cell_type": "code",
   "execution_count": 2,
   "metadata": {},
   "outputs": [],
   "source": [
    "import pickle\n",
    "import pandas as pd\n",
    "X_train = pd.read_csv('../data/X_train_trans.csv', index_col=0)\n",
    "pickle_in = open('../data/y_train.pickle', 'rb')\n",
    "y_train = pickle.load(pickle_in)\n",
    "\n",
    "\n",
    "import pandas as pd\n",
    "import numpy as np\n",
    "import matplotlib.pyplot as plt\n",
    "import seaborn as sns\n",
    "from imblearn.over_sampling import SMOTENC"
   ]
  },
  {
   "cell_type": "code",
   "execution_count": 3,
   "metadata": {},
   "outputs": [],
   "source": [
    "list(enumerate(X_train.columns.tolist()));\n",
    "categoricals = list(range(18, len(X_train.columns)))"
   ]
  },
  {
   "cell_type": "code",
   "execution_count": 4,
   "metadata": {},
   "outputs": [],
   "source": [
    "sm = SMOTENC(random_state=3, categorical_features=categoricals)\n",
    "X_sm, y_sm = sm.fit_resample(X_train, y_train)"
   ]
  },
  {
   "cell_type": "code",
   "execution_count": 5,
   "metadata": {},
   "outputs": [],
   "source": [
    "from sklearn.tree import DecisionTreeClassifier\n",
    "clf = DecisionTreeClassifier()"
   ]
  },
  {
   "cell_type": "code",
   "execution_count": 6,
   "metadata": {},
   "outputs": [
    {
     "data": {
      "text/plain": [
       "DecisionTreeClassifier(ccp_alpha=0.0, class_weight=None, criterion='gini',\n",
       "                       max_depth=None, max_features=None, max_leaf_nodes=None,\n",
       "                       min_impurity_decrease=0.0, min_impurity_split=None,\n",
       "                       min_samples_leaf=1, min_samples_split=2,\n",
       "                       min_weight_fraction_leaf=0.0, presort='deprecated',\n",
       "                       random_state=None, splitter='best')"
      ]
     },
     "execution_count": 6,
     "metadata": {},
     "output_type": "execute_result"
    }
   ],
   "source": [
    "clf.fit(X_sm,y_sm)"
   ]
  },
  {
   "cell_type": "code",
   "execution_count": 7,
   "metadata": {},
   "outputs": [],
   "source": [
    "features = X_sm.columns.tolist()"
   ]
  },
  {
   "cell_type": "code",
   "execution_count": 8,
   "metadata": {},
   "outputs": [
    {
     "name": "stdout",
     "output_type": "stream",
     "text": [
      "|--- total_charge <= 1.39\n",
      "|   |--- customer_service_calls <= 1.10\n",
      "|   |   |--- x2_yes <= 0.50\n",
      "|   |   |   |--- total_intl_calls <= -0.60\n",
      "|   |   |   |   |--- total_intl_calls <= -1.00\n",
      "|   |   |   |   |   |--- total_day_minutes <= 0.62\n",
      "|   |   |   |   |   |   |--- total_day_calls <= -2.30\n",
      "|   |   |   |   |   |   |   |--- total_night_minutes <= 0.47\n",
      "|   |   |   |   |   |   |   |   |--- class: 1\n",
      "|   |   |   |   |   |   |   |--- total_night_minutes >  0.47\n",
      "|   |   |   |   |   |   |   |   |--- class: 0\n",
      "|   |   |   |   |   |   |--- total_day_calls >  -2.30\n",
      "|   |   |   |   |   |   |   |--- total_night_calls <= 0.19\n",
      "|   |   |   |   |   |   |   |   |--- total_eve_minutes <= 2.43\n",
      "|   |   |   |   |   |   |   |   |   |--- x0_TX <= 0.50\n",
      "|   |   |   |   |   |   |   |   |   |   |--- total_eve_charge <= 1.97\n",
      "|   |   |   |   |   |   |   |   |   |   |   |--- truncated branch of depth 5\n",
      "|   |   |   |   |   |   |   |   |   |   |--- total_eve_charge >  1.97\n",
      "|   |   |   |   |   |   |   |   |   |   |   |--- truncated branch of depth 2\n",
      "|   |   |   |   |   |   |   |   |   |--- x0_TX >  0.50\n",
      "|   |   |   |   |   |   |   |   |   |   |--- customer_service_calls <= 0.72\n",
      "|   |   |   |   |   |   |   |   |   |   |   |--- class: 1\n",
      "|   |   |   |   |   |   |   |   |   |   |--- customer_service_calls >  0.72\n",
      "|   |   |   |   |   |   |   |   |   |   |   |--- class: 0\n",
      "|   |   |   |   |   |   |   |   |--- total_eve_minutes >  2.43\n",
      "|   |   |   |   |   |   |   |   |   |--- class: 1\n",
      "|   |   |   |   |   |   |   |--- total_night_calls >  0.19\n",
      "|   |   |   |   |   |   |   |   |--- total_night_calls <= 0.24\n",
      "|   |   |   |   |   |   |   |   |   |--- class: 1\n",
      "|   |   |   |   |   |   |   |   |--- total_night_calls >  0.24\n",
      "|   |   |   |   |   |   |   |   |   |--- customer_service_calls <= -0.42\n",
      "|   |   |   |   |   |   |   |   |   |   |--- number_vmail_messages <= 2.42\n",
      "|   |   |   |   |   |   |   |   |   |   |   |--- truncated branch of depth 6\n",
      "|   |   |   |   |   |   |   |   |   |   |--- number_vmail_messages >  2.42\n",
      "|   |   |   |   |   |   |   |   |   |   |   |--- class: 1\n",
      "|   |   |   |   |   |   |   |   |   |--- customer_service_calls >  -0.42\n",
      "|   |   |   |   |   |   |   |   |   |   |--- customer_service_calls <= 0.32\n",
      "|   |   |   |   |   |   |   |   |   |   |   |--- class: 1\n",
      "|   |   |   |   |   |   |   |   |   |   |--- customer_service_calls >  0.32\n",
      "|   |   |   |   |   |   |   |   |   |   |   |--- truncated branch of depth 6\n",
      "|   |   |   |   |   |--- total_day_minutes >  0.62\n",
      "|   |   |   |   |   |   |--- total_intl_charge <= -0.43\n",
      "|   |   |   |   |   |   |   |--- class: 0\n",
      "|   |   |   |   |   |   |--- total_intl_charge >  -0.43\n",
      "|   |   |   |   |   |   |   |--- number_vmail_messages <= -0.11\n",
      "|   |   |   |   |   |   |   |   |--- total_eve_calls <= 0.60\n",
      "|   |   |   |   |   |   |   |   |   |--- total_night_charge <= 0.27\n",
      "|   |   |   |   |   |   |   |   |   |   |--- total_minutes <= -0.31\n",
      "|   |   |   |   |   |   |   |   |   |   |   |--- class: 0\n",
      "|   |   |   |   |   |   |   |   |   |   |--- total_minutes >  -0.31\n",
      "|   |   |   |   |   |   |   |   |   |   |   |--- truncated branch of depth 5\n",
      "|   |   |   |   |   |   |   |   |   |--- total_night_charge >  0.27\n",
      "|   |   |   |   |   |   |   |   |   |   |--- total_charge <= 0.68\n",
      "|   |   |   |   |   |   |   |   |   |   |   |--- truncated branch of depth 2\n",
      "|   |   |   |   |   |   |   |   |   |   |--- total_charge >  0.68\n",
      "|   |   |   |   |   |   |   |   |   |   |   |--- class: 0\n",
      "|   |   |   |   |   |   |   |   |--- total_eve_calls >  0.60\n",
      "|   |   |   |   |   |   |   |   |   |--- class: 0\n",
      "|   |   |   |   |   |   |   |--- number_vmail_messages >  -0.11\n",
      "|   |   |   |   |   |   |   |   |--- class: 0\n",
      "|   |   |   |   |--- total_intl_calls >  -1.00\n",
      "|   |   |   |   |   |--- class: 1\n",
      "|   |   |   |--- total_intl_calls >  -0.60\n",
      "|   |   |   |   |--- number_vmail_messages <= 1.37\n",
      "|   |   |   |   |   |--- total_charge <= 1.21\n",
      "|   |   |   |   |   |   |--- customer_service_calls <= -0.44\n",
      "|   |   |   |   |   |   |   |--- customer_service_calls <= -1.19\n",
      "|   |   |   |   |   |   |   |   |--- total_eve_minutes <= 0.30\n",
      "|   |   |   |   |   |   |   |   |   |--- account_length <= -0.03\n",
      "|   |   |   |   |   |   |   |   |   |   |--- total_charge <= 0.91\n",
      "|   |   |   |   |   |   |   |   |   |   |   |--- truncated branch of depth 4\n",
      "|   |   |   |   |   |   |   |   |   |   |--- total_charge >  0.91\n",
      "|   |   |   |   |   |   |   |   |   |   |   |--- class: 1\n",
      "|   |   |   |   |   |   |   |   |   |--- account_length >  -0.03\n",
      "|   |   |   |   |   |   |   |   |   |   |--- x0_SC <= 0.50\n",
      "|   |   |   |   |   |   |   |   |   |   |   |--- truncated branch of depth 5\n",
      "|   |   |   |   |   |   |   |   |   |   |--- x0_SC >  0.50\n",
      "|   |   |   |   |   |   |   |   |   |   |   |--- class: 1\n",
      "|   |   |   |   |   |   |   |   |--- total_eve_minutes >  0.30\n",
      "|   |   |   |   |   |   |   |   |   |--- class: 0\n",
      "|   |   |   |   |   |   |   |--- customer_service_calls >  -1.19\n",
      "|   |   |   |   |   |   |   |   |--- class: 1\n",
      "|   |   |   |   |   |   |--- customer_service_calls >  -0.44\n",
      "|   |   |   |   |   |   |   |--- total_eve_minutes <= 0.12\n",
      "|   |   |   |   |   |   |   |   |--- total_intl_calls <= 4.04\n",
      "|   |   |   |   |   |   |   |   |   |--- total_eve_calls <= 0.12\n",
      "|   |   |   |   |   |   |   |   |   |   |--- class: 0\n",
      "|   |   |   |   |   |   |   |   |   |--- total_eve_calls >  0.12\n",
      "|   |   |   |   |   |   |   |   |   |   |--- total_night_calls <= -1.82\n",
      "|   |   |   |   |   |   |   |   |   |   |   |--- truncated branch of depth 2\n",
      "|   |   |   |   |   |   |   |   |   |   |--- total_night_calls >  -1.82\n",
      "|   |   |   |   |   |   |   |   |   |   |   |--- truncated branch of depth 7\n",
      "|   |   |   |   |   |   |   |   |--- total_intl_calls >  4.04\n",
      "|   |   |   |   |   |   |   |   |   |--- total_eve_charge <= -0.60\n",
      "|   |   |   |   |   |   |   |   |   |   |--- class: 1\n",
      "|   |   |   |   |   |   |   |   |   |--- total_eve_charge >  -0.60\n",
      "|   |   |   |   |   |   |   |   |   |   |--- class: 0\n",
      "|   |   |   |   |   |   |   |--- total_eve_minutes >  0.12\n",
      "|   |   |   |   |   |   |   |   |--- total_night_calls <= -0.31\n",
      "|   |   |   |   |   |   |   |   |   |--- total_eve_charge <= 0.13\n",
      "|   |   |   |   |   |   |   |   |   |   |--- class: 1\n",
      "|   |   |   |   |   |   |   |   |   |--- total_eve_charge >  0.13\n",
      "|   |   |   |   |   |   |   |   |   |   |--- x4_390 <= 0.50\n",
      "|   |   |   |   |   |   |   |   |   |   |   |--- truncated branch of depth 4\n",
      "|   |   |   |   |   |   |   |   |   |   |--- x4_390 >  0.50\n",
      "|   |   |   |   |   |   |   |   |   |   |   |--- class: 1\n",
      "|   |   |   |   |   |   |   |   |--- total_night_calls >  -0.31\n",
      "|   |   |   |   |   |   |   |   |   |--- total_intl_minutes <= -0.86\n",
      "|   |   |   |   |   |   |   |   |   |   |--- class: 0\n",
      "|   |   |   |   |   |   |   |   |   |--- total_intl_minutes >  -0.86\n",
      "|   |   |   |   |   |   |   |   |   |   |--- total_minutes <= 1.16\n",
      "|   |   |   |   |   |   |   |   |   |   |   |--- truncated branch of depth 8\n",
      "|   |   |   |   |   |   |   |   |   |   |--- total_minutes >  1.16\n",
      "|   |   |   |   |   |   |   |   |   |   |   |--- truncated branch of depth 4\n",
      "|   |   |   |   |   |--- total_charge >  1.21\n",
      "|   |   |   |   |   |   |--- account_length <= 0.86\n",
      "|   |   |   |   |   |   |   |--- total_night_charge <= 0.91\n",
      "|   |   |   |   |   |   |   |   |--- x1_510 <= 0.50\n",
      "|   |   |   |   |   |   |   |   |   |--- total_eve_charge <= 1.69\n",
      "|   |   |   |   |   |   |   |   |   |   |--- total_night_minutes <= -0.85\n",
      "|   |   |   |   |   |   |   |   |   |   |   |--- class: 0\n",
      "|   |   |   |   |   |   |   |   |   |   |--- total_night_minutes >  -0.85\n",
      "|   |   |   |   |   |   |   |   |   |   |   |--- truncated branch of depth 4\n",
      "|   |   |   |   |   |   |   |   |   |--- total_eve_charge >  1.69\n",
      "|   |   |   |   |   |   |   |   |   |   |--- class: 0\n",
      "|   |   |   |   |   |   |   |   |--- x1_510 >  0.50\n",
      "|   |   |   |   |   |   |   |   |   |--- class: 0\n",
      "|   |   |   |   |   |   |   |--- total_night_charge >  0.91\n",
      "|   |   |   |   |   |   |   |   |--- class: 0\n",
      "|   |   |   |   |   |   |--- account_length >  0.86\n",
      "|   |   |   |   |   |   |   |--- class: 1\n",
      "|   |   |   |   |--- number_vmail_messages >  1.37\n",
      "|   |   |   |   |   |--- number_vmail_messages <= 1.44\n",
      "|   |   |   |   |   |   |--- class: 1\n",
      "|   |   |   |   |   |--- number_vmail_messages >  1.44\n",
      "|   |   |   |   |   |   |--- customer_service_calls <= -0.42\n",
      "|   |   |   |   |   |   |   |--- total_intl_charge <= 1.04\n",
      "|   |   |   |   |   |   |   |   |--- total_calls <= 1.61\n",
      "|   |   |   |   |   |   |   |   |   |--- x4_351 <= 0.50\n",
      "|   |   |   |   |   |   |   |   |   |   |--- total_day_minutes <= -1.46\n",
      "|   |   |   |   |   |   |   |   |   |   |   |--- truncated branch of depth 2\n",
      "|   |   |   |   |   |   |   |   |   |   |--- total_day_minutes >  -1.46\n",
      "|   |   |   |   |   |   |   |   |   |   |   |--- class: 0\n",
      "|   |   |   |   |   |   |   |   |   |--- x4_351 >  0.50\n",
      "|   |   |   |   |   |   |   |   |   |   |--- class: 1\n",
      "|   |   |   |   |   |   |   |   |--- total_calls >  1.61\n",
      "|   |   |   |   |   |   |   |   |   |--- total_calls <= 1.73\n",
      "|   |   |   |   |   |   |   |   |   |   |--- class: 1\n",
      "|   |   |   |   |   |   |   |   |   |--- total_calls >  1.73\n",
      "|   |   |   |   |   |   |   |   |   |   |--- class: 0\n",
      "|   |   |   |   |   |   |   |--- total_intl_charge >  1.04\n",
      "|   |   |   |   |   |   |   |   |--- total_charge <= 0.02\n",
      "|   |   |   |   |   |   |   |   |   |--- class: 0\n",
      "|   |   |   |   |   |   |   |   |--- total_charge >  0.02\n",
      "|   |   |   |   |   |   |   |   |   |--- customer_service_calls <= -1.17\n",
      "|   |   |   |   |   |   |   |   |   |   |--- class: 0\n",
      "|   |   |   |   |   |   |   |   |   |--- customer_service_calls >  -1.17\n",
      "|   |   |   |   |   |   |   |   |   |   |--- total_eve_calls <= -0.57\n",
      "|   |   |   |   |   |   |   |   |   |   |   |--- class: 0\n",
      "|   |   |   |   |   |   |   |   |   |   |--- total_eve_calls >  -0.57\n",
      "|   |   |   |   |   |   |   |   |   |   |   |--- class: 1\n",
      "|   |   |   |   |   |   |--- customer_service_calls >  -0.42\n",
      "|   |   |   |   |   |   |   |--- customer_service_calls <= 0.33\n",
      "|   |   |   |   |   |   |   |   |--- class: 1\n",
      "|   |   |   |   |   |   |   |--- customer_service_calls >  0.33\n",
      "|   |   |   |   |   |   |   |   |--- total_night_charge <= -0.60\n",
      "|   |   |   |   |   |   |   |   |   |--- class: 0\n",
      "|   |   |   |   |   |   |   |   |--- total_night_charge >  -0.60\n",
      "|   |   |   |   |   |   |   |   |   |--- total_calls <= -0.56\n",
      "|   |   |   |   |   |   |   |   |   |   |--- class: 0\n",
      "|   |   |   |   |   |   |   |   |   |--- total_calls >  -0.56\n",
      "|   |   |   |   |   |   |   |   |   |   |--- customer_service_calls <= 1.09\n",
      "|   |   |   |   |   |   |   |   |   |   |   |--- truncated branch of depth 7\n",
      "|   |   |   |   |   |   |   |   |   |   |--- customer_service_calls >  1.09\n",
      "|   |   |   |   |   |   |   |   |   |   |   |--- truncated branch of depth 3\n",
      "|   |   |--- x2_yes >  0.50\n",
      "|   |   |   |--- total_intl_charge <= 0.98\n",
      "|   |   |   |   |--- total_intl_calls <= -0.62\n",
      "|   |   |   |   |   |--- class: 1\n",
      "|   |   |   |   |--- total_intl_calls >  -0.62\n",
      "|   |   |   |   |   |--- total_day_minutes <= -1.39\n",
      "|   |   |   |   |   |   |--- total_day_minutes <= -1.82\n",
      "|   |   |   |   |   |   |   |--- class: 0\n",
      "|   |   |   |   |   |   |--- total_day_minutes >  -1.82\n",
      "|   |   |   |   |   |   |   |--- number_vmail_messages <= 0.42\n",
      "|   |   |   |   |   |   |   |   |--- class: 1\n",
      "|   |   |   |   |   |   |   |--- number_vmail_messages >  0.42\n",
      "|   |   |   |   |   |   |   |   |--- class: 0\n",
      "|   |   |   |   |   |--- total_day_minutes >  -1.39\n",
      "|   |   |   |   |   |   |--- total_intl_minutes <= 0.65\n",
      "|   |   |   |   |   |   |   |--- total_intl_calls <= 4.21\n",
      "|   |   |   |   |   |   |   |   |--- x4_367 <= 0.50\n",
      "|   |   |   |   |   |   |   |   |   |--- total_day_charge <= -1.19\n",
      "|   |   |   |   |   |   |   |   |   |   |--- x1_510 <= 0.50\n",
      "|   |   |   |   |   |   |   |   |   |   |   |--- class: 0\n",
      "|   |   |   |   |   |   |   |   |   |   |--- x1_510 >  0.50\n",
      "|   |   |   |   |   |   |   |   |   |   |   |--- truncated branch of depth 2\n",
      "|   |   |   |   |   |   |   |   |   |--- total_day_charge >  -1.19\n",
      "|   |   |   |   |   |   |   |   |   |   |--- total_minutes <= -1.59\n",
      "|   |   |   |   |   |   |   |   |   |   |   |--- class: 1\n",
      "|   |   |   |   |   |   |   |   |   |   |--- total_minutes >  -1.59\n",
      "|   |   |   |   |   |   |   |   |   |   |   |--- truncated branch of depth 4\n",
      "|   |   |   |   |   |   |   |   |--- x4_367 >  0.50\n",
      "|   |   |   |   |   |   |   |   |   |--- class: 1\n",
      "|   |   |   |   |   |   |   |--- total_intl_calls >  4.21\n",
      "|   |   |   |   |   |   |   |   |--- class: 1\n",
      "|   |   |   |   |   |   |--- total_intl_minutes >  0.65\n",
      "|   |   |   |   |   |   |   |--- total_day_charge <= 0.01\n",
      "|   |   |   |   |   |   |   |   |--- total_night_charge <= 0.30\n",
      "|   |   |   |   |   |   |   |   |   |--- total_minutes <= -2.30\n",
      "|   |   |   |   |   |   |   |   |   |   |--- class: 0\n",
      "|   |   |   |   |   |   |   |   |   |--- total_minutes >  -2.30\n",
      "|   |   |   |   |   |   |   |   |   |   |--- class: 1\n",
      "|   |   |   |   |   |   |   |   |--- total_night_charge >  0.30\n",
      "|   |   |   |   |   |   |   |   |   |--- class: 0\n",
      "|   |   |   |   |   |   |   |--- total_day_charge >  0.01\n",
      "|   |   |   |   |   |   |   |   |--- class: 0\n",
      "|   |   |   |--- total_intl_charge >  0.98\n",
      "|   |   |   |   |--- class: 1\n",
      "|   |--- customer_service_calls >  1.10\n",
      "|   |   |--- total_charge <= -0.23\n",
      "|   |   |   |--- x4_383 <= 0.50\n",
      "|   |   |   |   |--- class: 1\n",
      "|   |   |   |--- x4_383 >  0.50\n",
      "|   |   |   |   |--- class: 0\n",
      "|   |   |--- total_charge >  -0.23\n",
      "|   |   |   |--- customer_service_calls <= 1.86\n",
      "|   |   |   |   |--- class: 1\n",
      "|   |   |   |--- customer_service_calls >  1.86\n",
      "|   |   |   |   |--- total_night_calls <= 0.90\n",
      "|   |   |   |   |   |--- total_day_minutes <= -0.67\n",
      "|   |   |   |   |   |   |--- class: 1\n",
      "|   |   |   |   |   |--- total_day_minutes >  -0.67\n",
      "|   |   |   |   |   |   |--- class: 0\n",
      "|   |   |   |   |--- total_night_calls >  0.90\n",
      "|   |   |   |   |   |--- total_intl_calls <= -0.67\n",
      "|   |   |   |   |   |   |--- class: 1\n",
      "|   |   |   |   |   |--- total_intl_calls >  -0.67\n",
      "|   |   |   |   |   |   |--- class: 0\n",
      "|--- total_charge >  1.39\n",
      "|   |--- x3_yes <= 0.50\n",
      "|   |   |--- class: 1\n",
      "|   |--- x3_yes >  0.50\n",
      "|   |   |--- x2_yes <= 0.50\n",
      "|   |   |   |--- number_vmail_messages <= -0.10\n",
      "|   |   |   |   |--- class: 1\n",
      "|   |   |   |--- number_vmail_messages >  -0.10\n",
      "|   |   |   |   |--- class: 0\n",
      "|   |   |--- x2_yes >  0.50\n",
      "|   |   |   |--- account_length <= 0.03\n",
      "|   |   |   |   |--- total_night_calls <= -0.66\n",
      "|   |   |   |   |   |--- class: 1\n",
      "|   |   |   |   |--- total_night_calls >  -0.66\n",
      "|   |   |   |   |   |--- class: 0\n",
      "|   |   |   |--- account_length >  0.03\n",
      "|   |   |   |   |--- class: 1\n",
      "\n"
     ]
    },
    {
     "name": "stderr",
     "output_type": "stream",
     "text": [
      "/Users/viviandang/opt/anaconda3/lib/python3.7/site-packages/sklearn/utils/deprecation.py:144: FutureWarning: The sklearn.tree.export module is  deprecated in version 0.22 and will be removed in version 0.24. The corresponding classes / functions should instead be imported from sklearn.tree. Anything that cannot be imported from sklearn.tree is now part of the private API.\n",
      "  warnings.warn(message, FutureWarning)\n"
     ]
    }
   ],
   "source": [
    "from sklearn.tree.export import export_text\n",
    "\n",
    "r = export_text(clf, feature_names= features)\n",
    "print(r)"
   ]
  },
  {
   "cell_type": "code",
   "execution_count": 6,
   "metadata": {},
   "outputs": [
    {
     "data": {
      "text/plain": [
       "193"
      ]
     },
     "execution_count": 6,
     "metadata": {},
     "output_type": "execute_result"
    }
   ],
   "source": [
    "clf.tree_.node_count"
   ]
  },
  {
   "cell_type": "code",
   "execution_count": 9,
   "metadata": {
    "scrolled": true
   },
   "outputs": [
    {
     "data": {
      "text/plain": [
       "'Churn_DTree_SMOTE.pdf'"
      ]
     },
     "execution_count": 9,
     "metadata": {},
     "output_type": "execute_result"
    }
   ],
   "source": [
    "import graphviz \n",
    "from sklearn import tree\n",
    "dot_data = tree.export_graphviz(clf, out_file=None, \n",
    "                     feature_names=features,  \n",
    "                     filled=True, rounded=True,  \n",
    "                     special_characters=True)  \n",
    "graph = graphviz.Source(dot_data)  \n",
    "graph.render(\"Churn_DTree_SMOTE\")"
   ]
  },
  {
   "cell_type": "code",
   "execution_count": 10,
   "metadata": {},
   "outputs": [],
   "source": [
    "y_pred_sm = clf.predict(X_sm)"
   ]
  },
  {
   "cell_type": "code",
   "execution_count": 11,
   "metadata": {},
   "outputs": [],
   "source": [
    "from sklearn.metrics import recall_score\n",
    "from sklearn.metrics import precision_score\n",
    "from sklearn.metrics import f1_score"
   ]
  },
  {
   "cell_type": "code",
   "execution_count": 12,
   "metadata": {},
   "outputs": [
    {
     "name": "stdout",
     "output_type": "stream",
     "text": [
      "accuracy score: 1.0\n",
      "recall: 1.0\n",
      "precision: 1.0\n",
      "f1: 1.0\n"
     ]
    }
   ],
   "source": [
    "print ('accuracy score:', clf.score(X_sm, y_sm))\n",
    "print ('recall:', recall_score(y_sm, y_pred_sm))\n",
    "print ('precision:', precision_score(y_sm, y_pred_sm))\n",
    "print ('f1:', f1_score(y_sm, y_pred_sm))"
   ]
  },
  {
   "cell_type": "markdown",
   "metadata": {},
   "source": [
    "### Hyperparameter with Gridsearch\n",
    "- The best value for max_dept is 5"
   ]
  },
  {
   "cell_type": "code",
   "execution_count": 13,
   "metadata": {},
   "outputs": [],
   "source": [
    "from sklearn.model_selection import GridSearchCV"
   ]
  },
  {
   "cell_type": "code",
   "execution_count": 14,
   "metadata": {},
   "outputs": [
    {
     "name": "stdout",
     "output_type": "stream",
     "text": [
      "Fitting 10 folds for each of 40 candidates, totalling 400 fits\n"
     ]
    },
    {
     "name": "stderr",
     "output_type": "stream",
     "text": [
      "[Parallel(n_jobs=-1)]: Using backend LokyBackend with 12 concurrent workers.\n",
      "[Parallel(n_jobs=-1)]: Done  26 tasks      | elapsed:    2.2s\n",
      "[Parallel(n_jobs=-1)]: Done 400 out of 400 | elapsed:    3.6s finished\n"
     ]
    }
   ],
   "source": [
    "tree_clf = DecisionTreeClassifier()\n",
    "\n",
    "max_depth_params = range(2, 12)\n",
    "\n",
    "max_features_param = [None, 'auto', 'sqrt', 'log2']\n",
    "\n",
    "param_grid = {'max_depth': max_depth_params, 'max_features': max_features_param}\n",
    "\n",
    "gridsearch = GridSearchCV(estimator = tree_clf, \n",
    "                          param_grid = param_grid,\n",
    "                          n_jobs = -1, #parallel computation\n",
    "                          verbose = 1, #give feedback\n",
    "                          cv = 10, #cross-validate 10 times\n",
    "                          scoring = 'roc_auc', #can use multiple scoring  , recall, precision..ect\n",
    "                          return_train_score= True)\n",
    "\n",
    "gridsearch = gridsearch.fit(X_sm, y_sm)"
   ]
  },
  {
   "cell_type": "code",
   "execution_count": 15,
   "metadata": {},
   "outputs": [
    {
     "data": {
      "text/plain": [
       "DecisionTreeClassifier(ccp_alpha=0.0, class_weight=None, criterion='gini',\n",
       "                       max_depth=8, max_features=None, max_leaf_nodes=None,\n",
       "                       min_impurity_decrease=0.0, min_impurity_split=None,\n",
       "                       min_samples_leaf=1, min_samples_split=2,\n",
       "                       min_weight_fraction_leaf=0.0, presort='deprecated',\n",
       "                       random_state=None, splitter='best')"
      ]
     },
     "execution_count": 15,
     "metadata": {},
     "output_type": "execute_result"
    }
   ],
   "source": [
    "## let's see best score and best parameters\n",
    "\n",
    "gridsearch.best_estimator_"
   ]
  },
  {
   "cell_type": "code",
   "execution_count": 16,
   "metadata": {},
   "outputs": [
    {
     "data": {
      "text/plain": [
       "0.951463567839196"
      ]
     },
     "execution_count": 16,
     "metadata": {},
     "output_type": "execute_result"
    }
   ],
   "source": [
    "gridsearch.best_score_"
   ]
  },
  {
   "cell_type": "code",
   "execution_count": 17,
   "metadata": {},
   "outputs": [
    {
     "data": {
      "text/plain": [
       "{'mean_fit_time': array([0.08271172, 0.02711987, 0.01325085, 0.0111486 , 0.03884902,\n",
       "        0.01204863, 0.01265526, 0.01238866, 0.05521488, 0.01391244,\n",
       "        0.01804626, 0.01562221, 0.06660244, 0.01518869, 0.01769879,\n",
       "        0.01493297, 0.06701009, 0.01574953, 0.01619236, 0.01230314,\n",
       "        0.06864669, 0.0145211 , 0.01561446, 0.01371717, 0.07406392,\n",
       "        0.01507432, 0.01465833, 0.01211183, 0.0760524 , 0.01675258,\n",
       "        0.01646428, 0.01379075, 0.07590024, 0.01559763, 0.01491814,\n",
       "        0.0139116 , 0.06935139, 0.01529641, 0.01618633, 0.0122412 ]),\n",
       " 'std_fit_time': array([0.01046982, 0.02037294, 0.0011356 , 0.00203481, 0.00075645,\n",
       "        0.00084431, 0.00127747, 0.00303492, 0.01003778, 0.0021352 ,\n",
       "        0.00439858, 0.00435218, 0.01016137, 0.00349643, 0.00305154,\n",
       "        0.00473098, 0.00709188, 0.00280387, 0.0044578 , 0.00184503,\n",
       "        0.00353986, 0.00142813, 0.00165283, 0.00179141, 0.00271084,\n",
       "        0.00169798, 0.00225121, 0.00172245, 0.00516833, 0.00221198,\n",
       "        0.00344391, 0.002519  , 0.01558242, 0.00309975, 0.00123663,\n",
       "        0.00293323, 0.01976449, 0.00276345, 0.00287027, 0.00130762]),\n",
       " 'mean_score_time': array([0.00569096, 0.005002  , 0.00419514, 0.00303707, 0.00380623,\n",
       "        0.00350745, 0.00374334, 0.00435154, 0.00883274, 0.0058712 ,\n",
       "        0.00753157, 0.00646911, 0.00416808, 0.00608013, 0.00419683,\n",
       "        0.00605247, 0.00448337, 0.00411587, 0.00493801, 0.00434847,\n",
       "        0.00419462, 0.00405285, 0.00389364, 0.00404916, 0.0037487 ,\n",
       "        0.00375135, 0.00395091, 0.00379734, 0.00411134, 0.00423822,\n",
       "        0.0039933 , 0.00431993, 0.00316057, 0.00389125, 0.00368407,\n",
       "        0.00439124, 0.00280709, 0.0033618 , 0.00359633, 0.00355942]),\n",
       " 'std_score_time': array([0.00157975, 0.00061441, 0.00021188, 0.00036593, 0.0004289 ,\n",
       "        0.00024235, 0.00053249, 0.00149168, 0.00767082, 0.00209796,\n",
       "        0.00380505, 0.00422852, 0.00034172, 0.00321318, 0.00067445,\n",
       "        0.00253158, 0.00244657, 0.00065675, 0.00230866, 0.00126481,\n",
       "        0.00085544, 0.00029401, 0.00026198, 0.00062211, 0.00026519,\n",
       "        0.00048461, 0.00081619, 0.00029484, 0.00071857, 0.00071004,\n",
       "        0.00072468, 0.00125107, 0.00068059, 0.00125325, 0.00019025,\n",
       "        0.00097566, 0.00087066, 0.00060223, 0.00042073, 0.00035173]),\n",
       " 'param_max_depth': masked_array(data=[2, 2, 2, 2, 3, 3, 3, 3, 4, 4, 4, 4, 5, 5, 5, 5, 6, 6,\n",
       "                    6, 6, 7, 7, 7, 7, 8, 8, 8, 8, 9, 9, 9, 9, 10, 10, 10,\n",
       "                    10, 11, 11, 11, 11],\n",
       "              mask=[False, False, False, False, False, False, False, False,\n",
       "                    False, False, False, False, False, False, False, False,\n",
       "                    False, False, False, False, False, False, False, False,\n",
       "                    False, False, False, False, False, False, False, False,\n",
       "                    False, False, False, False, False, False, False, False],\n",
       "        fill_value='?',\n",
       "             dtype=object),\n",
       " 'param_max_features': masked_array(data=[None, 'auto', 'sqrt', 'log2', None, 'auto', 'sqrt',\n",
       "                    'log2', None, 'auto', 'sqrt', 'log2', None, 'auto',\n",
       "                    'sqrt', 'log2', None, 'auto', 'sqrt', 'log2', None,\n",
       "                    'auto', 'sqrt', 'log2', None, 'auto', 'sqrt', 'log2',\n",
       "                    None, 'auto', 'sqrt', 'log2', None, 'auto', 'sqrt',\n",
       "                    'log2', None, 'auto', 'sqrt', 'log2'],\n",
       "              mask=[False, False, False, False, False, False, False, False,\n",
       "                    False, False, False, False, False, False, False, False,\n",
       "                    False, False, False, False, False, False, False, False,\n",
       "                    False, False, False, False, False, False, False, False,\n",
       "                    False, False, False, False, False, False, False, False],\n",
       "        fill_value='?',\n",
       "             dtype=object),\n",
       " 'params': [{'max_depth': 2, 'max_features': None},\n",
       "  {'max_depth': 2, 'max_features': 'auto'},\n",
       "  {'max_depth': 2, 'max_features': 'sqrt'},\n",
       "  {'max_depth': 2, 'max_features': 'log2'},\n",
       "  {'max_depth': 3, 'max_features': None},\n",
       "  {'max_depth': 3, 'max_features': 'auto'},\n",
       "  {'max_depth': 3, 'max_features': 'sqrt'},\n",
       "  {'max_depth': 3, 'max_features': 'log2'},\n",
       "  {'max_depth': 4, 'max_features': None},\n",
       "  {'max_depth': 4, 'max_features': 'auto'},\n",
       "  {'max_depth': 4, 'max_features': 'sqrt'},\n",
       "  {'max_depth': 4, 'max_features': 'log2'},\n",
       "  {'max_depth': 5, 'max_features': None},\n",
       "  {'max_depth': 5, 'max_features': 'auto'},\n",
       "  {'max_depth': 5, 'max_features': 'sqrt'},\n",
       "  {'max_depth': 5, 'max_features': 'log2'},\n",
       "  {'max_depth': 6, 'max_features': None},\n",
       "  {'max_depth': 6, 'max_features': 'auto'},\n",
       "  {'max_depth': 6, 'max_features': 'sqrt'},\n",
       "  {'max_depth': 6, 'max_features': 'log2'},\n",
       "  {'max_depth': 7, 'max_features': None},\n",
       "  {'max_depth': 7, 'max_features': 'auto'},\n",
       "  {'max_depth': 7, 'max_features': 'sqrt'},\n",
       "  {'max_depth': 7, 'max_features': 'log2'},\n",
       "  {'max_depth': 8, 'max_features': None},\n",
       "  {'max_depth': 8, 'max_features': 'auto'},\n",
       "  {'max_depth': 8, 'max_features': 'sqrt'},\n",
       "  {'max_depth': 8, 'max_features': 'log2'},\n",
       "  {'max_depth': 9, 'max_features': None},\n",
       "  {'max_depth': 9, 'max_features': 'auto'},\n",
       "  {'max_depth': 9, 'max_features': 'sqrt'},\n",
       "  {'max_depth': 9, 'max_features': 'log2'},\n",
       "  {'max_depth': 10, 'max_features': None},\n",
       "  {'max_depth': 10, 'max_features': 'auto'},\n",
       "  {'max_depth': 10, 'max_features': 'sqrt'},\n",
       "  {'max_depth': 10, 'max_features': 'log2'},\n",
       "  {'max_depth': 11, 'max_features': None},\n",
       "  {'max_depth': 11, 'max_features': 'auto'},\n",
       "  {'max_depth': 11, 'max_features': 'sqrt'},\n",
       "  {'max_depth': 11, 'max_features': 'log2'}],\n",
       " 'split0_test_score': array([0.80542714, 0.51427136, 0.57768844, 0.65576633, 0.90596734,\n",
       "        0.8314196 , 0.57194724, 0.66802764, 0.89586683, 0.5976005 ,\n",
       "        0.67056533, 0.57027638, 0.90850503, 0.70459799, 0.63300251,\n",
       "        0.76380653, 0.9185804 , 0.70724874, 0.77388191, 0.60273869,\n",
       "        0.92492462, 0.79305276, 0.62002513, 0.61081658, 0.93155779,\n",
       "        0.79190955, 0.75630653, 0.70776382, 0.92672111, 0.70100503,\n",
       "        0.89204774, 0.77231156, 0.91920854, 0.71778894, 0.78413317,\n",
       "        0.77758794, 0.9254397 , 0.79530151, 0.80875628, 0.63018844]),\n",
       " 'split1_test_score': array([0.80822864, 0.59920854, 0.59373116, 0.49712312, 0.90173367,\n",
       "        0.61920854, 0.77123116, 0.53850503, 0.90418342, 0.71633166,\n",
       "        0.63344221, 0.70471106, 0.89498744, 0.7308794 , 0.73964824,\n",
       "        0.59556533, 0.89042714, 0.75541457, 0.75114322, 0.76822864,\n",
       "        0.8995603 , 0.78258794, 0.76202261, 0.81626884, 0.91879397,\n",
       "        0.75616834, 0.85919598, 0.57116834, 0.92497487, 0.78273869,\n",
       "        0.83851759, 0.75507538, 0.89567839, 0.84987437, 0.75344221,\n",
       "        0.64414573, 0.91440955, 0.73404523, 0.79060302, 0.79016332]),\n",
       " 'split2_test_score': array([0.82704774, 0.60785176, 0.66350503, 0.54575377, 0.88908291,\n",
       "        0.63812814, 0.73846734, 0.77723618, 0.91067839, 0.69664573,\n",
       "        0.69354271, 0.7205402 , 0.93170854, 0.77540201, 0.80106784,\n",
       "        0.68204774, 0.94361809, 0.73158291, 0.77677136, 0.78126884,\n",
       "        0.95291457, 0.87350503, 0.87717337, 0.73839196, 0.96576633,\n",
       "        0.76439698, 0.90484925, 0.75856784, 0.95748744, 0.82467337,\n",
       "        0.84736181, 0.78896985, 0.95796482, 0.92124372, 0.82903266,\n",
       "        0.78232412, 0.94726131, 0.81968593, 0.87650754, 0.7720603 ]),\n",
       " 'split3_test_score': array([0.80751256, 0.6111809 , 0.59773869, 0.65596734, 0.86658291,\n",
       "        0.81061558, 0.59515075, 0.65403266, 0.89018844, 0.58551508,\n",
       "        0.80074121, 0.65486181, 0.91376884, 0.55319095, 0.86889447,\n",
       "        0.72775126, 0.91874372, 0.83883166, 0.84214824, 0.67829146,\n",
       "        0.93768844, 0.87324121, 0.87146985, 0.78772613, 0.95320352,\n",
       "        0.88452261, 0.87390704, 0.85845477, 0.94842965, 0.8884799 ,\n",
       "        0.86984925, 0.7986809 , 0.94751256, 0.84086683, 0.90355528,\n",
       "        0.91772613, 0.95635678, 0.85905779, 0.88399497, 0.84270101]),\n",
       " 'split4_test_score': array([0.85172111, 0.52866834, 0.6558794 , 0.53266332, 0.9056407 ,\n",
       "        0.53015075, 0.71007538, 0.5623995 , 0.92306533, 0.81855528,\n",
       "        0.85175879, 0.74775126, 0.93221106, 0.86380653, 0.80469849,\n",
       "        0.66747487, 0.94728643, 0.7540201 , 0.82609296, 0.70765075,\n",
       "        0.93658291, 0.80827889, 0.7995603 , 0.7673995 , 0.93903266,\n",
       "        0.91430905, 0.82648241, 0.78292714, 0.93232412, 0.88177136,\n",
       "        0.80611809, 0.6823995 , 0.93855528, 0.80633166, 0.92420854,\n",
       "        0.79173367, 0.92922111, 0.9261809 , 0.85937186, 0.83038945]),\n",
       " 'split5_test_score': array([0.8568593 , 0.6528392 , 0.54296482, 0.5925    , 0.90781407,\n",
       "        0.70709799, 0.7118593 , 0.71923367, 0.92953518, 0.66680905,\n",
       "        0.67526382, 0.74869347, 0.93702261, 0.79638191, 0.78223618,\n",
       "        0.76434673, 0.93752513, 0.82830402, 0.85934673, 0.77459799,\n",
       "        0.94940955, 0.74005025, 0.85011307, 0.66628141, 0.96408291,\n",
       "        0.86379397, 0.71351759, 0.79375628, 0.96038945, 0.84395729,\n",
       "        0.88502513, 0.81003769, 0.9606407 , 0.80854271, 0.86537688,\n",
       "        0.63678392, 0.96237437, 0.86226131, 0.89865578, 0.83577889]),\n",
       " 'split6_test_score': array([0.825     , 0.73874372, 0.65766332, 0.56145729, 0.89003769,\n",
       "        0.71591709, 0.65503769, 0.65422111, 0.92625628, 0.7284799 ,\n",
       "        0.80217337, 0.57305276, 0.94296482, 0.84443467, 0.62056533,\n",
       "        0.74492462, 0.95521357, 0.77477387, 0.78305276, 0.79223618,\n",
       "        0.94942211, 0.75104271, 0.79636935, 0.84346734, 0.95545226,\n",
       "        0.83208543, 0.87846734, 0.83272613, 0.95094221, 0.85820352,\n",
       "        0.84493719, 0.71820352, 0.9519598 , 0.80484925, 0.8505402 ,\n",
       "        0.85189698, 0.96202261, 0.88292714, 0.82853015, 0.78375628]),\n",
       " 'split7_test_score': array([0.83523869, 0.57861809, 0.69211055, 0.66035176, 0.8856407 ,\n",
       "        0.70212312, 0.68890704, 0.76340452, 0.90120603, 0.68124372,\n",
       "        0.67094221, 0.61488693, 0.92194724, 0.73288945, 0.76243719,\n",
       "        0.65624372, 0.94062814, 0.8109799 , 0.76560302, 0.73134422,\n",
       "        0.95270101, 0.79324121, 0.78795226, 0.77797739, 0.97423367,\n",
       "        0.73302764, 0.84349246, 0.76984925, 0.97927136, 0.91001256,\n",
       "        0.8456407 , 0.85438442, 0.97546482, 0.88272613, 0.83070352,\n",
       "        0.83288945, 0.97437186, 0.82982412, 0.88888191, 0.77419598]),\n",
       " 'split8_test_score': array([0.84120603, 0.69816583, 0.54964824, 0.52      , 0.9078392 ,\n",
       "        0.63971106, 0.67236181, 0.67517588, 0.93502513, 0.70255025,\n",
       "        0.83937186, 0.5425    , 0.94292714, 0.77301508, 0.84351759,\n",
       "        0.64850503, 0.94782663, 0.81404523, 0.88080402, 0.73330402,\n",
       "        0.95261307, 0.76506281, 0.7865201 , 0.83018844, 0.96613065,\n",
       "        0.82062814, 0.94026382, 0.74488693, 0.97228643, 0.86503769,\n",
       "        0.76090452, 0.79623116, 0.98226131, 0.83080402, 0.85003769,\n",
       "        0.8734799 , 0.97904523, 0.87694724, 0.88315327, 0.80021357]),\n",
       " 'split9_test_score': array([0.79849246, 0.54272613, 0.57138191, 0.56589196, 0.87275126,\n",
       "        0.72663317, 0.67385678, 0.53919598, 0.91005025, 0.7078392 ,\n",
       "        0.55339196, 0.65846734, 0.92874372, 0.7916206 , 0.72503769,\n",
       "        0.78850503, 0.93879397, 0.78824121, 0.86265075, 0.75743719,\n",
       "        0.94888191, 0.7746608 , 0.85973618, 0.8661809 , 0.94638191,\n",
       "        0.84574121, 0.92619347, 0.78613065, 0.94722362, 0.8783794 ,\n",
       "        0.86204774, 0.84991206, 0.94958543, 0.89065327, 0.86591709,\n",
       "        0.80959799, 0.93634422, 0.83994975, 0.88309045, 0.79996231]),\n",
       " 'mean_test_score': array([0.82567337, 0.60722739, 0.61023116, 0.57874749, 0.89330905,\n",
       "        0.6921005 , 0.67888945, 0.65514322, 0.91260553, 0.69015704,\n",
       "        0.71911935, 0.65357412, 0.92547864, 0.75662186, 0.75811055,\n",
       "        0.70391709, 0.93386432, 0.78034422, 0.8121495 , 0.7327098 ,\n",
       "        0.94046985, 0.79547236, 0.80109422, 0.77046985, 0.95146357,\n",
       "        0.82065829, 0.85226759, 0.76062312, 0.95000503, 0.84342588,\n",
       "        0.84524497, 0.7826206 , 0.94788317, 0.83536809, 0.84569472,\n",
       "        0.79181658, 0.94868467, 0.84261809, 0.86015452, 0.78594095]),\n",
       " 'std_test_score': array([0.01941389, 0.06893356, 0.05006752, 0.05703819, 0.01424455,\n",
       "        0.08528738, 0.05772529, 0.08182531, 0.01441817, 0.06268129,\n",
       "        0.09363553, 0.07231765, 0.01485155, 0.08242777, 0.0775818 ,\n",
       "        0.05960952, 0.0183262 , 0.0411384 , 0.0447624 , 0.05478416,\n",
       "        0.01618902, 0.04345274, 0.07162743, 0.07608551, 0.01661399,\n",
       "        0.05594591, 0.06810129, 0.07485985, 0.01734694, 0.05844638,\n",
       "        0.03654433, 0.05096295, 0.02420999, 0.05408727, 0.04811824,\n",
       "        0.08617964, 0.02062528, 0.05016551, 0.0356066 , 0.05717828]),\n",
       " 'rank_test_score': array([17, 39, 38, 40,  9, 33, 35, 36,  8, 34, 31, 37,  7, 29, 28, 32,  6,\n",
       "        25, 19, 30,  5, 21, 20, 26,  1, 18, 11, 27,  2, 14, 13, 24,  4, 16,\n",
       "        12, 22,  3, 15, 10, 23], dtype=int32),\n",
       " 'split0_train_score': array([0.8280726 , 0.54144524, 0.65629781, 0.6543723 , 0.89396601,\n",
       "        0.83076335, 0.65180438, 0.71776293, 0.91876749, 0.66140169,\n",
       "        0.75024955, 0.64968361, 0.93653833, 0.73783663, 0.63159869,\n",
       "        0.80782426, 0.9528232 , 0.80685476, 0.83671173, 0.6286359 ,\n",
       "        0.96575755, 0.85395974, 0.74270446, 0.67099466, 0.97740491,\n",
       "        0.88023354, 0.89427077, 0.77043849, 0.9837038 , 0.85622057,\n",
       "        0.93744735, 0.85467535, 0.99039494, 0.89507944, 0.94680131,\n",
       "        0.91083404, 0.9937816 , 0.94447007, 0.94933976, 0.80086791]),\n",
       " 'split1_train_score': array([0.82781529, 0.62572848, 0.59464967, 0.51810895, 0.89435995,\n",
       "        0.66363445, 0.76311488, 0.55448707, 0.91796673, 0.76020466,\n",
       "        0.6838665 , 0.75380682, 0.93119343, 0.76612109, 0.80606082,\n",
       "        0.62781855, 0.94765123, 0.8608297 , 0.79500406, 0.78027201,\n",
       "        0.96124318, 0.83271786, 0.83581838, 0.86530669, 0.97342051,\n",
       "        0.89311547, 0.93133534, 0.61720583, 0.98423051, 0.90861959,\n",
       "        0.91354263, 0.84641776, 0.98895999, 0.93883514, 0.85448583,\n",
       "        0.6905156 , 0.99407209, 0.92124095, 0.8919431 , 0.82410587]),\n",
       " 'split2_train_score': array([0.82568397, 0.62700833, 0.65435772, 0.52961719, 0.89699518,\n",
       "        0.6192137 , 0.75798153, 0.77232336, 0.9184058 , 0.72260191,\n",
       "        0.70266268, 0.72312614, 0.9387106 , 0.82175137, 0.83809037,\n",
       "        0.71154562, 0.94924949, 0.76945565, 0.78839002, 0.8090005 ,\n",
       "        0.96124675, 0.89751692, 0.8927879 , 0.76002801, 0.97712279,\n",
       "        0.83228654, 0.9019252 , 0.81103675, 0.98448114, 0.88915944,\n",
       "        0.86421063, 0.80512994, 0.99007947, 0.95442332, 0.84894721,\n",
       "        0.84046705, 0.99484711, 0.90073732, 0.954001  , 0.82836961]),\n",
       " 'split3_train_score': array([0.82784507, 0.5796006 , 0.58526205, 0.66501619, 0.89936612,\n",
       "        0.82717677, 0.62368293, 0.67157301, 0.92102227, 0.60815197,\n",
       "        0.81264571, 0.62849477, 0.94165323, 0.56113787, 0.86046073,\n",
       "        0.7542338 , 0.95251255, 0.85071747, 0.87791533, 0.66477936,\n",
       "        0.96548024, 0.91122178, 0.91514089, 0.85682699, 0.97740491,\n",
       "        0.91428461, 0.91857439, 0.89731483, 0.98325248, 0.94373786,\n",
       "        0.91838145, 0.8319734 , 0.9884823 , 0.88080398, 0.96469235,\n",
       "        0.92807089, 0.99288732, 0.95284073, 0.9508158 , 0.88094977]),\n",
       " 'split4_train_score': array([0.82297585, 0.5409722 , 0.66264509, 0.5150576 , 0.89490635,\n",
       "        0.53703681, 0.68554293, 0.5702837 , 0.91664299, 0.80520438,\n",
       "        0.82501535, 0.74216178, 0.93933982, 0.83437506, 0.78439832,\n",
       "        0.66649534, 0.95192753, 0.75789824, 0.81307269, 0.72215012,\n",
       "        0.96417542, 0.7925199 , 0.78052062, 0.7862573 , 0.97465522,\n",
       "        0.92315545, 0.80694874, 0.78318827, 0.98192874, 0.9000929 ,\n",
       "        0.86413851, 0.71151383, 0.98724727, 0.87983076, 0.95457144,\n",
       "        0.79903065, 0.99267686, 0.97026137, 0.91368749, 0.86540331]),\n",
       " 'split5_train_score': array([0.82232367, 0.65701249, 0.55831994, 0.57217602, 0.8949307 ,\n",
       "        0.66288409, 0.72827608, 0.68938619, 0.91685299, 0.67820722,\n",
       "        0.70387832, 0.7701559 , 0.93867027, 0.80896902, 0.79853947,\n",
       "        0.75438021, 0.94711972, 0.85772221, 0.85075206, 0.7641779 ,\n",
       "        0.95918258, 0.73346403, 0.84729482, 0.6814118 , 0.97320601,\n",
       "        0.8992681 , 0.74663412, 0.76641128, 0.97974282, 0.87404632,\n",
       "        0.897317  , 0.81833679, 0.98619883, 0.89546439, 0.89434646,\n",
       "        0.67439327, 0.99197365, 0.92907405, 0.93963652, 0.8467965 ]),\n",
       " 'split6_train_score': array([0.82643743, 0.73983737, 0.65513444, 0.57745408, 0.89680333,\n",
       "        0.73508617, 0.64825021, 0.64606895, 0.91681235, 0.76209264,\n",
       "        0.80960026, 0.55828861, 0.93866609, 0.85881423, 0.64144059,\n",
       "        0.76801682, 0.95197281, 0.79374794, 0.8003623 , 0.82027098,\n",
       "        0.96472415, 0.75890388, 0.83543715, 0.85636838, 0.97566877,\n",
       "        0.85922462, 0.89602009, 0.85509101, 0.98402253, 0.87861047,\n",
       "        0.85486969, 0.76411896, 0.98974462, 0.88048309, 0.95001179,\n",
       "        0.86891328, 0.99360882, 0.94432009, 0.91367493, 0.85243128]),\n",
       " 'split7_train_score': array([0.82476953, 0.63725255, 0.72065314, 0.65657745, 0.89743146,\n",
       "        0.72720065, 0.70192939, 0.76720816, 0.91947922, 0.71362219,\n",
       "        0.72896238, 0.67223868, 0.93625233, 0.7598163 , 0.77120621,\n",
       "        0.65567045, 0.95163191, 0.82308442, 0.77088175, 0.7060298 ,\n",
       "        0.96488731, 0.84674222, 0.79753197, 0.78491138, 0.97531376,\n",
       "        0.79388241, 0.85960786, 0.80702769, 0.98121328, 0.93725161,\n",
       "        0.87958338, 0.83693475, 0.98775257, 0.92946179, 0.8975712 ,\n",
       "        0.85099137, 0.99319844, 0.91912979, 0.93824748, 0.83878985]),\n",
       " 'split8_train_score': array([0.82407749, 0.67971692, 0.56655831, 0.52034419, 0.89482245,\n",
       "        0.64181235, 0.66475517, 0.68210244, 0.91629356, 0.69431621,\n",
       "        0.82928932, 0.53558961, 0.93783943, 0.76649704, 0.83654019,\n",
       "        0.65323762, 0.94847758, 0.83800042, 0.88284582, 0.73742889,\n",
       "        0.95975163, 0.78983985, 0.79417027, 0.82892609, 0.97143466,\n",
       "        0.85359822, 0.9388066 , 0.78265024, 0.98056994, 0.92509895,\n",
       "        0.83147214, 0.81639235, 0.98861537, 0.89220056, 0.936507  ,\n",
       "        0.90532226, 0.99274727, 0.9200523 , 0.93192129, 0.82043849]),\n",
       " 'split9_train_score': array([0.8285171 , 0.53915122, 0.58350311, 0.59859747, 0.89838437,\n",
       "        0.74654354, 0.6536663 , 0.55657388, 0.91887543, 0.73710148,\n",
       "        0.55713843, 0.70354703, 0.93592214, 0.79915395, 0.76731626,\n",
       "        0.81117944, 0.95189992, 0.83705418, 0.88376398, 0.77330992,\n",
       "        0.96389144, 0.79464672, 0.88492099, 0.88189105, 0.97213166,\n",
       "        0.90236536, 0.94234293, 0.77222658, 0.9789143 , 0.90843301,\n",
       "        0.90844604, 0.8608998 , 0.98539667, 0.93317028, 0.9163556 ,\n",
       "        0.87737048, 0.99066372, 0.89715741, 0.93786858, 0.88253656]),\n",
       " 'mean_train_score': array([0.8258518 , 0.61677254, 0.62373813, 0.58073214, 0.89619659,\n",
       "        0.69913519, 0.68790038, 0.66277697, 0.91811188, 0.71429044,\n",
       "        0.74033085, 0.6737093 , 0.93747857, 0.77144726, 0.77356516,\n",
       "        0.72104021, 0.9505266 , 0.8195365 , 0.82996997, 0.74060554,\n",
       "        0.96303402, 0.82115329, 0.83263275, 0.79729223, 0.97477632,\n",
       "        0.87514143, 0.88364661, 0.7862591 , 0.98220595, 0.90212707,\n",
       "        0.88694088, 0.81463929, 0.9882872 , 0.90797527, 0.91642902,\n",
       "        0.83459089, 0.99304569, 0.92992841, 0.9321136 , 0.84406892]),\n",
       " 'std_train_score': array([0.00212776, 0.06336981, 0.0503827 , 0.0575991 , 0.00175691,\n",
       "        0.08750543, 0.04594319, 0.07676496, 0.00142119, 0.05386274,\n",
       "        0.08052065, 0.076654  , 0.00263977, 0.07864274, 0.07425176,\n",
       "        0.06379866, 0.00205145, 0.0345386 , 0.04008842, 0.0583576 ,\n",
       "        0.00231819, 0.05465888, 0.05187242, 0.07131692, 0.00207099,\n",
       "        0.03829725, 0.05984562, 0.06896309, 0.00191193, 0.02682551,\n",
       "        0.03164378, 0.04341047, 0.001564  , 0.02657836, 0.03933397,\n",
       "        0.08399499, 0.00110697, 0.02187855, 0.01883115, 0.02543632])}"
      ]
     },
     "execution_count": 17,
     "metadata": {},
     "output_type": "execute_result"
    }
   ],
   "source": [
    "gridsearch.cv_results_"
   ]
  },
  {
   "cell_type": "code",
   "execution_count": 18,
   "metadata": {
    "scrolled": true
   },
   "outputs": [
    {
     "data": {
      "text/html": [
       "<div>\n",
       "<style scoped>\n",
       "    .dataframe tbody tr th:only-of-type {\n",
       "        vertical-align: middle;\n",
       "    }\n",
       "\n",
       "    .dataframe tbody tr th {\n",
       "        vertical-align: top;\n",
       "    }\n",
       "\n",
       "    .dataframe thead th {\n",
       "        text-align: right;\n",
       "    }\n",
       "</style>\n",
       "<table border=\"1\" class=\"dataframe\">\n",
       "  <thead>\n",
       "    <tr style=\"text-align: right;\">\n",
       "      <th></th>\n",
       "      <th>params</th>\n",
       "      <th>mean_test_score</th>\n",
       "      <th>std_test_score</th>\n",
       "      <th>rank_test_score</th>\n",
       "      <th>mean_train_score</th>\n",
       "      <th>std_train_score</th>\n",
       "    </tr>\n",
       "  </thead>\n",
       "  <tbody>\n",
       "    <tr>\n",
       "      <td>24</td>\n",
       "      <td>{'max_depth': 8, 'max_features': None}</td>\n",
       "      <td>0.951464</td>\n",
       "      <td>0.016614</td>\n",
       "      <td>1</td>\n",
       "      <td>0.974776</td>\n",
       "      <td>0.002071</td>\n",
       "    </tr>\n",
       "    <tr>\n",
       "      <td>28</td>\n",
       "      <td>{'max_depth': 9, 'max_features': None}</td>\n",
       "      <td>0.950005</td>\n",
       "      <td>0.017347</td>\n",
       "      <td>2</td>\n",
       "      <td>0.982206</td>\n",
       "      <td>0.001912</td>\n",
       "    </tr>\n",
       "    <tr>\n",
       "      <td>36</td>\n",
       "      <td>{'max_depth': 11, 'max_features': None}</td>\n",
       "      <td>0.948685</td>\n",
       "      <td>0.020625</td>\n",
       "      <td>3</td>\n",
       "      <td>0.993046</td>\n",
       "      <td>0.001107</td>\n",
       "    </tr>\n",
       "    <tr>\n",
       "      <td>32</td>\n",
       "      <td>{'max_depth': 10, 'max_features': None}</td>\n",
       "      <td>0.947883</td>\n",
       "      <td>0.024210</td>\n",
       "      <td>4</td>\n",
       "      <td>0.988287</td>\n",
       "      <td>0.001564</td>\n",
       "    </tr>\n",
       "    <tr>\n",
       "      <td>20</td>\n",
       "      <td>{'max_depth': 7, 'max_features': None}</td>\n",
       "      <td>0.940470</td>\n",
       "      <td>0.016189</td>\n",
       "      <td>5</td>\n",
       "      <td>0.963034</td>\n",
       "      <td>0.002318</td>\n",
       "    </tr>\n",
       "    <tr>\n",
       "      <td>16</td>\n",
       "      <td>{'max_depth': 6, 'max_features': None}</td>\n",
       "      <td>0.933864</td>\n",
       "      <td>0.018326</td>\n",
       "      <td>6</td>\n",
       "      <td>0.950527</td>\n",
       "      <td>0.002051</td>\n",
       "    </tr>\n",
       "    <tr>\n",
       "      <td>12</td>\n",
       "      <td>{'max_depth': 5, 'max_features': None}</td>\n",
       "      <td>0.925479</td>\n",
       "      <td>0.014852</td>\n",
       "      <td>7</td>\n",
       "      <td>0.937479</td>\n",
       "      <td>0.002640</td>\n",
       "    </tr>\n",
       "    <tr>\n",
       "      <td>8</td>\n",
       "      <td>{'max_depth': 4, 'max_features': None}</td>\n",
       "      <td>0.912606</td>\n",
       "      <td>0.014418</td>\n",
       "      <td>8</td>\n",
       "      <td>0.918112</td>\n",
       "      <td>0.001421</td>\n",
       "    </tr>\n",
       "    <tr>\n",
       "      <td>4</td>\n",
       "      <td>{'max_depth': 3, 'max_features': None}</td>\n",
       "      <td>0.893309</td>\n",
       "      <td>0.014245</td>\n",
       "      <td>9</td>\n",
       "      <td>0.896197</td>\n",
       "      <td>0.001757</td>\n",
       "    </tr>\n",
       "    <tr>\n",
       "      <td>38</td>\n",
       "      <td>{'max_depth': 11, 'max_features': 'sqrt'}</td>\n",
       "      <td>0.860155</td>\n",
       "      <td>0.035607</td>\n",
       "      <td>10</td>\n",
       "      <td>0.932114</td>\n",
       "      <td>0.018831</td>\n",
       "    </tr>\n",
       "  </tbody>\n",
       "</table>\n",
       "</div>"
      ],
      "text/plain": [
       "                                       params  mean_test_score  \\\n",
       "24     {'max_depth': 8, 'max_features': None}         0.951464   \n",
       "28     {'max_depth': 9, 'max_features': None}         0.950005   \n",
       "36    {'max_depth': 11, 'max_features': None}         0.948685   \n",
       "32    {'max_depth': 10, 'max_features': None}         0.947883   \n",
       "20     {'max_depth': 7, 'max_features': None}         0.940470   \n",
       "16     {'max_depth': 6, 'max_features': None}         0.933864   \n",
       "12     {'max_depth': 5, 'max_features': None}         0.925479   \n",
       "8      {'max_depth': 4, 'max_features': None}         0.912606   \n",
       "4      {'max_depth': 3, 'max_features': None}         0.893309   \n",
       "38  {'max_depth': 11, 'max_features': 'sqrt'}         0.860155   \n",
       "\n",
       "    std_test_score  rank_test_score  mean_train_score  std_train_score  \n",
       "24        0.016614                1          0.974776         0.002071  \n",
       "28        0.017347                2          0.982206         0.001912  \n",
       "36        0.020625                3          0.993046         0.001107  \n",
       "32        0.024210                4          0.988287         0.001564  \n",
       "20        0.016189                5          0.963034         0.002318  \n",
       "16        0.018326                6          0.950527         0.002051  \n",
       "12        0.014852                7          0.937479         0.002640  \n",
       "8         0.014418                8          0.918112         0.001421  \n",
       "4         0.014245                9          0.896197         0.001757  \n",
       "38        0.035607               10          0.932114         0.018831  "
      ]
     },
     "execution_count": 18,
     "metadata": {},
     "output_type": "execute_result"
    }
   ],
   "source": [
    "colums = ['params', 'mean_test_score', \n",
    "          'std_test_score', 'rank_test_score',\n",
    "          'mean_train_score', 'std_train_score']\n",
    "\n",
    "log_reg_results = pd.DataFrame(gridsearch.cv_results_)[colums]\n",
    "log_reg_results.sort_values(by = 'rank_test_score').head(10)"
   ]
  },
  {
   "cell_type": "code",
   "execution_count": 19,
   "metadata": {},
   "outputs": [
    {
     "data": {
      "text/plain": [
       "(40, 6)"
      ]
     },
     "execution_count": 19,
     "metadata": {},
     "output_type": "execute_result"
    }
   ],
   "source": [
    "log_reg_results.shape"
   ]
  },
  {
   "cell_type": "code",
   "execution_count": 20,
   "metadata": {},
   "outputs": [
    {
     "data": {
      "image/png": "[encoded data removed]",
      "text/plain": [
       "<Figure size 432x288 with 1 Axes>"
      ]
     },
     "metadata": {
      "needs_background": "light"
     },
     "output_type": "display_data"
    }
   ],
   "source": [
    "roc_test_scores = gridsearch.cv_results_['mean_test_score']\n",
    "\n",
    "roc_training_scores = gridsearch.cv_results_['mean_train_score']\n",
    "\n",
    "plt.plot(range(40), roc_test_scores, label = 'test')\n",
    "plt.plot(range(40), roc_training_scores, label = 'train')\n",
    "\n",
    "\n",
    "plt.legend()\n",
    "plt.tight_layout()"
   ]
  },
  {
   "cell_type": "code",
   "execution_count": 21,
   "metadata": {},
   "outputs": [],
   "source": [
    "tuned_clf = DecisionTreeClassifier(max_depth = 5)"
   ]
  },
  {
   "cell_type": "code",
   "execution_count": 22,
   "metadata": {},
   "outputs": [
    {
     "data": {
      "text/plain": [
       "DecisionTreeClassifier(ccp_alpha=0.0, class_weight=None, criterion='gini',\n",
       "                       max_depth=5, max_features=None, max_leaf_nodes=None,\n",
       "                       min_impurity_decrease=0.0, min_impurity_split=None,\n",
       "                       min_samples_leaf=1, min_samples_split=2,\n",
       "                       min_weight_fraction_leaf=0.0, presort='deprecated',\n",
       "                       random_state=None, splitter='best')"
      ]
     },
     "execution_count": 22,
     "metadata": {},
     "output_type": "execute_result"
    }
   ],
   "source": [
    "tuned_clf.fit(X_sm,y_sm)"
   ]
  },
  {
   "cell_type": "code",
   "execution_count": 23,
   "metadata": {},
   "outputs": [],
   "source": [
    "features2 = X_sm.columns.tolist()"
   ]
  },
  {
   "cell_type": "code",
   "execution_count": 24,
   "metadata": {},
   "outputs": [
    {
     "data": {
      "text/plain": [
       "35"
      ]
     },
     "execution_count": 24,
     "metadata": {},
     "output_type": "execute_result"
    }
   ],
   "source": [
    "tuned_clf.tree_.node_count"
   ]
  },
  {
   "cell_type": "code",
   "execution_count": 25,
   "metadata": {},
   "outputs": [
    {
     "data": {
      "text/plain": [
       "'Tuned_DTree_SMOTE.pdf'"
      ]
     },
     "execution_count": 25,
     "metadata": {},
     "output_type": "execute_result"
    }
   ],
   "source": [
    "\n",
    "dot_data = tree.export_graphviz(tuned_clf, out_file=None, \n",
    "                     feature_names=features2,  \n",
    "                     filled=True, rounded=True,  \n",
    "                     special_characters=True)  \n",
    "graph = graphviz.Source(dot_data)  \n",
    "graph.render(\"Tuned_DTree_SMOTE\")"
   ]
  },
  {
   "cell_type": "code",
   "execution_count": 27,
   "metadata": {},
   "outputs": [],
   "source": [
    "y_pred_sm = tuned_clf.predict(X_sm)"
   ]
  },
  {
   "cell_type": "code",
   "execution_count": 28,
   "metadata": {},
   "outputs": [
    {
     "name": "stdout",
     "output_type": "stream",
     "text": [
      "accuracy: 0.9157894736842105\n",
      "recall: 0.8315789473684211\n",
      "precision: 1.0\n",
      "f1: 0.9080459770114944\n"
     ]
    }
   ],
   "source": [
    "print ('accuracy:', tuned_clf.score(X_sm, y_sm))\n",
    "print ('recall:', recall_score(y_sm, y_pred_sm))\n",
    "print ('precision:', precision_score(y_sm, y_pred_sm))\n",
    "print ('f1:', f1_score(y_sm, y_pred_sm))"
   ]
  },
  {
   "cell_type": "code",
   "execution_count": 29,
   "metadata": {},
   "outputs": [],
   "source": [
    "import warnings\n",
    "import seaborn as sns\n",
    "import itertools\n",
    "import matplotlib.pyplot as plt\n",
    "%matplotlib inline\n",
    "warnings.filterwarnings('ignore')\n",
    "plt.rcParams[\"figure.figsize\"] = [10, 5]\n",
    "\n",
    "# from https://scikit-learn.org/0.18/auto_examples/model_selection/plot_confusion_matrix.html\n",
    "\n",
    "\n",
    "def plot_confusion_matrix(cm, classes,\n",
    "                          normalize=False,\n",
    "                          title='Confusion matrix',\n",
    "                          cmap=plt.cm.Blues):\n",
    "    \"\"\"\n",
    "    This function prints and plots the confusion matrix.\n",
    "    Normalization can be applied by setting `normalize=True`.\n",
    "    \"\"\"\n",
    "    if normalize:\n",
    "        cm = cm.astype('float') / cm.sum(axis=1)[:, np.newaxis]\n",
    "        print(\"Normalized confusion matrix\")\n",
    "    else:\n",
    "        print('Confusion Matrix, without normalization')\n",
    "\n",
    "    print(cm)\n",
    "\n",
    "    plt.imshow(cm, interpolation='nearest', cmap=cmap)\n",
    "    plt.title(title)\n",
    "    plt.colorbar()\n",
    "    tick_marks = np.arange(len(classes))\n",
    "    plt.xticks(tick_marks, classes, rotation=45)\n",
    "    plt.yticks(tick_marks, classes)\n",
    "\n",
    "    fmt = '.2f' if normalize else 'd'\n",
    "    thresh = cm.max() / 1\n",
    "    for i, j in itertools.product(range(cm.shape[0]), range(cm.shape[1])):\n",
    "        plt.text(j, i, format(cm[i, j], fmt),\n",
    "                 horizontalalignment=\"center\",\n",
    "                 color=\"white\" if cm[i, j] > thresh else \"black\")\n",
    "    plt.tight_layout()\n",
    "    plt.ylabel('True label')\n",
    "    plt.xlabel('Predicted label')\n"
   ]
  },
  {
   "cell_type": "code",
   "execution_count": 31,
   "metadata": {},
   "outputs": [
    {
     "name": "stdout",
     "output_type": "stream",
     "text": [
      "Confusion Matrix, without normalization\n",
      "[[1995    0]\n",
      " [ 336 1659]]\n",
      "              precision    recall  f1-score   support\n",
      "\n",
      "           0       0.86      1.00      0.92      1995\n",
      "           1       1.00      0.83      0.91      1995\n",
      "\n",
      "    accuracy                           0.92      3990\n",
      "   macro avg       0.93      0.92      0.92      3990\n",
      "weighted avg       0.93      0.92      0.92      3990\n",
      "\n"
     ]
    },
    {
     "data": {
      "image/png": "[encoded data removed]",
      "text/plain": [
       "<Figure size 720x360 with 2 Axes>"
      ]
     },
     "metadata": {
      "needs_background": "light"
     },
     "output_type": "display_data"
    }
   ],
   "source": [
    "from sklearn.metrics import confusion_matrix\n",
    "from sklearn.metrics import classification_report\n",
    "\n",
    "cm = confusion_matrix(y_sm, y_pred_sm)\n",
    "classes = ['Maintain', 'Churn']\n",
    "plot_confusion_matrix(cm, classes,\n",
    "                      normalize=False,\n",
    "                      title='Confusion matrix')\n",
    "\n",
    "#Checking performance our model with classification report.\n",
    "print(classification_report(y_sm, y_pred_sm))"
   ]
  }
 ],
 "metadata": {
  "kernelspec": {
   "display_name": "Python 3",
   "language": "python",
   "name": "python3"
  },
  "language_info": {
   "codemirror_mode": {
    "name": "ipython",
    "version": 3
   },
   "file_extension": ".py",
   "mimetype": "text/x-python",
   "name": "python",
   "nbconvert_exporter": "python",
   "pygments_lexer": "ipython3",
   "version": "3.7.4"
  }
 },
 "nbformat": 4,
 "nbformat_minor": 2
}
