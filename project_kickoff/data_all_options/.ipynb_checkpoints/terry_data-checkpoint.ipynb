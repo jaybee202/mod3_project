{
 "cells": [
  {
   "cell_type": "markdown",
   "metadata": {},
   "source": [
    "# Import packages"
   ]
  },
  {
   "cell_type": "code",
   "execution_count": 2,
   "metadata": {},
   "outputs": [],
   "source": [
    "import pandas as pd\n",
    "import numpy as np"
   ]
  },
  {
   "cell_type": "markdown",
   "metadata": {},
   "source": [
    "# Import csv files and create copies"
   ]
  },
  {
   "cell_type": "code",
   "execution_count": 4,
   "metadata": {},
   "outputs": [
    {
     "name": "stderr",
     "output_type": "stream",
     "text": [
      "/Users/algrhythm/opt/anaconda3/lib/python3.7/site-packages/IPython/core/interactiveshell.py:3058: DtypeWarning: Columns (6) have mixed types. Specify dtype option on import or set low_memory=False.\n",
      "  interactivity=interactivity, compiler=compiler, result=result)\n"
     ]
    }
   ],
   "source": [
    "terry_og = pd.read_csv('terry_stops.csv')\n",
    "\n",
    "terry = terry_og.copy()"
   ]
  },
  {
   "cell_type": "code",
   "execution_count": 5,
   "metadata": {},
   "outputs": [
    {
     "name": "stdout",
     "output_type": "stream",
     "text": [
      "<class 'pandas.core.frame.DataFrame'>\n",
      "RangeIndex: 40903 entries, 0 to 40902\n",
      "Data columns (total 23 columns):\n",
      "Subject Age Group           40903 non-null object\n",
      "Subject ID                  40903 non-null int64\n",
      "GO / SC Num                 40903 non-null int64\n",
      "Terry Stop ID               40903 non-null int64\n",
      "Stop Resolution             40903 non-null object\n",
      "Weapon Type                 40903 non-null object\n",
      "Officer ID                  40903 non-null object\n",
      "Officer YOB                 40903 non-null int64\n",
      "Officer Gender              40903 non-null object\n",
      "Officer Race                40903 non-null object\n",
      "Subject Perceived Race      40903 non-null object\n",
      "Subject Perceived Gender    40903 non-null object\n",
      "Reported Date               40903 non-null object\n",
      "Reported Time               40903 non-null object\n",
      "Initial Call Type           40903 non-null object\n",
      "Final Call Type             40903 non-null object\n",
      "Call Type                   40903 non-null object\n",
      "Officer Squad               40370 non-null object\n",
      "Arrest Flag                 40903 non-null object\n",
      "Frisk Flag                  40903 non-null object\n",
      "Precinct                    40903 non-null object\n",
      "Sector                      40903 non-null object\n",
      "Beat                        40903 non-null object\n",
      "dtypes: int64(4), object(19)\n",
      "memory usage: 7.2+ MB\n"
     ]
    }
   ],
   "source": [
    "terry.info()"
   ]
  },
  {
   "cell_type": "code",
   "execution_count": null,
   "metadata": {},
   "outputs": [],
   "source": []
  }
 ],
 "metadata": {
  "kernelspec": {
   "display_name": "Python 3",
   "language": "python",
   "name": "python3"
  },
  "language_info": {
   "codemirror_mode": {
    "name": "ipython",
    "version": 3
   },
   "file_extension": ".py",
   "mimetype": "text/x-python",
   "name": "python",
   "nbconvert_exporter": "python",
   "pygments_lexer": "ipython3",
   "version": "3.7.4"
  }
 },
 "nbformat": 4,
 "nbformat_minor": 2
}
